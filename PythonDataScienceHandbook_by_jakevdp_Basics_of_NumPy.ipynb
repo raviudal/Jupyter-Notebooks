{
  "nbformat": 4,
  "nbformat_minor": 0,
  "metadata": {
    "colab": {
      "name": "PythonDataScienceHandbook-by-jakevdp-Basics-of-NumPy.ipynb",
      "version": "0.3.2",
      "provenance": [],
      "collapsed_sections": [],
      "include_colab_link": true
    },
    "kernelspec": {
      "name": "python3",
      "display_name": "Python 3"
    }
  },
  "cells": [
    {
      "cell_type": "markdown",
      "metadata": {
        "id": "view-in-github",
        "colab_type": "text"
      },
      "source": [
        "<a href=\"https://colab.research.google.com/github/raviudal/Jupyter-Notebooks/blob/master/PythonDataScienceHandbook_by_jakevdp_Basics_of_NumPy.ipynb\" target=\"_parent\"><img src=\"https://colab.research.google.com/assets/colab-badge.svg\" alt=\"Open In Colab\"/></a>"
      ]
    },
    {
      "metadata": {
        "id": "C5ZmMLWzI0GT",
        "colab_type": "text"
      },
      "cell_type": "markdown",
      "source": [
        "## Python Data Science Handbook by Jake VanderPlas <br> https://jakevdp.github.io/PythonDataScienceHandbook"
      ]
    },
    {
      "metadata": {
        "id": "eiOCdgNhIsy7",
        "colab_type": "text"
      },
      "cell_type": "markdown",
      "source": [
        "### The Basics of NumPy Arrays  https://jakevdp.github.io/PythonDataScienceHandbook/02.02-the-basics-of-numpy-arrays.html"
      ]
    },
    {
      "metadata": {
        "id": "3ki7P2dbKOqO",
        "colab_type": "text"
      },
      "cell_type": "markdown",
      "source": [
        "##### Numpy array attributes.\n",
        "We will start by defineing the random method"
      ]
    },
    {
      "metadata": {
        "id": "y8CgYmOeKzqc",
        "colab_type": "code",
        "colab": {}
      },
      "cell_type": "code",
      "source": [
        "import numpy as np\n",
        "n1 = np.random.randint(10, size=6) # for defining one dimentional array od size 6 and values utpo 0 to 10\n",
        "n2 = np.random.randint(10, size=(3,4)) # for defining two dimentional array od size 6 X 3 and values utpo 0 to 10\n",
        "n3 = np.random.randint(10, size=(6,3,3)) # for defining two dimentional array od size 6 X 3 X 3 and values utpo 0 to 10"
      ],
      "execution_count": 0,
      "outputs": []
    },
    {
      "metadata": {
        "id": "zoxVLgHQL0aC",
        "colab_type": "code",
        "colab": {
          "base_uri": "https://localhost:8080/",
          "height": 102
        },
        "outputId": "b9ad02e2-bcff-4bb1-fb02-042d8513c25a"
      },
      "cell_type": "code",
      "source": [
        "# Now each defined array will have some attributes like : ndim, shape, size\n",
        "print('Every numpy array have some attributes, few of them are there;')\n",
        "print('n2 ndim attr :',n2.ndim)\n",
        "print('n2 shape attr :',n2.shape)\n",
        "print('n2 size attr :',n2.size)\n",
        "print('n2 size dtype (Date type) :',n2.dtype)"
      ],
      "execution_count": 36,
      "outputs": [
        {
          "output_type": "stream",
          "text": [
            "Every numpy array have some attributes, few of them are there;\n",
            "n2 ndim attr : 2\n",
            "n2 shape attr : (3, 3)\n",
            "n2 size attr : 9\n",
            "n2 size dtype (Date type) : int64\n"
          ],
          "name": "stdout"
        }
      ]
    },
    {
      "metadata": {
        "id": "i8WKIrZkNjIJ",
        "colab_type": "text"
      },
      "cell_type": "markdown",
      "source": [
        "##### Array Indexing: Accessing Single Elements\n"
      ]
    },
    {
      "metadata": {
        "id": "xhVTEJN1N4O6",
        "colab_type": "code",
        "colab": {
          "base_uri": "https://localhost:8080/",
          "height": 68
        },
        "outputId": "57401e34-a95c-41cb-da48-722c96069ffa"
      },
      "cell_type": "code",
      "source": [
        "# For accesing any array element we have to specify the index number of that array\n",
        "print('Array\\t\\t\\t\\t:',n1)\n",
        "print('Fifth element of the array\\t: ',n1[4])\n",
        "print('Last element of the array\\t: ',n1[-1],',',n1[-2] )\n"
      ],
      "execution_count": 26,
      "outputs": [
        {
          "output_type": "stream",
          "text": [
            "Array\t\t\t\t: [9 6 0 4 2 5]\n",
            "Fifth element of the array\t:  2\n",
            "Last element of the array\t:  5 , 2\n"
          ],
          "name": "stdout"
        }
      ]
    },
    {
      "metadata": {
        "id": "WKmlzFMzejR6",
        "colab_type": "code",
        "colab": {
          "base_uri": "https://localhost:8080/",
          "height": 136
        },
        "outputId": "8923327c-d303-4763-8e6e-4a0b4552adf0"
      },
      "cell_type": "code",
      "source": [
        "# For selecting from the 2-D array\n",
        "print(n2)\n",
        "print('selecting specific element: ',n2[0,1])\n",
        "\n",
        "# Or we can change the specific element\n",
        "n2[0,1] = 9\n",
        "print(n2)"
      ],
      "execution_count": 37,
      "outputs": [
        {
          "output_type": "stream",
          "text": [
            "[[7 8 9]\n",
            " [9 0 4]\n",
            " [6 1 4]]\n",
            "selecting specific element:  8\n",
            "[[7 9 9]\n",
            " [9 0 4]\n",
            " [6 1 4]]\n"
          ],
          "name": "stdout"
        }
      ]
    },
    {
      "metadata": {
        "id": "WyIewX3Wgtw-",
        "colab_type": "text"
      },
      "cell_type": "markdown",
      "source": [
        "##### Array Slicing: Accessing Subarrays"
      ]
    },
    {
      "metadata": {
        "id": "4bYJSWn4gviw",
        "colab_type": "code",
        "colab": {
          "base_uri": "https://localhost:8080/",
          "height": 102
        },
        "outputId": "9efa22aa-41a6-4616-861f-76d4e2b0d5fa"
      },
      "cell_type": "code",
      "source": [
        "## Proper syntax for slicing is  ->      x[start:stop:step]\n",
        "print(n1)\n",
        "print('slice upto 3rd element:', n1[:3])\n",
        "print('slice 2nd to 5th element:', n1[1:5])\n",
        "print('slice upto 3rd element:', n1[:3])\n",
        "print('slice and step of 2 elements:', n1[::2])\n"
      ],
      "execution_count": 44,
      "outputs": [
        {
          "output_type": "stream",
          "text": [
            "[1 3 7 7 1 1]\n",
            "slice upto 3rd element: [1 3 7]\n",
            "slice 2nd to 5th element: [3 7 7 1]\n",
            "slice upto 3rd element: [1 3 7]\n",
            "slice and step to 2: [1 7 1]\n"
          ],
          "name": "stdout"
        }
      ]
    },
    {
      "metadata": {
        "id": "gYbNcytBllFs",
        "colab_type": "text"
      },
      "cell_type": "markdown",
      "source": [
        "##### Multi-dimensional subarrays"
      ]
    },
    {
      "metadata": {
        "id": "lUp07XjAlnEV",
        "colab_type": "code",
        "colab": {
          "base_uri": "https://localhost:8080/",
          "height": 204
        },
        "outputId": "7584a9cc-a97f-4354-d4b9-31462026097b"
      },
      "cell_type": "code",
      "source": [
        "print(n2)\n",
        "print('\\n two rows, three columns\\n', n2[:2][:3])\n",
        "print('\\n # all rows, every other column\\n', n2[:3][::2])"
      ],
      "execution_count": 51,
      "outputs": [
        {
          "output_type": "stream",
          "text": [
            "[[1 6 5 4]\n",
            " [3 3 6 8]\n",
            " [8 5 3 6]]\n",
            "\n",
            " two rows, three columns\n",
            " [[1 6 5 4]\n",
            " [3 3 6 8]]\n",
            "\n",
            " # all rows, every other column\n",
            " [[1 6 5 4]\n",
            " [8 5 3 6]]\n"
          ],
          "name": "stdout"
        }
      ]
    },
    {
      "metadata": {
        "id": "-lnJYqXi0ayc",
        "colab_type": "text"
      },
      "cell_type": "markdown",
      "source": [
        "##### Subarrays as no-copy views\n",
        "One important–and extremely useful–thing to know about array slices is that they return views rather than copies of the array data. This is one area in which NumPy array slicing differs from Python list slicing: in lists, slices will be copies. "
      ]
    },
    {
      "metadata": {
        "id": "Zx-V2q0R0Z9H",
        "colab_type": "code",
        "colab": {
          "base_uri": "https://localhost:8080/",
          "height": 221
        },
        "outputId": "231f8c63-8e59-41a4-c70a-d0e54655e13a"
      },
      "cell_type": "code",
      "source": [
        "print(n2)\n",
        "n2_sub = n2[:2,:2]\n",
        "print('\\nNew Sub array is: \\n', n2_sub)\n",
        "n2_sub[0,0] = 99\n",
        "print('\\nNew Sub array is: \\n', n2)"
      ],
      "execution_count": 58,
      "outputs": [
        {
          "output_type": "stream",
          "text": [
            "[[2 8 7 9]\n",
            " [5 2 5 0]\n",
            " [9 5 5 6]]\n",
            "\n",
            "New Sub array is: \n",
            " [[2 8]\n",
            " [5 2]]\n",
            "\n",
            "New Sub array is: \n",
            " [[99  8  7  9]\n",
            " [ 5  2  5  0]\n",
            " [ 9  5  5  6]]\n"
          ],
          "name": "stdout"
        }
      ]
    },
    {
      "metadata": {
        "id": "7fDHhg6O1kcg",
        "colab_type": "code",
        "colab": {
          "base_uri": "https://localhost:8080/",
          "height": 221
        },
        "outputId": "6dff66b5-8275-47c6-93bc-eae737e39ab1"
      },
      "cell_type": "code",
      "source": [
        "#  Creating copies of arrays\n",
        "n2_sub_copy = n2[:2,:2].copy()\n",
        "print('Copied array: \\n', n2_sub_copy)\n",
        "n2_sub_copy[0,0] = 40\n",
        "print('\\nModified Copied array: \\n', n2_sub_copy)\n",
        "print('\\nOriginal array :\\n', n2)\n"
      ],
      "execution_count": 61,
      "outputs": [
        {
          "output_type": "stream",
          "text": [
            "Copied array: \n",
            " [[99  8]\n",
            " [ 5  2]]\n",
            "\n",
            "Modified Copied array: \n",
            " [[40  8]\n",
            " [ 5  2]]\n",
            "\n",
            "Original array :\n",
            " [[99  8  7  9]\n",
            " [ 5  2  5  0]\n",
            " [ 9  5  5  6]]\n"
          ],
          "name": "stdout"
        }
      ]
    },
    {
      "metadata": {
        "id": "AWHIUpwM-zhH",
        "colab_type": "text"
      },
      "cell_type": "markdown",
      "source": [
        "##### Reshaping of Arrays\n",
        "Reshaping can be done by using the reshaping method of the np array"
      ]
    },
    {
      "metadata": {
        "id": "SgYv8IMP_F9I",
        "colab_type": "code",
        "colab": {
          "base_uri": "https://localhost:8080/",
          "height": 68
        },
        "outputId": "878374ac-8d78-4ecc-af5c-02ae740268f3"
      },
      "cell_type": "code",
      "source": [
        "grid = np.arange(1, 10).reshape((3, 3))\n",
        "print(grid)"
      ],
      "execution_count": 62,
      "outputs": [
        {
          "output_type": "stream",
          "text": [
            "[[1 2 3]\n",
            " [4 5 6]\n",
            " [7 8 9]]\n"
          ],
          "name": "stdout"
        }
      ]
    },
    {
      "metadata": {
        "id": "vEXftU5R_zjF",
        "colab_type": "text"
      },
      "cell_type": "markdown",
      "source": [
        "##### Array Concatenation and Splitting\n",
        "Concatenation, or joining of two arrays in NumPy, is primarily accomplished using the routines `np.concatenate`,` np.vstack`, and `np.hstack`. `np.concatenate` takes a tuple or list of arrays as its first argument"
      ]
    },
    {
      "metadata": {
        "id": "NO0S20vZ_P8V",
        "colab_type": "code",
        "colab": {
          "base_uri": "https://localhost:8080/",
          "height": 85
        },
        "outputId": "3df32ac6-587c-4a7e-e588-d7040222ce36"
      },
      "cell_type": "code",
      "source": [
        "## Concatinating two arrays\n",
        "x = np.array([1, 2, 3])\n",
        "y = np.array([3, 2, 1])\n",
        "print(np.concatenate([x, y]))\n",
        "\n",
        "# Concatinating more than 2 arrays\n",
        "z = [99, 99, 99]\n",
        "print('\\n')\n",
        "print(np.concatenate([x, y, z]))"
      ],
      "execution_count": 69,
      "outputs": [
        {
          "output_type": "stream",
          "text": [
            "[1 2 3 3 2 1]\n",
            "\n",
            "\n",
            "[ 1  2  3  3  2  1 99 99 99]\n"
          ],
          "name": "stdout"
        }
      ]
    },
    {
      "metadata": {
        "id": "55WlpmGUAOfw",
        "colab_type": "code",
        "colab": {
          "base_uri": "https://localhost:8080/",
          "height": 170
        },
        "outputId": "a7e32827-e6b5-4398-e4cc-04b06a861452"
      },
      "cell_type": "code",
      "source": [
        "## It can also be used for two-dimensional arrays:\n",
        "grid = np.array([[1, 2, 3],\n",
        "                 [4, 5, 6]])\n",
        "\n",
        "np.concatenate([grid, grid] ,axis=1) # axis =0 can be used for vertical concatenation\n",
        "\n",
        "## But we can use vstack for verical stacking and hstack for horizontal stacking\n",
        "\n",
        "print('Veritcal stacking:\\n',np.vstack([grid, grid]))\n",
        "print('\\nHorizontal stacking:\\n',np.hstack([grid, grid]))"
      ],
      "execution_count": 79,
      "outputs": [
        {
          "output_type": "stream",
          "text": [
            "Veritcal stacking:\n",
            " [[1 2 3]\n",
            " [4 5 6]\n",
            " [1 2 3]\n",
            " [4 5 6]]\n",
            "\n",
            "Horizontal stacking:\n",
            " [[1 2 3 1 2 3]\n",
            " [4 5 6 4 5 6]]\n"
          ],
          "name": "stdout"
        }
      ]
    },
    {
      "metadata": {
        "id": "DkNo3nLiAOmT",
        "colab_type": "code",
        "colab": {
          "base_uri": "https://localhost:8080/",
          "height": 34
        },
        "outputId": "4bbceb5e-c198-4be6-d3cb-4b3840a0c510"
      },
      "cell_type": "code",
      "source": [
        "## Splitting of arrays\n",
        "x = np.arange(10)\n",
        "x1,x2,x3 = np.split(x,[3,5])\n",
        "print(x1,',',x2,',',x3)\n",
        "\n",
        "# Split takes the list of index on wich we want the spliting\n",
        "\n"
      ],
      "execution_count": 84,
      "outputs": [
        {
          "output_type": "stream",
          "text": [
            "[0 1 2] , [3 4] , [5 6 7 8 9]\n"
          ],
          "name": "stdout"
        }
      ]
    },
    {
      "metadata": {
        "id": "n2PlRqqvOXLo",
        "colab_type": "text"
      },
      "cell_type": "markdown",
      "source": [
        "### [Computation on NumPy Arrays: Universal Functions](https://jakevdp.github.io/PythonDataScienceHandbook/02.03-computation-on-arrays-ufuncs.html)\n",
        "Generally python functions are slow due to its interpretable language property.<br>\n",
        "So if we want ot perform operations on the numpy array then we must perform operation using UFuncs which is nothing but simply scalar operation on the arrays."
      ]
    },
    {
      "metadata": {
        "id": "fGDzeFe2AOqL",
        "colab_type": "code",
        "colab": {
          "base_uri": "https://localhost:8080/",
          "height": 34
        },
        "outputId": "7e234868-fe3f-46f3-f155-7f3fbd6d89a8"
      },
      "cell_type": "code",
      "source": [
        "# Suppose we want to calculate the reciprocal of the array then we may right below function (which is show while executing)\n",
        "x = np.arange(10000)\n",
        "\n",
        "def recirocal(ar):\n",
        "  temp = np.empty(len(ar))\n",
        "  for i in range(len(ar)):\n",
        "    temp[i] = 1/ar[1]\n",
        "  return temp\n",
        "\n",
        "%timeit recirocal(x)\n",
        "   \n",
        "# Below is the time taken by the python loop"
      ],
      "execution_count": 92,
      "outputs": [
        {
          "output_type": "stream",
          "text": [
            "100 loops, best of 3: 2.69 ms per loop\n"
          ],
          "name": "stdout"
        }
      ]
    },
    {
      "metadata": {
        "id": "AcvtVmRjAOt2",
        "colab_type": "code",
        "colab": {
          "base_uri": "https://localhost:8080/",
          "height": 85
        },
        "outputId": "5a4bfd32-05a3-437b-9e29-5a3f486363c0"
      },
      "cell_type": "code",
      "source": [
        "# But if we are using the UFuncs of numpy then\n",
        "\n",
        "%timeit 1/x"
      ],
      "execution_count": 93,
      "outputs": [
        {
          "output_type": "stream",
          "text": [
            "/usr/local/lib/python3.6/dist-packages/ipykernel_launcher.py:1: RuntimeWarning: divide by zero encountered in true_divide\n",
            "  \"\"\"Entry point for launching an IPython kernel.\n"
          ],
          "name": "stderr"
        },
        {
          "output_type": "stream",
          "text": [
            "The slowest run took 23.61 times longer than the fastest. This could mean that an intermediate result is being cached.\n",
            "10000 loops, best of 3: 27.1 µs per loop\n"
          ],
          "name": "stdout"
        }
      ]
    },
    {
      "metadata": {
        "id": "6F1c-_RaXV5a",
        "colab_type": "text"
      },
      "cell_type": "markdown",
      "source": [
        "##### Exploring NumPy's UFuncs"
      ]
    },
    {
      "metadata": {
        "id": "-SAg__VlAOxT",
        "colab_type": "code",
        "colab": {}
      },
      "cell_type": "code",
      "source": [
        "# Array arithmetic\n",
        "x = np.arange(4)\n",
        "print(\"x     =\", x)\n",
        "print(\"x + 5 =\", x + 5)\n",
        "print(\"x - 5 =\", x - 5)\n",
        "print(\"x * 2 =\", x * 2)\n",
        "print(\"x / 2 =\", x / 2)\n",
        "print(\"x // 2 =\", x // 2)\n",
        "print(\"-x     = \", -x)\n",
        "print(\"x ** 2 = \", x ** 2)\n",
        "print(\"x % 2  = \", x % 2)"
      ],
      "execution_count": 0,
      "outputs": []
    },
    {
      "metadata": {
        "id": "GSuQLxyxAO0a",
        "colab_type": "code",
        "colab": {
          "base_uri": "https://localhost:8080/",
          "height": 85
        },
        "outputId": "e92b3435-6014-448e-9d47-766a535aeeef"
      },
      "cell_type": "code",
      "source": [
        "# Absolute value\n",
        "x = np.array([-2, -1, 0, 1, 2])\n",
        "%timeit abs(x)\n",
        "%timeit np.abs(x)\n",
        "# x = np.array([3 - 4j, 4 - 3j, 2 + 0j, 0 + 1j])\n",
        "# np.abs(x)"
      ],
      "execution_count": 99,
      "outputs": [
        {
          "output_type": "stream",
          "text": [
            "The slowest run took 38.83 times longer than the fastest. This could mean that an intermediate result is being cached.\n",
            "1000000 loops, best of 3: 501 ns per loop\n",
            "The slowest run took 22.92 times longer than the fastest. This could mean that an intermediate result is being cached.\n",
            "1000000 loops, best of 3: 470 ns per loop\n"
          ],
          "name": "stdout"
        }
      ]
    },
    {
      "metadata": {
        "id": "ReKKZklFAO3z",
        "colab_type": "code",
        "colab": {
          "base_uri": "https://localhost:8080/",
          "height": 85
        },
        "outputId": "a3170aca-bfa2-4553-9a83-68344407238e"
      },
      "cell_type": "code",
      "source": [
        "# Trigonometric functions\n",
        "\n",
        "theta = np.linspace(0, np.pi, 3)\n",
        "print(\"theta      = \", theta)\n",
        "print(\"sin(theta) = \", np.sin(theta))\n",
        "print(\"cos(theta) = \", np.cos(theta))\n",
        "print(\"tan(theta) = \", np.tan(theta))\n",
        "\n",
        "\n",
        "# Inverse Trigonometric functions are also available:\n",
        "\n",
        "x = [-1, 0, 1]\n",
        "print(\"x         = \", x)\n",
        "print(\"arcsin(x) = \", np.arcsin(x))\n",
        "print(\"arccos(x) = \", np.arccos(x))\n",
        "print(\"arctan(x) = \", np.arctan(x))"
      ],
      "execution_count": 100,
      "outputs": [
        {
          "output_type": "stream",
          "text": [
            "theta      =  [0.         1.57079633 3.14159265]\n",
            "sin(theta) =  [0.0000000e+00 1.0000000e+00 1.2246468e-16]\n",
            "cos(theta) =  [ 1.000000e+00  6.123234e-17 -1.000000e+00]\n",
            "tan(theta) =  [ 0.00000000e+00  1.63312394e+16 -1.22464680e-16]\n"
          ],
          "name": "stdout"
        }
      ]
    },
    {
      "metadata": {
        "id": "h-ZKxuPyAO6-",
        "colab_type": "code",
        "colab": {}
      },
      "cell_type": "code",
      "source": [
        "# Exponents and logarithms\n",
        "\n",
        "x = [1, 2, 3]\n",
        "print(\"x     =\", x)\n",
        "print(\"e^x   =\", np.exp(x))\n",
        "print(\"2^x   =\", np.exp2(x))\n",
        "print(\"3^x   =\", np.power(3, x))\n",
        "\n",
        "# Inverse of the exponentials\n",
        "\n",
        "x = [1, 2, 4, 10]\n",
        "print(\"x        =\", x)\n",
        "print(\"ln(x)    =\", np.log(x))\n",
        "print(\"log2(x)  =\", np.log2(x))\n",
        "print(\"log10(x) =\", np.log10(x))\n"
      ],
      "execution_count": 0,
      "outputs": []
    },
    {
      "metadata": {
        "id": "SGnsqPPudQ2-",
        "colab_type": "text"
      },
      "cell_type": "markdown",
      "source": [
        "##### Advanced Ufunc Features"
      ]
    },
    {
      "metadata": {
        "id": "LWflM3dNAO-L",
        "colab_type": "code",
        "colab": {
          "base_uri": "https://localhost:8080/",
          "height": 85
        },
        "outputId": "c15faf2b-bb90-4e7b-8abc-9a30b031d176"
      },
      "cell_type": "code",
      "source": [
        "# **Specifying output**\n",
        "# For large calculations, it is sometimes useful to be able to specify the array where the result of the calculation will be stored. Rather than creating a \n",
        "# temporary array, this can be used to write computation results directly to the memory location where you'd like them to be. For all ufuncs, this can be done \n",
        "# using the out argument of the function:\n",
        "x = np.arange(5)\n",
        "y = np.empty(5)\n",
        "np.multiply(x, 10, out=y)\n",
        "print(y)\n",
        "\n",
        "\n",
        "\n",
        "# **Aggregates**\n",
        "# For binary ufuncs, there are some interesting aggregates that can be computed directly from the object. For example, if we'd like to reduce an array with a \n",
        "# particular operation, we can use the reduce method of any ufunc. A reduce repeatedly applies a given operation to the elements of an array until only a single \n",
        "# result remains.\n",
        "x = np.arange(1, 6)\n",
        "print('Adding all the values of the array using UFuncs: ',np.add.reduce(x))\n",
        "# Simmilarly\n",
        "print('Adding all the values of the array using UFuncs: ',np.multiply.reduce(x))\n",
        "\n",
        "\n",
        "# If we'd like to store all the intermediate results of the computation, we can instead use accumulate:\n",
        "print('Accumulation of the array with stored result: ',np.add.accumulate(x))"
      ],
      "execution_count": 102,
      "outputs": [
        {
          "output_type": "stream",
          "text": [
            "[ 0. 10. 20. 30. 40.]\n",
            "Adding all the values of the array using UFuncs 15\n",
            "Adding all the values of the array using UFuncs 120\n",
            "Accumulation of the array with stored result:  [ 1  3  6 10 15]\n"
          ],
          "name": "stdout"
        }
      ]
    },
    {
      "metadata": {
        "id": "yK2Mz-3agq4v",
        "colab_type": "text"
      },
      "cell_type": "markdown",
      "source": [
        "### [Aggregations: Min, Max, and Everything In Between](https://jakevdp.github.io/PythonDataScienceHandbook/02.04-computation-on-arrays-aggregates.html)"
      ]
    },
    {
      "metadata": {
        "id": "jJwzXAK0APBK",
        "colab_type": "code",
        "colab": {
          "base_uri": "https://localhost:8080/",
          "height": 119
        },
        "outputId": "2e340d6a-ecc9-426b-bace-d2c56c673944"
      },
      "cell_type": "code",
      "source": [
        "# Summing\n",
        "\n",
        "x = np.random.random(100)\n",
        "\n",
        "print('np.sum',np.sum(x))\n",
        "print('np.min',np.min(x)) \n",
        "print('np.max',np.max(x))\n",
        "print('\\n')\n",
        "\n",
        "# Multi dimensional aggregates\n",
        "x = x.reshape(10,10)\n",
        "\n",
        "print('np.sum',np.sum(x))"
      ],
      "execution_count": 109,
      "outputs": [
        {
          "output_type": "stream",
          "text": [
            "np.sum 43.39128374967406\n",
            "np.min 0.006655743945536474\n",
            "np.max 0.9983456789086161\n",
            "\n",
            "\n",
            "np.sum 43.39128374967406\n"
          ],
          "name": "stdout"
        }
      ]
    },
    {
      "metadata": {
        "id": "KItZKQeRjpON",
        "colab_type": "text"
      },
      "cell_type": "markdown",
      "source": [
        "### [Computation on Arrays: Broadcasting](https://jakevdp.github.io/PythonDataScienceHandbook/02.05-computation-on-arrays-broadcasting.html)"
      ]
    },
    {
      "metadata": {
        "id": "eR43GHtVkgUl",
        "colab_type": "text"
      },
      "cell_type": "markdown",
      "source": [
        "##### Introducing Broadcasting\n",
        "Broadcasting allows these types of binary operations to be performed on arrays of different sizes."
      ]
    },
    {
      "metadata": {
        "id": "slb_Mx6CAPHt",
        "colab_type": "code",
        "colab": {
          "base_uri": "https://localhost:8080/",
          "height": 85
        },
        "outputId": "b270318b-ada4-4d25-8f65-2c6550aecf8d"
      },
      "cell_type": "code",
      "source": [
        "a = np.array([0, 1, 2])\n",
        "print(a)\n",
        "print('After Broadcasing and adding 5 :')\n",
        "print(a + 5)\n",
        "print('We can think of this as an operation that stretches or duplicates the value 5 into the array [5, 5, 5], and adds the results.')"
      ],
      "execution_count": 6,
      "outputs": [
        {
          "output_type": "stream",
          "text": [
            "[0 1 2]\n",
            "After Broadcasing and adding 5 :\n",
            "[5 6 7]\n",
            "We can think of this as an operation that stretches or duplicates the value 5 into the array [5, 5, 5], and adds the results.\n"
          ],
          "name": "stdout"
        }
      ]
    },
    {
      "metadata": {
        "id": "hh5P9rClmjOV",
        "colab_type": "text"
      },
      "cell_type": "markdown",
      "source": [
        "##### Rules of Broadcasting\n",
        "Broadcasting in NumPy follows a strict set of rules to determine the interaction between the two arrays:\n",
        "\n",
        "* Rule 1: If the two arrays differ in their number of dimensions, the shape of the one with fewer dimensions is padded with ones on its leading (left) side.\n",
        "* Rule 2: If the shape of the two arrays does not match in any dimension, the array with shape equal to 1 in that dimension is stretched to match the other shape.\n",
        "* Rule 3: If in any dimension the sizes disagree and neither is equal to 1, an error is raised."
      ]
    },
    {
      "metadata": {
        "id": "IBq2EN1lAPMz",
        "colab_type": "code",
        "colab": {
          "base_uri": "https://localhost:8080/",
          "height": 289
        },
        "outputId": "52771f25-57e6-4542-b07d-15b03e19f845"
      },
      "cell_type": "code",
      "source": [
        "# Example 1:\n",
        "M = np.ones((2, 3))\n",
        "a = np.arange(3)\n",
        "print('M',M)\n",
        "print('a',a,'\\n')\n",
        "print('Example 1:',M + a)\n",
        "\n",
        "print('\\n')\n",
        "\n",
        "# Exapmle 2:\n",
        "a = np.arange(3).reshape((3, 1))\n",
        "b = np.arange(3)\n",
        "print('a:',a)\n",
        "print('b:',b)\n",
        "print('Example 1:\\n',a + b)"
      ],
      "execution_count": 15,
      "outputs": [
        {
          "output_type": "stream",
          "text": [
            "M [[1. 1. 1.]\n",
            " [1. 1. 1.]]\n",
            "a [0 1 2] \n",
            "\n",
            "Example 1: [[1. 2. 3.]\n",
            " [1. 2. 3.]]\n",
            "\n",
            "\n",
            "a: [[0]\n",
            " [1]\n",
            " [2]]\n",
            "b: [0 1 2]\n",
            "Example 1:\n",
            " [[0 1 2]\n",
            " [1 2 3]\n",
            " [2 3 4]]\n"
          ],
          "name": "stdout"
        }
      ]
    },
    {
      "metadata": {
        "id": "E2XyrCsDtYNe",
        "colab_type": "text"
      },
      "cell_type": "markdown",
      "source": [
        "##### Broadcasting in Practice"
      ]
    },
    {
      "metadata": {
        "id": "0sdjncKmAPPr",
        "colab_type": "code",
        "colab": {
          "base_uri": "https://localhost:8080/",
          "height": 34
        },
        "outputId": "df1864eb-1d3a-47fd-bae5-7d2719ce0d56"
      },
      "cell_type": "code",
      "source": [
        "# This is also called as mean removal\n",
        "\n",
        "X = np.random.random((10, 3))\n",
        "Xmean = X.mean(0)\n",
        "X_centered = X - Xmean\n",
        "print('Centered and zero mean: ', X_centered.mean(0))"
      ],
      "execution_count": 24,
      "outputs": [
        {
          "output_type": "execute_result",
          "data": {
            "text/plain": [
              "array([0.4136673 , 0.14802866, 0.59265275])"
            ]
          },
          "metadata": {
            "tags": []
          },
          "execution_count": 24
        }
      ]
    },
    {
      "metadata": {
        "id": "sll5yQMjDrDQ",
        "colab_type": "code",
        "colab": {
          "base_uri": "https://localhost:8080/",
          "height": 269
        },
        "outputId": "bfb44c44-e3f5-4ff7-d301-873e047cf794"
      },
      "cell_type": "code",
      "source": [
        "# Plotting a two-dimensional function\n",
        "\n",
        "\n",
        "# x and y have 50 steps from 0 to 5\n",
        "x = np.linspace(0, 5, 50)                # Shape: (50,)\n",
        "y = np.linspace(0, 5, 50)[:, np.newaxis] # Shape: (50, 1) # np.newaxis will increase the array dimention by 1\n",
        "\n",
        "z = np.sin(x) ** 10 + np.cos(10 + y * x) * np.cos(x)\n",
        "\n",
        "%matplotlib inline\n",
        "import matplotlib.pyplot as plt\n",
        "\n",
        "plt.imshow(z, origin='lower', extent=[0, 5, 0, 5],\n",
        "           cmap='viridis')\n",
        "plt.colorbar();\n",
        "\n",
        "\n"
      ],
      "execution_count": 37,
      "outputs": [
        {
          "output_type": "display_data",
          "data": {
            "image/png": "[encoded data removed]",
            "text/plain": [
              "<matplotlib.figure.Figure at 0x7fbc3d4cf0f0>"
            ]
          },
          "metadata": {
            "tags": []
          }
        }
      ]
    },
    {
      "metadata": {
        "id": "2VqKb0elKphh",
        "colab_type": "text"
      },
      "cell_type": "markdown",
      "source": [
        "### [Comparisons, Masks, and Boolean Logic](https://jakevdp.github.io/PythonDataScienceHandbook/02.06-boolean-arrays-and-masks.html)\n",
        "This section covers the use of Boolean masks to examine and manipulate values within NumPy arrays. Masking comes up when you want to extract, modify, count, or otherwise manipulate values in an array based on some criterion: for example, you might wish to count all values greater than a certain value, or perhaps remove all outliers that are above some threshold. In NumPy, Boolean masking is often the most efficient way to accomplish these types of tasks."
      ]
    },
    {
      "metadata": {
        "id": "PcYKUeP1pDxX",
        "colab_type": "text"
      },
      "cell_type": "markdown",
      "source": [
        "  Data:\n",
        " https://github.com/jakevdp/PythonDataScienceHandbook/raw/master/notebooks/data/Seattle2014.csv"
      ]
    },
    {
      "metadata": {
        "id": "n-nQFioxKMSK",
        "colab_type": "code",
        "colab": {
          "base_uri": "https://localhost:8080/",
          "height": 34
        },
        "outputId": "3312e3f0-8199-485c-f8b8-ad4bdc663f6d"
      },
      "cell_type": "code",
      "source": [
        "x = np.array([1, 2, 3, 4, 5])\n",
        "print('Element wise comparision of the array')\n",
        "print(x < 3)\n",
        "print(x == 3)"
      ],
      "execution_count": 39,
      "outputs": [
        {
          "output_type": "stream",
          "text": [
            "(50, 50)\n"
          ],
          "name": "stdout"
        }
      ]
    },
    {
      "metadata": {
        "id": "d2f4jwaWqri-",
        "colab_type": "text"
      },
      "cell_type": "markdown",
      "source": [
        "Alternativly we can use below ufuncs also<br>\n",
        "`np.equal`<br>\n",
        "`np.not_equal`<br>\n",
        "`np.less`<br>\n",
        "`np.less_equal`<br>\n",
        "`np.greater`<br>\n",
        "`np.greater_equal`<br>"
      ]
    },
    {
      "metadata": {
        "id": "pw12lXeTr1ie",
        "colab_type": "text"
      },
      "cell_type": "markdown",
      "source": [
        "##### Working with Boolean Arrays"
      ]
    },
    {
      "metadata": {
        "id": "ybNz8O_fryX7",
        "colab_type": "code",
        "colab": {
          "base_uri": "https://localhost:8080/",
          "height": 459
        },
        "outputId": "b7573243-7bcf-4f07-aa12-0b9416d67cd7"
      },
      "cell_type": "code",
      "source": [
        "rng = np.random.RandomState(0)\n",
        "x = rng.randint(10, size=(3, 4))\n",
        "\n",
        "# Counting entries\n",
        "\n",
        "# how many values less than 6?\n",
        "print('evaluate every element of x  of x[i]<6')\n",
        "print(x < 6)\n",
        "print('\\ncount_nonzero will count all the true evaluated values')\n",
        "print(np.count_nonzero(x < 6))  # count_nonzero function will count True values\n",
        "print('\\nsum function will consider True values as 1 and sum all the calues.')\n",
        "print(np.sum(x < 6))\n",
        "\n",
        "\n",
        "print(x)\n",
        "# Boolean operators\n",
        "print('\\nBoolean operator also works in array')\n",
        "print('np.sum((x < 5) & (x == 7)):',np.sum((x < 5) & (x == 7)))\n",
        "\n",
        "\n",
        "# Boolean Arrays as Masks\n",
        "print('\\n\\nBoolean Arrays as Masks')\n",
        "print('x < 5\\n')\n",
        "print(x < 5)\n",
        "print('Now we can seperate those true values.')\n",
        "print('x[x < 5]: ', x[x < 5])"
      ],
      "execution_count": 21,
      "outputs": [
        {
          "output_type": "stream",
          "text": [
            "evaluate every element of x  of x[i]<6\n",
            "[[ True  True  True  True]\n",
            " [False False  True  True]\n",
            " [ True  True False False]]\n",
            "\n",
            "count_nonzero will count all the true evaluated values\n",
            "8\n",
            "\n",
            "sum function will consider True values as 1 and sum all the calues.\n",
            "8\n",
            "[[5 0 3 3]\n",
            " [7 9 3 5]\n",
            " [2 4 7 6]]\n",
            "\n",
            "Boolean operator also works in array\n",
            "np.sum((x < 5) & (x == 7)): 0\n",
            "\n",
            "\n",
            "Boolean Arrays as Masks\n",
            "x < 5\n",
            "\n",
            "[[False  True  True  True]\n",
            " [False False  True False]\n",
            " [ True  True False False]]\n",
            "Now we can seperate those true values.\n",
            "x[x < 5]:  [0 3 3 3 2 4]\n"
          ],
          "name": "stdout"
        }
      ]
    },
    {
      "metadata": {
        "id": "za3Ct3sRKnKX",
        "colab_type": "text"
      },
      "cell_type": "markdown",
      "source": [
        "##### Aside: Using the Keywords and/or Versus the Operators &/|\n",
        "One common point of confusion is the difference between the keywords `and` and ``or`` on one hand, and the operators `&` and `|` on the other hand. When would you use one versus the other?\n",
        "\n",
        "The difference is this: `and` and `or` gauge the truth or falsehood of entire `object`, while `&` and `|` refer to bits within each object.\n",
        "\n",
        "When you use `and` or `or`, it's equivalent to asking Python to treat the object as a single Boolean entity. <br>\n",
        "**Note:** In Python, all nonzero integers will evaluate as True.\n",
        "\n",
        "Means `&` and `|` are bit wise and and or operator and<br>\n",
        "'and' and 'or' operator are object wise operator (99% of the time we will be using `and` and `or`)"
      ]
    },
    {
      "metadata": {
        "id": "kqVCg-bzE93z",
        "colab_type": "text"
      },
      "cell_type": "markdown",
      "source": [
        "### [Sorting Arrays](https://jakevdp.github.io/PythonDataScienceHandbook/02.08-sorting.html)\n",
        "By default np.sort uses an O[NlogN], quicksort algorithm, though mergesort and heapsort are also available. "
      ]
    },
    {
      "metadata": {
        "id": "qLRLUHkcFDsM",
        "colab_type": "code",
        "colab": {
          "base_uri": "https://localhost:8080/",
          "height": 85
        },
        "outputId": "f1484577-5d36-4dfc-93bc-9cbd3e720545"
      },
      "cell_type": "code",
      "source": [
        "# np.sort is faster thatn python sort and sorted methods\n",
        "x = np.array([2, 1, 4, 3, 5])\n",
        "print(x)\n",
        "print('Sorted with np.sort(x): ',np.sort(x))\n",
        "x.sort()  ## This sort method sorts inplace\n",
        "print('Sorted with x.sort(): ',x)\n",
        "\n",
        "# A related function is argsort, which instead returns the indices of the sorted \n",
        "x = np.array([2, 1, 4, 3, 5])\n",
        "i = np.argsort(x)\n",
        "print('indices of sorted array: ',i)"
      ],
      "execution_count": 8,
      "outputs": [
        {
          "output_type": "stream",
          "text": [
            "[2 1 4 3 5]\n",
            "Sorted with np.sort(x):  [1 2 3 4 5]\n",
            "Sorted with x.sort():  [1 2 3 4 5]\n",
            "indices of sorted array:  [1 0 3 2 4]\n"
          ],
          "name": "stdout"
        }
      ]
    },
    {
      "metadata": {
        "id": "SmEX8SG0p0LP",
        "colab_type": "text"
      },
      "cell_type": "markdown",
      "source": [
        "##### Sorting along rows or columns\n",
        "A useful feature of NumPy's sorting algorithms is the ability to sort along specific rows or columns of a multidimensional array using the __axis__ argument."
      ]
    },
    {
      "metadata": {
        "id": "3Jqn3VQNpE-B",
        "colab_type": "code",
        "colab": {}
      },
      "cell_type": "code",
      "source": [
        "rand = np.random.RandomState(42)\n",
        "X = rand.randint(0, 10, (4, 6))\n",
        "print('New array: \\n',X)\n",
        "\n",
        "\n",
        "# sort each column of X\n",
        "print('Sort each column of X',np.sort(X, axis=0))\n",
        "\n",
        "# sort each row of X\n",
        "print('Sort each Row of X',np.sort(X, axis=1))"
      ],
      "execution_count": 0,
      "outputs": []
    },
    {
      "metadata": {
        "id": "meBYZibqwbPL",
        "colab_type": "text"
      },
      "cell_type": "markdown",
      "source": [
        "##### Partial Sorts: Partitioning\n",
        "Sometimes we're not interested in sorting the entire array, but simply want to find the k smallest values in the array. NumPy provides this in the __np.partition__ function. __np.partition__ takes an array and a number K; the result is a new array with the smallest K values to the left of the partition, and the remaining values to the right, in arbitrary order"
      ]
    },
    {
      "metadata": {
        "id": "sZE0Dl7GwpQn",
        "colab_type": "code",
        "colab": {
          "base_uri": "https://localhost:8080/",
          "height": 51
        },
        "outputId": "c8df141b-c531-4089-afdf-7ce72b772aea"
      },
      "cell_type": "code",
      "source": [
        "x = np.array([7, 2, 3, 1, 6, 5, 4])\n",
        "print('x :',x)\n",
        "print('Partitioned array: ',np.partition(x, 3))"
      ],
      "execution_count": 10,
      "outputs": [
        {
          "output_type": "stream",
          "text": [
            "x : [7 2 3 1 6 5 4]\n",
            "Partitioned array:  [2 1 3 4 6 5 7]\n"
          ],
          "name": "stdout"
        }
      ]
    },
    {
      "metadata": {
        "id": "N6OAO6AiG_2n",
        "colab_type": "text"
      },
      "cell_type": "markdown",
      "source": [
        "### [Structured Data: NumPy's Structured Arrays](https://jakevdp.github.io/PythonDataScienceHandbook/02.09-structured-data-numpy.html)"
      ]
    },
    {
      "metadata": {
        "id": "q-9-apYFHJqz",
        "colab_type": "code",
        "colab": {}
      },
      "cell_type": "code",
      "source": [
        ""
      ],
      "execution_count": 0,
      "outputs": []
    }
  ]
}