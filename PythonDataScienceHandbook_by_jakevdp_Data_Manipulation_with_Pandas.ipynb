{
  "nbformat": 4,
  "nbformat_minor": 0,
  "metadata": {
    "colab": {
      "name": "PythonDataScienceHandbook-by-jakevdp-Data-Manipulation-with-Pandas.ipynb",
      "version": "0.3.2",
      "provenance": [],
      "collapsed_sections": [],
      "include_colab_link": true
    },
    "kernelspec": {
      "name": "python3",
      "display_name": "Python 3"
    }
  },
  "cells": [
    {
      "cell_type": "markdown",
      "metadata": {
        "id": "view-in-github",
        "colab_type": "text"
      },
      "source": [
        "[View in Colaboratory](https://colab.research.google.com/github/raviudal/Jupyter-Notebooks/blob/master/PythonDataScienceHandbook_by_jakevdp_Data_Manipulation_with_Pandas.ipynb)"
      ]
    },
    {
      "metadata": {
        "id": "EJJuk_ikWN_F",
        "colab_type": "text"
      },
      "cell_type": "markdown",
      "source": [
        "### [Introducing Pandas Objects](https://jakevdp.github.io/PythonDataScienceHandbook/03.01-introducing-pandas-objects.html)\n",
        "There are three fundamental Pandas data structures:**Series, DataFrame, and Index**."
      ]
    },
    {
      "metadata": {
        "id": "fhKqasp3-rf3",
        "colab_type": "text"
      },
      "cell_type": "markdown",
      "source": [
        ""
      ]
    },
    {
      "metadata": {
        "id": "FWu3y56ejRgv",
        "colab_type": "code",
        "colab": {}
      },
      "cell_type": "code",
      "source": [
        "import numpy as np\n",
        "import pandas as pd"
      ],
      "execution_count": 0,
      "outputs": []
    },
    {
      "metadata": {
        "id": "nw9fYBlxTPLb",
        "colab_type": "code",
        "colab": {
          "base_uri": "https://localhost:8080/",
          "height": 289
        },
        "outputId": "d991d080-147b-4fb5-ad84-eff152215946"
      },
      "cell_type": "code",
      "source": [
        "# Pandas Series = A Pandas Series is a one-dimensional array of indexed data. \n",
        "data = pd.Series([0.25, 0.5, 0.75, 1.0])\n",
        "print('data.values: ', data.values)\n",
        "print('data.index : ', data.index)\n",
        "# We can access series values just like lists using its index\n",
        "print('data[1]: ',data[1])  # If we want we can do slicing on it also\n",
        "\n",
        "# We can have alphabetical index also.\n",
        "data = pd.Series([0.25, 0.5, 0.75, 1.0], index=['a', 'b', 'c', 'd'])\n",
        "print('\\nData series with character indexes:\\n{}'.format(data))\n",
        "\n",
        "\n",
        "## Pandas DataFrame Object\n",
        "# If a Series is an analog of a one-dimensional array with flexible indices, a DataFrame is an analog of a two-dimensional array with both flexible row \n",
        "# indices and flexible column names. Just as you might think of a two-dimensional array as an ordered sequence of aligned one-dimensional columns, \n",
        "# you can think of a DataFrame as a sequence of aligned Series objects\n",
        "area = {'California': 423967, 'Texas': 695662, 'New York': 141297, 'Florida': 170312, 'Illinois': 149995}\n",
        "population = [9865986,5958568,6366966,966966,99699966]\n",
        "area = pd.Series(area)\n",
        "\n",
        "print(pd.DataFrame({'Area':area, 'Pop': population}))\n",
        "\n",
        "\n",
        "\n",
        "\n",
        "\n"
      ],
      "execution_count": 52,
      "outputs": [
        {
          "output_type": "stream",
          "text": [
            "data.values:  [0.25 0.5  0.75 1.  ]\n",
            "data.index :  RangeIndex(start=0, stop=4, step=1)\n",
            "data[1]:  0.5\n",
            "\n",
            "Data series with character indexes:\n",
            "a    0.25\n",
            "b    0.50\n",
            "c    0.75\n",
            "d    1.00\n",
            "dtype: float64\n",
            "              Area       Pop\n",
            "California  423967   9865986\n",
            "Florida     170312   5958568\n",
            "Illinois    149995   6366966\n",
            "New York    141297    966966\n",
            "Texas       695662  99699966\n"
          ],
          "name": "stdout"
        }
      ]
    },
    {
      "metadata": {
        "id": "sYZNfb2u2abn",
        "colab_type": "text"
      },
      "cell_type": "markdown",
      "source": [
        "[Data Indexing and Selection](https://jakevdp.github.io/PythonDataScienceHandbook/03.02-data-indexing-and-selection.html)\n"
      ]
    },
    {
      "metadata": {
        "id": "6G2d2sHf3ra5",
        "colab_type": "code",
        "colab": {
          "base_uri": "https://localhost:8080/",
          "height": 340
        },
        "outputId": "4b531aaa-2f58-4d91-c382-7f73d6769e09"
      },
      "cell_type": "code",
      "source": [
        "data = pd.Series([0.25, 0.5, 0.75, 1.0], index=['a', 'b', 'c', 'd'])\n",
        "# Series selection\n",
        "print('1) \\'a\\' in data: ', 'a' in data)\n",
        "\n",
        "# slicing by explicit index\n",
        "print('2) data[\\'a\\':\\'c\\']: Selecting data from a to c\\n{}'.format(data['a':'c']))\n",
        "\n",
        "# slicing by implicit integer index\n",
        "print('3) Implicit Selecting data from 0 to 2\\n{} :'.format(data[0:2]))\n",
        "\n",
        "# masking  => data[(data > 0.3) & (data < 0.8)]\n",
        "data[(data > 0.3) & (data < 0.8)]\n",
        "\n",
        "\n",
        "# Indexers: loc, iloc, and ix\n",
        "data = pd.Series(['a', 'b', 'c'], index=[1, 3, 5])\n",
        "# The loc attribute allows indexing and slicing that always references the explicit index.\n",
        "print('4) data.loc[1] : ',data.loc[1],'\\n') \n",
        "print('5) data.loc[1:3] :\\n{}'.format(data.loc[1:3]))\n",
        "\n",
        "# The iloc attribute allows indexing and slicing that always references the implicit Python-style index.\n",
        "print('\\nThe implicit Python-style index.')\n",
        "print('6) data.iloc[1] :', data.iloc[1])"
      ],
      "execution_count": 53,
      "outputs": [
        {
          "output_type": "stream",
          "text": [
            "1) 'a' in data:  True\n",
            "2) data['a':'c']: Selecting data from a to c\n",
            "a    0.25\n",
            "b    0.50\n",
            "c    0.75\n",
            "dtype: float64\n",
            "3) Implicit Selecting data from 0 to 2\n",
            "a    0.25\n",
            "b    0.50\n",
            "dtype: float64 :\n",
            "4) data.loc[1] :  a \n",
            "\n",
            "5) data.loc[1:3] :\n",
            "1    a\n",
            "3    b\n",
            "dtype: object\n",
            "\n",
            "The implicit Python-style index.\n",
            "6) data.iloc[1] : b\n"
          ],
          "name": "stdout"
        }
      ]
    },
    {
      "metadata": {
        "id": "if1vXjAM9ZR3",
        "colab_type": "text"
      },
      "cell_type": "markdown",
      "source": [
        "https://jakevdp.github.io/PythonDataScienceHandbook/03.04-missing-values.html"
      ]
    },
    {
      "metadata": {
        "id": "GACwaPYx-t1l",
        "colab_type": "text"
      },
      "cell_type": "markdown",
      "source": [
        "[Combining Datasets: Concat and Append](https://jakevdp.github.io/PythonDataScienceHandbook/03.06-concat-and-append.html)\n",
        "Here we'll take a look at simple concatenation of Series and DataFrames with the `` pd.concat`` function"
      ]
    },
    {
      "metadata": {
        "id": "s9QFoa6d_pVy",
        "colab_type": "code",
        "colab": {
          "base_uri": "https://localhost:8080/",
          "height": 102
        },
        "outputId": "3c909a27-2804-4009-ff1b-e5be3a400014"
      },
      "cell_type": "code",
      "source": [
        "def make_df(cols, ind):\n",
        "    \"\"\"Quickly make a DataFrame\"\"\"\n",
        "    data = {c: [str(c) + str(i) for i in ind]\n",
        "            for c in cols}\n",
        "    return pd.DataFrame(data, ind)\n",
        "\n",
        "# example DataFrame\n",
        "print('Example data-frame:\\n{}'.format(make_df('ABC', range(3))))\n",
        "\n",
        "# Create a quick class that allows us to display multiple DataFrames side by side. The code makes use of the special _repr_html_ method, which IPython uses \n",
        "# to implement its rich object display.\n",
        "\n",
        "class display(object):\n",
        "    \"\"\"Display HTML representation of multiple objects\"\"\"\n",
        "    template = \"\"\"<div style=\"float: left; padding: 10px;\">\n",
        "    <p style='font-family:\"Courier New\", Courier, monospace'>{0}</p>{1}\n",
        "    </div>\"\"\"\n",
        "    def __init__(self, *args):\n",
        "        self.args = args\n",
        "        \n",
        "    def _repr_html_(self):\n",
        "        return '\\n'.join(self.template.format(a, eval(a)._repr_html_())\n",
        "                         for a in self.args)\n",
        "    \n",
        "    def __repr__(self):\n",
        "        return '\\n\\n'.join(a + '\\n' + repr(eval(a))\n",
        "                           for a in self.args)\n",
        "    "
      ],
      "execution_count": 54,
      "outputs": [
        {
          "output_type": "stream",
          "text": [
            "Example data-frame:\n",
            "    A   B   C\n",
            "0  A0  B0  C0\n",
            "1  A1  B1  C1\n",
            "2  A2  B2  C2\n"
          ],
          "name": "stdout"
        }
      ]
    },
    {
      "metadata": {
        "id": "ZUeVjemfCDGu",
        "colab_type": "code",
        "colab": {
          "base_uri": "https://localhost:8080/",
          "height": 290
        },
        "outputId": "892f9386-aa3c-4335-c93d-a1748099874a"
      },
      "cell_type": "code",
      "source": [
        "############## Printing ipython dispat fun is used so you can test all the things one by one by commenting other lines\n",
        "## Recall: Concatenation of NumPy Arrays\n",
        "\n",
        "x = [1, 2, 3]\n",
        "y = [4, 5, 6]\n",
        "z = [7, 8, 9]\n",
        "print('1). Concatinating of arrays using numpy.concatenate : {}'.format(np.concatenate([x, y, z])))\n",
        "\n",
        "\n",
        "## Simple Concatenation with pd.concat\n",
        "# Method signature can be seen using ? command.\n",
        "# pd.concat?\n",
        "\n",
        "# We can concatinate two dataframes to get a consolidated dataframe\n",
        "df1 = make_df('AB', [1, 2])\n",
        "df2 = make_df('AB', [3, 4])\n",
        "display('df1', 'df2', 'pd.concat([df1, df2])')\n",
        "\n",
        "# By default, the concatenation takes place row-wise within the DataFrame (i.e., axis=0)\n",
        "df3 = make_df('AB', [0, 1])\n",
        "df4 = make_df('CD', [0, 1])\n",
        "display('df3', 'df4', \"pd.concat([df3, df4], axis=1)\")\n",
        "\n",
        "## Duplicate indices \n",
        "# Pandas have no issues with duplicate indexs, \n",
        "x = make_df('AB', [0, 1])\n",
        "y = make_df('AB', [2, 3])\n",
        "y.index = x.index  # make duplicate indices!\n",
        "display('x', 'y', 'pd.concat([x, y])')\n",
        "\n",
        "# If you'd like to simply verify that the indices in the result of pd.concat() do not overlap, you can specify the verify_integrity flag. With this set to True,\n",
        "# the concatenation will raise an exception if there are duplicate indices\n",
        "print('\\n')\n",
        "try:\n",
        "    pd.concat([x, y], verify_integrity=True)\n",
        "except ValueError as e:\n",
        "    print(\"ValueError:\", e)\n",
        "    \n",
        "\n",
        "# Sometimes the index itself does not matter, and you would prefer it to simply be ignored. This option can be specified using the ignore_index flag. \n",
        "display('x', 'y', 'pd.concat([x, y], ignore_index=True)')"
      ],
      "execution_count": 55,
      "outputs": [
        {
          "output_type": "stream",
          "text": [
            "1). Concatinating of arrays using numpy.concatenate : [1 2 3 4 5 6 7 8 9]\n",
            "\n",
            "\n",
            "ValueError: Indexes have overlapping values: [0, 1]\n"
          ],
          "name": "stdout"
        },
        {
          "output_type": "execute_result",
          "data": {
            "text/html": [
              "<div style=\"float: left; padding: 10px;\">\n",
              "    <p style='font-family:\"Courier New\", Courier, monospace'>x</p><div>\n",
              "<style scoped>\n",
              "    .dataframe tbody tr th:only-of-type {\n",
              "        vertical-align: middle;\n",
              "    }\n",
              "\n",
              "    .dataframe tbody tr th {\n",
              "        vertical-align: top;\n",
              "    }\n",
              "\n",
              "    .dataframe thead th {\n",
              "        text-align: right;\n",
              "    }\n",
              "</style>\n",
              "<table border=\"1\" class=\"dataframe\">\n",
              "  <thead>\n",
              "    <tr style=\"text-align: right;\">\n",
              "      <th></th>\n",
              "      <th>A</th>\n",
              "      <th>B</th>\n",
              "    </tr>\n",
              "  </thead>\n",
              "  <tbody>\n",
              "    <tr>\n",
              "      <th>0</th>\n",
              "      <td>A0</td>\n",
              "      <td>B0</td>\n",
              "    </tr>\n",
              "    <tr>\n",
              "      <th>1</th>\n",
              "      <td>A1</td>\n",
              "      <td>B1</td>\n",
              "    </tr>\n",
              "  </tbody>\n",
              "</table>\n",
              "</div>\n",
              "    </div>\n",
              "<div style=\"float: left; padding: 10px;\">\n",
              "    <p style='font-family:\"Courier New\", Courier, monospace'>y</p><div>\n",
              "<style scoped>\n",
              "    .dataframe tbody tr th:only-of-type {\n",
              "        vertical-align: middle;\n",
              "    }\n",
              "\n",
              "    .dataframe tbody tr th {\n",
              "        vertical-align: top;\n",
              "    }\n",
              "\n",
              "    .dataframe thead th {\n",
              "        text-align: right;\n",
              "    }\n",
              "</style>\n",
              "<table border=\"1\" class=\"dataframe\">\n",
              "  <thead>\n",
              "    <tr style=\"text-align: right;\">\n",
              "      <th></th>\n",
              "      <th>A</th>\n",
              "      <th>B</th>\n",
              "    </tr>\n",
              "  </thead>\n",
              "  <tbody>\n",
              "    <tr>\n",
              "      <th>0</th>\n",
              "      <td>A2</td>\n",
              "      <td>B2</td>\n",
              "    </tr>\n",
              "    <tr>\n",
              "      <th>1</th>\n",
              "      <td>A3</td>\n",
              "      <td>B3</td>\n",
              "    </tr>\n",
              "  </tbody>\n",
              "</table>\n",
              "</div>\n",
              "    </div>\n",
              "<div style=\"float: left; padding: 10px;\">\n",
              "    <p style='font-family:\"Courier New\", Courier, monospace'>pd.concat([x, y], ignore_index=True)</p><div>\n",
              "<style scoped>\n",
              "    .dataframe tbody tr th:only-of-type {\n",
              "        vertical-align: middle;\n",
              "    }\n",
              "\n",
              "    .dataframe tbody tr th {\n",
              "        vertical-align: top;\n",
              "    }\n",
              "\n",
              "    .dataframe thead th {\n",
              "        text-align: right;\n",
              "    }\n",
              "</style>\n",
              "<table border=\"1\" class=\"dataframe\">\n",
              "  <thead>\n",
              "    <tr style=\"text-align: right;\">\n",
              "      <th></th>\n",
              "      <th>A</th>\n",
              "      <th>B</th>\n",
              "    </tr>\n",
              "  </thead>\n",
              "  <tbody>\n",
              "    <tr>\n",
              "      <th>0</th>\n",
              "      <td>A0</td>\n",
              "      <td>B0</td>\n",
              "    </tr>\n",
              "    <tr>\n",
              "      <th>1</th>\n",
              "      <td>A1</td>\n",
              "      <td>B1</td>\n",
              "    </tr>\n",
              "    <tr>\n",
              "      <th>2</th>\n",
              "      <td>A2</td>\n",
              "      <td>B2</td>\n",
              "    </tr>\n",
              "    <tr>\n",
              "      <th>3</th>\n",
              "      <td>A3</td>\n",
              "      <td>B3</td>\n",
              "    </tr>\n",
              "  </tbody>\n",
              "</table>\n",
              "</div>\n",
              "    </div>"
            ],
            "text/plain": [
              "x\n",
              "    A   B\n",
              "0  A0  B0\n",
              "1  A1  B1\n",
              "\n",
              "y\n",
              "    A   B\n",
              "0  A2  B2\n",
              "1  A3  B3\n",
              "\n",
              "pd.concat([x, y], ignore_index=True)\n",
              "    A   B\n",
              "0  A0  B0\n",
              "1  A1  B1\n",
              "2  A2  B2\n",
              "3  A3  B3"
            ]
          },
          "metadata": {
            "tags": []
          },
          "execution_count": 55
        }
      ]
    },
    {
      "metadata": {
        "id": "XWIez_m5ObGH",
        "colab_type": "code",
        "colab": {
          "base_uri": "https://localhost:8080/",
          "height": 222
        },
        "outputId": "c118c759-dae0-4b7f-8fa3-6258084c33de"
      },
      "cell_type": "code",
      "source": [
        "# Adding MultiIndex keys\n",
        "display('x', 'y', \"pd.concat([x, y], keys=['x', 'y'])\")"
      ],
      "execution_count": 56,
      "outputs": [
        {
          "output_type": "execute_result",
          "data": {
            "text/html": [
              "<div style=\"float: left; padding: 10px;\">\n",
              "    <p style='font-family:\"Courier New\", Courier, monospace'>x</p><div>\n",
              "<style scoped>\n",
              "    .dataframe tbody tr th:only-of-type {\n",
              "        vertical-align: middle;\n",
              "    }\n",
              "\n",
              "    .dataframe tbody tr th {\n",
              "        vertical-align: top;\n",
              "    }\n",
              "\n",
              "    .dataframe thead th {\n",
              "        text-align: right;\n",
              "    }\n",
              "</style>\n",
              "<table border=\"1\" class=\"dataframe\">\n",
              "  <thead>\n",
              "    <tr style=\"text-align: right;\">\n",
              "      <th></th>\n",
              "      <th>A</th>\n",
              "      <th>B</th>\n",
              "    </tr>\n",
              "  </thead>\n",
              "  <tbody>\n",
              "    <tr>\n",
              "      <th>0</th>\n",
              "      <td>A0</td>\n",
              "      <td>B0</td>\n",
              "    </tr>\n",
              "    <tr>\n",
              "      <th>1</th>\n",
              "      <td>A1</td>\n",
              "      <td>B1</td>\n",
              "    </tr>\n",
              "  </tbody>\n",
              "</table>\n",
              "</div>\n",
              "    </div>\n",
              "<div style=\"float: left; padding: 10px;\">\n",
              "    <p style='font-family:\"Courier New\", Courier, monospace'>y</p><div>\n",
              "<style scoped>\n",
              "    .dataframe tbody tr th:only-of-type {\n",
              "        vertical-align: middle;\n",
              "    }\n",
              "\n",
              "    .dataframe tbody tr th {\n",
              "        vertical-align: top;\n",
              "    }\n",
              "\n",
              "    .dataframe thead th {\n",
              "        text-align: right;\n",
              "    }\n",
              "</style>\n",
              "<table border=\"1\" class=\"dataframe\">\n",
              "  <thead>\n",
              "    <tr style=\"text-align: right;\">\n",
              "      <th></th>\n",
              "      <th>A</th>\n",
              "      <th>B</th>\n",
              "    </tr>\n",
              "  </thead>\n",
              "  <tbody>\n",
              "    <tr>\n",
              "      <th>0</th>\n",
              "      <td>A2</td>\n",
              "      <td>B2</td>\n",
              "    </tr>\n",
              "    <tr>\n",
              "      <th>1</th>\n",
              "      <td>A3</td>\n",
              "      <td>B3</td>\n",
              "    </tr>\n",
              "  </tbody>\n",
              "</table>\n",
              "</div>\n",
              "    </div>\n",
              "<div style=\"float: left; padding: 10px;\">\n",
              "    <p style='font-family:\"Courier New\", Courier, monospace'>pd.concat([x, y], keys=['x', 'y'])</p><div>\n",
              "<style scoped>\n",
              "    .dataframe tbody tr th:only-of-type {\n",
              "        vertical-align: middle;\n",
              "    }\n",
              "\n",
              "    .dataframe tbody tr th {\n",
              "        vertical-align: top;\n",
              "    }\n",
              "\n",
              "    .dataframe thead th {\n",
              "        text-align: right;\n",
              "    }\n",
              "</style>\n",
              "<table border=\"1\" class=\"dataframe\">\n",
              "  <thead>\n",
              "    <tr style=\"text-align: right;\">\n",
              "      <th></th>\n",
              "      <th></th>\n",
              "      <th>A</th>\n",
              "      <th>B</th>\n",
              "    </tr>\n",
              "  </thead>\n",
              "  <tbody>\n",
              "    <tr>\n",
              "      <th rowspan=\"2\" valign=\"top\">x</th>\n",
              "      <th>0</th>\n",
              "      <td>A0</td>\n",
              "      <td>B0</td>\n",
              "    </tr>\n",
              "    <tr>\n",
              "      <th>1</th>\n",
              "      <td>A1</td>\n",
              "      <td>B1</td>\n",
              "    </tr>\n",
              "    <tr>\n",
              "      <th rowspan=\"2\" valign=\"top\">y</th>\n",
              "      <th>0</th>\n",
              "      <td>A2</td>\n",
              "      <td>B2</td>\n",
              "    </tr>\n",
              "    <tr>\n",
              "      <th>1</th>\n",
              "      <td>A3</td>\n",
              "      <td>B3</td>\n",
              "    </tr>\n",
              "  </tbody>\n",
              "</table>\n",
              "</div>\n",
              "    </div>"
            ],
            "text/plain": [
              "x\n",
              "    A   B\n",
              "0  A0  B0\n",
              "1  A1  B1\n",
              "\n",
              "y\n",
              "    A   B\n",
              "0  A2  B2\n",
              "1  A3  B3\n",
              "\n",
              "pd.concat([x, y], keys=['x', 'y'])\n",
              "      A   B\n",
              "x 0  A0  B0\n",
              "  1  A1  B1\n",
              "y 0  A2  B2\n",
              "  1  A3  B3"
            ]
          },
          "metadata": {
            "tags": []
          },
          "execution_count": 56
        }
      ]
    },
    {
      "metadata": {
        "id": "KKKIXUn6_2Cq",
        "colab_type": "code",
        "colab": {
          "base_uri": "https://localhost:8080/",
          "height": 222
        },
        "outputId": "1e79f56a-5aa8-4e00-9161-503c8583b4a3"
      },
      "cell_type": "code",
      "source": [
        "# Concatenation with joins\n",
        "df5 = make_df('ABC', [1, 2])\n",
        "df6 = make_df('BCD', [3, 4])\n",
        "display('df5', 'df6', 'pd.concat([df5, df6])')"
      ],
      "execution_count": 57,
      "outputs": [
        {
          "output_type": "execute_result",
          "data": {
            "text/html": [
              "<div style=\"float: left; padding: 10px;\">\n",
              "    <p style='font-family:\"Courier New\", Courier, monospace'>df5</p><div>\n",
              "<style scoped>\n",
              "    .dataframe tbody tr th:only-of-type {\n",
              "        vertical-align: middle;\n",
              "    }\n",
              "\n",
              "    .dataframe tbody tr th {\n",
              "        vertical-align: top;\n",
              "    }\n",
              "\n",
              "    .dataframe thead th {\n",
              "        text-align: right;\n",
              "    }\n",
              "</style>\n",
              "<table border=\"1\" class=\"dataframe\">\n",
              "  <thead>\n",
              "    <tr style=\"text-align: right;\">\n",
              "      <th></th>\n",
              "      <th>A</th>\n",
              "      <th>B</th>\n",
              "      <th>C</th>\n",
              "    </tr>\n",
              "  </thead>\n",
              "  <tbody>\n",
              "    <tr>\n",
              "      <th>1</th>\n",
              "      <td>A1</td>\n",
              "      <td>B1</td>\n",
              "      <td>C1</td>\n",
              "    </tr>\n",
              "    <tr>\n",
              "      <th>2</th>\n",
              "      <td>A2</td>\n",
              "      <td>B2</td>\n",
              "      <td>C2</td>\n",
              "    </tr>\n",
              "  </tbody>\n",
              "</table>\n",
              "</div>\n",
              "    </div>\n",
              "<div style=\"float: left; padding: 10px;\">\n",
              "    <p style='font-family:\"Courier New\", Courier, monospace'>df6</p><div>\n",
              "<style scoped>\n",
              "    .dataframe tbody tr th:only-of-type {\n",
              "        vertical-align: middle;\n",
              "    }\n",
              "\n",
              "    .dataframe tbody tr th {\n",
              "        vertical-align: top;\n",
              "    }\n",
              "\n",
              "    .dataframe thead th {\n",
              "        text-align: right;\n",
              "    }\n",
              "</style>\n",
              "<table border=\"1\" class=\"dataframe\">\n",
              "  <thead>\n",
              "    <tr style=\"text-align: right;\">\n",
              "      <th></th>\n",
              "      <th>B</th>\n",
              "      <th>C</th>\n",
              "      <th>D</th>\n",
              "    </tr>\n",
              "  </thead>\n",
              "  <tbody>\n",
              "    <tr>\n",
              "      <th>3</th>\n",
              "      <td>B3</td>\n",
              "      <td>C3</td>\n",
              "      <td>D3</td>\n",
              "    </tr>\n",
              "    <tr>\n",
              "      <th>4</th>\n",
              "      <td>B4</td>\n",
              "      <td>C4</td>\n",
              "      <td>D4</td>\n",
              "    </tr>\n",
              "  </tbody>\n",
              "</table>\n",
              "</div>\n",
              "    </div>\n",
              "<div style=\"float: left; padding: 10px;\">\n",
              "    <p style='font-family:\"Courier New\", Courier, monospace'>pd.concat([df5, df6])</p><div>\n",
              "<style scoped>\n",
              "    .dataframe tbody tr th:only-of-type {\n",
              "        vertical-align: middle;\n",
              "    }\n",
              "\n",
              "    .dataframe tbody tr th {\n",
              "        vertical-align: top;\n",
              "    }\n",
              "\n",
              "    .dataframe thead th {\n",
              "        text-align: right;\n",
              "    }\n",
              "</style>\n",
              "<table border=\"1\" class=\"dataframe\">\n",
              "  <thead>\n",
              "    <tr style=\"text-align: right;\">\n",
              "      <th></th>\n",
              "      <th>A</th>\n",
              "      <th>B</th>\n",
              "      <th>C</th>\n",
              "      <th>D</th>\n",
              "    </tr>\n",
              "  </thead>\n",
              "  <tbody>\n",
              "    <tr>\n",
              "      <th>1</th>\n",
              "      <td>A1</td>\n",
              "      <td>B1</td>\n",
              "      <td>C1</td>\n",
              "      <td>NaN</td>\n",
              "    </tr>\n",
              "    <tr>\n",
              "      <th>2</th>\n",
              "      <td>A2</td>\n",
              "      <td>B2</td>\n",
              "      <td>C2</td>\n",
              "      <td>NaN</td>\n",
              "    </tr>\n",
              "    <tr>\n",
              "      <th>3</th>\n",
              "      <td>NaN</td>\n",
              "      <td>B3</td>\n",
              "      <td>C3</td>\n",
              "      <td>D3</td>\n",
              "    </tr>\n",
              "    <tr>\n",
              "      <th>4</th>\n",
              "      <td>NaN</td>\n",
              "      <td>B4</td>\n",
              "      <td>C4</td>\n",
              "      <td>D4</td>\n",
              "    </tr>\n",
              "  </tbody>\n",
              "</table>\n",
              "</div>\n",
              "    </div>"
            ],
            "text/plain": [
              "df5\n",
              "    A   B   C\n",
              "1  A1  B1  C1\n",
              "2  A2  B2  C2\n",
              "\n",
              "df6\n",
              "    B   C   D\n",
              "3  B3  C3  D3\n",
              "4  B4  C4  D4\n",
              "\n",
              "pd.concat([df5, df6])\n",
              "     A   B   C    D\n",
              "1   A1  B1  C1  NaN\n",
              "2   A2  B2  C2  NaN\n",
              "3  NaN  B3  C3   D3\n",
              "4  NaN  B4  C4   D4"
            ]
          },
          "metadata": {
            "tags": []
          },
          "execution_count": 57
        }
      ]
    },
    {
      "metadata": {
        "id": "_ONlSJdZchXE",
        "colab_type": "code",
        "colab": {
          "base_uri": "https://localhost:8080/",
          "height": 222
        },
        "outputId": "95f34973-40bb-4e06-9290-0bf386aa6c28"
      },
      "cell_type": "code",
      "source": [
        "# we can specify type of join we want in the parameter\n",
        "display('df5', 'df6', \"pd.concat([df5, df6], join='inner')\")"
      ],
      "execution_count": 58,
      "outputs": [
        {
          "output_type": "execute_result",
          "data": {
            "text/html": [
              "<div style=\"float: left; padding: 10px;\">\n",
              "    <p style='font-family:\"Courier New\", Courier, monospace'>df5</p><div>\n",
              "<style scoped>\n",
              "    .dataframe tbody tr th:only-of-type {\n",
              "        vertical-align: middle;\n",
              "    }\n",
              "\n",
              "    .dataframe tbody tr th {\n",
              "        vertical-align: top;\n",
              "    }\n",
              "\n",
              "    .dataframe thead th {\n",
              "        text-align: right;\n",
              "    }\n",
              "</style>\n",
              "<table border=\"1\" class=\"dataframe\">\n",
              "  <thead>\n",
              "    <tr style=\"text-align: right;\">\n",
              "      <th></th>\n",
              "      <th>A</th>\n",
              "      <th>B</th>\n",
              "      <th>C</th>\n",
              "    </tr>\n",
              "  </thead>\n",
              "  <tbody>\n",
              "    <tr>\n",
              "      <th>1</th>\n",
              "      <td>A1</td>\n",
              "      <td>B1</td>\n",
              "      <td>C1</td>\n",
              "    </tr>\n",
              "    <tr>\n",
              "      <th>2</th>\n",
              "      <td>A2</td>\n",
              "      <td>B2</td>\n",
              "      <td>C2</td>\n",
              "    </tr>\n",
              "  </tbody>\n",
              "</table>\n",
              "</div>\n",
              "    </div>\n",
              "<div style=\"float: left; padding: 10px;\">\n",
              "    <p style='font-family:\"Courier New\", Courier, monospace'>df6</p><div>\n",
              "<style scoped>\n",
              "    .dataframe tbody tr th:only-of-type {\n",
              "        vertical-align: middle;\n",
              "    }\n",
              "\n",
              "    .dataframe tbody tr th {\n",
              "        vertical-align: top;\n",
              "    }\n",
              "\n",
              "    .dataframe thead th {\n",
              "        text-align: right;\n",
              "    }\n",
              "</style>\n",
              "<table border=\"1\" class=\"dataframe\">\n",
              "  <thead>\n",
              "    <tr style=\"text-align: right;\">\n",
              "      <th></th>\n",
              "      <th>B</th>\n",
              "      <th>C</th>\n",
              "      <th>D</th>\n",
              "    </tr>\n",
              "  </thead>\n",
              "  <tbody>\n",
              "    <tr>\n",
              "      <th>3</th>\n",
              "      <td>B3</td>\n",
              "      <td>C3</td>\n",
              "      <td>D3</td>\n",
              "    </tr>\n",
              "    <tr>\n",
              "      <th>4</th>\n",
              "      <td>B4</td>\n",
              "      <td>C4</td>\n",
              "      <td>D4</td>\n",
              "    </tr>\n",
              "  </tbody>\n",
              "</table>\n",
              "</div>\n",
              "    </div>\n",
              "<div style=\"float: left; padding: 10px;\">\n",
              "    <p style='font-family:\"Courier New\", Courier, monospace'>pd.concat([df5, df6], join='inner')</p><div>\n",
              "<style scoped>\n",
              "    .dataframe tbody tr th:only-of-type {\n",
              "        vertical-align: middle;\n",
              "    }\n",
              "\n",
              "    .dataframe tbody tr th {\n",
              "        vertical-align: top;\n",
              "    }\n",
              "\n",
              "    .dataframe thead th {\n",
              "        text-align: right;\n",
              "    }\n",
              "</style>\n",
              "<table border=\"1\" class=\"dataframe\">\n",
              "  <thead>\n",
              "    <tr style=\"text-align: right;\">\n",
              "      <th></th>\n",
              "      <th>B</th>\n",
              "      <th>C</th>\n",
              "    </tr>\n",
              "  </thead>\n",
              "  <tbody>\n",
              "    <tr>\n",
              "      <th>1</th>\n",
              "      <td>B1</td>\n",
              "      <td>C1</td>\n",
              "    </tr>\n",
              "    <tr>\n",
              "      <th>2</th>\n",
              "      <td>B2</td>\n",
              "      <td>C2</td>\n",
              "    </tr>\n",
              "    <tr>\n",
              "      <th>3</th>\n",
              "      <td>B3</td>\n",
              "      <td>C3</td>\n",
              "    </tr>\n",
              "    <tr>\n",
              "      <th>4</th>\n",
              "      <td>B4</td>\n",
              "      <td>C4</td>\n",
              "    </tr>\n",
              "  </tbody>\n",
              "</table>\n",
              "</div>\n",
              "    </div>"
            ],
            "text/plain": [
              "df5\n",
              "    A   B   C\n",
              "1  A1  B1  C1\n",
              "2  A2  B2  C2\n",
              "\n",
              "df6\n",
              "    B   C   D\n",
              "3  B3  C3  D3\n",
              "4  B4  C4  D4\n",
              "\n",
              "pd.concat([df5, df6], join='inner')\n",
              "    B   C\n",
              "1  B1  C1\n",
              "2  B2  C2\n",
              "3  B3  C3\n",
              "4  B4  C4"
            ]
          },
          "metadata": {
            "tags": []
          },
          "execution_count": 58
        }
      ]
    },
    {
      "metadata": {
        "id": "aYHuo8zxdAMO",
        "colab_type": "code",
        "colab": {
          "base_uri": "https://localhost:8080/",
          "height": 222
        },
        "outputId": "0b36c40c-f28d-4405-a35e-e23e10c815fe"
      },
      "cell_type": "code",
      "source": [
        "# Another option is to directly specify the index of the remaininig colums using the join_axes argument, which takes a list of index objects. \n",
        "# Here we'll specify that the returned columns should be the same as those of the first input:\n",
        "display('df5', 'df6', \"pd.concat([df5, df6], join_axes=[df5.columns])\")"
      ],
      "execution_count": 59,
      "outputs": [
        {
          "output_type": "execute_result",
          "data": {
            "text/html": [
              "<div style=\"float: left; padding: 10px;\">\n",
              "    <p style='font-family:\"Courier New\", Courier, monospace'>df5</p><div>\n",
              "<style scoped>\n",
              "    .dataframe tbody tr th:only-of-type {\n",
              "        vertical-align: middle;\n",
              "    }\n",
              "\n",
              "    .dataframe tbody tr th {\n",
              "        vertical-align: top;\n",
              "    }\n",
              "\n",
              "    .dataframe thead th {\n",
              "        text-align: right;\n",
              "    }\n",
              "</style>\n",
              "<table border=\"1\" class=\"dataframe\">\n",
              "  <thead>\n",
              "    <tr style=\"text-align: right;\">\n",
              "      <th></th>\n",
              "      <th>A</th>\n",
              "      <th>B</th>\n",
              "      <th>C</th>\n",
              "    </tr>\n",
              "  </thead>\n",
              "  <tbody>\n",
              "    <tr>\n",
              "      <th>1</th>\n",
              "      <td>A1</td>\n",
              "      <td>B1</td>\n",
              "      <td>C1</td>\n",
              "    </tr>\n",
              "    <tr>\n",
              "      <th>2</th>\n",
              "      <td>A2</td>\n",
              "      <td>B2</td>\n",
              "      <td>C2</td>\n",
              "    </tr>\n",
              "  </tbody>\n",
              "</table>\n",
              "</div>\n",
              "    </div>\n",
              "<div style=\"float: left; padding: 10px;\">\n",
              "    <p style='font-family:\"Courier New\", Courier, monospace'>df6</p><div>\n",
              "<style scoped>\n",
              "    .dataframe tbody tr th:only-of-type {\n",
              "        vertical-align: middle;\n",
              "    }\n",
              "\n",
              "    .dataframe tbody tr th {\n",
              "        vertical-align: top;\n",
              "    }\n",
              "\n",
              "    .dataframe thead th {\n",
              "        text-align: right;\n",
              "    }\n",
              "</style>\n",
              "<table border=\"1\" class=\"dataframe\">\n",
              "  <thead>\n",
              "    <tr style=\"text-align: right;\">\n",
              "      <th></th>\n",
              "      <th>B</th>\n",
              "      <th>C</th>\n",
              "      <th>D</th>\n",
              "    </tr>\n",
              "  </thead>\n",
              "  <tbody>\n",
              "    <tr>\n",
              "      <th>3</th>\n",
              "      <td>B3</td>\n",
              "      <td>C3</td>\n",
              "      <td>D3</td>\n",
              "    </tr>\n",
              "    <tr>\n",
              "      <th>4</th>\n",
              "      <td>B4</td>\n",
              "      <td>C4</td>\n",
              "      <td>D4</td>\n",
              "    </tr>\n",
              "  </tbody>\n",
              "</table>\n",
              "</div>\n",
              "    </div>\n",
              "<div style=\"float: left; padding: 10px;\">\n",
              "    <p style='font-family:\"Courier New\", Courier, monospace'>pd.concat([df5, df6], join_axes=[df5.columns])</p><div>\n",
              "<style scoped>\n",
              "    .dataframe tbody tr th:only-of-type {\n",
              "        vertical-align: middle;\n",
              "    }\n",
              "\n",
              "    .dataframe tbody tr th {\n",
              "        vertical-align: top;\n",
              "    }\n",
              "\n",
              "    .dataframe thead th {\n",
              "        text-align: right;\n",
              "    }\n",
              "</style>\n",
              "<table border=\"1\" class=\"dataframe\">\n",
              "  <thead>\n",
              "    <tr style=\"text-align: right;\">\n",
              "      <th></th>\n",
              "      <th>A</th>\n",
              "      <th>B</th>\n",
              "      <th>C</th>\n",
              "    </tr>\n",
              "  </thead>\n",
              "  <tbody>\n",
              "    <tr>\n",
              "      <th>1</th>\n",
              "      <td>A1</td>\n",
              "      <td>B1</td>\n",
              "      <td>C1</td>\n",
              "    </tr>\n",
              "    <tr>\n",
              "      <th>2</th>\n",
              "      <td>A2</td>\n",
              "      <td>B2</td>\n",
              "      <td>C2</td>\n",
              "    </tr>\n",
              "    <tr>\n",
              "      <th>3</th>\n",
              "      <td>NaN</td>\n",
              "      <td>B3</td>\n",
              "      <td>C3</td>\n",
              "    </tr>\n",
              "    <tr>\n",
              "      <th>4</th>\n",
              "      <td>NaN</td>\n",
              "      <td>B4</td>\n",
              "      <td>C4</td>\n",
              "    </tr>\n",
              "  </tbody>\n",
              "</table>\n",
              "</div>\n",
              "    </div>"
            ],
            "text/plain": [
              "df5\n",
              "    A   B   C\n",
              "1  A1  B1  C1\n",
              "2  A2  B2  C2\n",
              "\n",
              "df6\n",
              "    B   C   D\n",
              "3  B3  C3  D3\n",
              "4  B4  C4  D4\n",
              "\n",
              "pd.concat([df5, df6], join_axes=[df5.columns])\n",
              "     A   B   C\n",
              "1   A1  B1  C1\n",
              "2   A2  B2  C2\n",
              "3  NaN  B3  C3\n",
              "4  NaN  B4  C4"
            ]
          },
          "metadata": {
            "tags": []
          },
          "execution_count": 59
        }
      ]
    },
    {
      "metadata": {
        "id": "2d97w4j_dKX0",
        "colab_type": "code",
        "colab": {
          "base_uri": "https://localhost:8080/",
          "height": 222
        },
        "outputId": "2e89af1e-0ba4-47fa-a8ef-ab7481aa60fd"
      },
      "cell_type": "code",
      "source": [
        "# The append() method\n",
        "# Rather than calling pd.concat([df1, df2]), you can simply call df1.append(df2)\n",
        "display('df1', 'df2', 'df1.append(df2)')"
      ],
      "execution_count": 60,
      "outputs": [
        {
          "output_type": "execute_result",
          "data": {
            "text/html": [
              "<div style=\"float: left; padding: 10px;\">\n",
              "    <p style='font-family:\"Courier New\", Courier, monospace'>df1</p><div>\n",
              "<style scoped>\n",
              "    .dataframe tbody tr th:only-of-type {\n",
              "        vertical-align: middle;\n",
              "    }\n",
              "\n",
              "    .dataframe tbody tr th {\n",
              "        vertical-align: top;\n",
              "    }\n",
              "\n",
              "    .dataframe thead th {\n",
              "        text-align: right;\n",
              "    }\n",
              "</style>\n",
              "<table border=\"1\" class=\"dataframe\">\n",
              "  <thead>\n",
              "    <tr style=\"text-align: right;\">\n",
              "      <th></th>\n",
              "      <th>A</th>\n",
              "      <th>B</th>\n",
              "    </tr>\n",
              "  </thead>\n",
              "  <tbody>\n",
              "    <tr>\n",
              "      <th>1</th>\n",
              "      <td>A1</td>\n",
              "      <td>B1</td>\n",
              "    </tr>\n",
              "    <tr>\n",
              "      <th>2</th>\n",
              "      <td>A2</td>\n",
              "      <td>B2</td>\n",
              "    </tr>\n",
              "  </tbody>\n",
              "</table>\n",
              "</div>\n",
              "    </div>\n",
              "<div style=\"float: left; padding: 10px;\">\n",
              "    <p style='font-family:\"Courier New\", Courier, monospace'>df2</p><div>\n",
              "<style scoped>\n",
              "    .dataframe tbody tr th:only-of-type {\n",
              "        vertical-align: middle;\n",
              "    }\n",
              "\n",
              "    .dataframe tbody tr th {\n",
              "        vertical-align: top;\n",
              "    }\n",
              "\n",
              "    .dataframe thead th {\n",
              "        text-align: right;\n",
              "    }\n",
              "</style>\n",
              "<table border=\"1\" class=\"dataframe\">\n",
              "  <thead>\n",
              "    <tr style=\"text-align: right;\">\n",
              "      <th></th>\n",
              "      <th>A</th>\n",
              "      <th>B</th>\n",
              "    </tr>\n",
              "  </thead>\n",
              "  <tbody>\n",
              "    <tr>\n",
              "      <th>3</th>\n",
              "      <td>A3</td>\n",
              "      <td>B3</td>\n",
              "    </tr>\n",
              "    <tr>\n",
              "      <th>4</th>\n",
              "      <td>A4</td>\n",
              "      <td>B4</td>\n",
              "    </tr>\n",
              "  </tbody>\n",
              "</table>\n",
              "</div>\n",
              "    </div>\n",
              "<div style=\"float: left; padding: 10px;\">\n",
              "    <p style='font-family:\"Courier New\", Courier, monospace'>df1.append(df2)</p><div>\n",
              "<style scoped>\n",
              "    .dataframe tbody tr th:only-of-type {\n",
              "        vertical-align: middle;\n",
              "    }\n",
              "\n",
              "    .dataframe tbody tr th {\n",
              "        vertical-align: top;\n",
              "    }\n",
              "\n",
              "    .dataframe thead th {\n",
              "        text-align: right;\n",
              "    }\n",
              "</style>\n",
              "<table border=\"1\" class=\"dataframe\">\n",
              "  <thead>\n",
              "    <tr style=\"text-align: right;\">\n",
              "      <th></th>\n",
              "      <th>A</th>\n",
              "      <th>B</th>\n",
              "    </tr>\n",
              "  </thead>\n",
              "  <tbody>\n",
              "    <tr>\n",
              "      <th>1</th>\n",
              "      <td>A1</td>\n",
              "      <td>B1</td>\n",
              "    </tr>\n",
              "    <tr>\n",
              "      <th>2</th>\n",
              "      <td>A2</td>\n",
              "      <td>B2</td>\n",
              "    </tr>\n",
              "    <tr>\n",
              "      <th>3</th>\n",
              "      <td>A3</td>\n",
              "      <td>B3</td>\n",
              "    </tr>\n",
              "    <tr>\n",
              "      <th>4</th>\n",
              "      <td>A4</td>\n",
              "      <td>B4</td>\n",
              "    </tr>\n",
              "  </tbody>\n",
              "</table>\n",
              "</div>\n",
              "    </div>"
            ],
            "text/plain": [
              "df1\n",
              "    A   B\n",
              "1  A1  B1\n",
              "2  A2  B2\n",
              "\n",
              "df2\n",
              "    A   B\n",
              "3  A3  B3\n",
              "4  A4  B4\n",
              "\n",
              "df1.append(df2)\n",
              "    A   B\n",
              "1  A1  B1\n",
              "2  A2  B2\n",
              "3  A3  B3\n",
              "4  A4  B4"
            ]
          },
          "metadata": {
            "tags": []
          },
          "execution_count": 60
        }
      ]
    },
    {
      "metadata": {
        "id": "AgWjYWN7hws0",
        "colab_type": "text"
      },
      "cell_type": "markdown",
      "source": [
        "### Combining Datasets: Merge and Join"
      ]
    },
    {
      "metadata": {
        "id": "omm3J9g3iSs9",
        "colab_type": "text"
      },
      "cell_type": "markdown",
      "source": [
        "#### Relational Algebra\n",
        "The behavior implemented in pd.merge() is a subset of what is known as relational algebra, which is a formal set of rules for manipulating relational data, and forms the conceptual foundation of operations available in most databases. The strength of the relational algebra approach is that it proposes several primitive operations, which become the building blocks of more complicated operations on any dataset. With this lexicon of fundamental operations implemented efficiently in a database or other program, a wide range of fairly complicated composite operations can be performed.\n",
        "\n",
        "Pandas implements several of these fundamental building-blocks in the pd.merge() function and the related join() method of Series and Dataframes. As we will see, these let you efficiently link data from different sources."
      ]
    },
    {
      "metadata": {
        "id": "vEZqf5LZiWuK",
        "colab_type": "code",
        "colab": {}
      },
      "cell_type": "code",
      "source": [
        "## One-to-one joins\n",
        "#Perhaps the simplest type of merge expresion is the one-to-one join, which is in many ways very similar to the column-wise concatenation\n",
        "df1 = pd.DataFrame({'employee': ['Bob', 'Jake', 'Lisa', 'Sue'],\n",
        "                    'group': ['Accounting', 'Engineering', 'Engineering', 'HR']})\n",
        "df2 = pd.DataFrame({'employee': ['Lisa', 'Bob', 'Jake', 'Sue'],\n",
        "                    'hire_date': [2004, 2008, 2012, 2014]})\n",
        "display('df1', 'df2',\"pd.merge(df1, df2)\")\n",
        "df3 = pd.merge(df1, df2)"
      ],
      "execution_count": 0,
      "outputs": []
    },
    {
      "metadata": {
        "id": "vUI_SsJPrcKn",
        "colab_type": "code",
        "colab": {
          "base_uri": "https://localhost:8080/",
          "height": 222
        },
        "outputId": "f975242c-524a-448e-8429-4bb562b3b6c6"
      },
      "cell_type": "code",
      "source": [
        "## Many-to-one joins\n",
        "# Many-to-one joins are joins in which one of the two key columns contains duplicate entries. For the many-to-one case,\n",
        "# the resulting DataFrame will preserve those duplicate entries as appropriate. \n",
        "df4 = pd.DataFrame({'group': ['Accounting', 'Engineering', 'HR'],\n",
        "                    'supervisor': ['Carly', 'Guido', 'Steve']})\n",
        "display('df3', 'df4', 'pd.merge(df3, df4)')"
      ],
      "execution_count": 62,
      "outputs": [
        {
          "output_type": "execute_result",
          "data": {
            "text/html": [
              "<div style=\"float: left; padding: 10px;\">\n",
              "    <p style='font-family:\"Courier New\", Courier, monospace'>df3</p><div>\n",
              "<style scoped>\n",
              "    .dataframe tbody tr th:only-of-type {\n",
              "        vertical-align: middle;\n",
              "    }\n",
              "\n",
              "    .dataframe tbody tr th {\n",
              "        vertical-align: top;\n",
              "    }\n",
              "\n",
              "    .dataframe thead th {\n",
              "        text-align: right;\n",
              "    }\n",
              "</style>\n",
              "<table border=\"1\" class=\"dataframe\">\n",
              "  <thead>\n",
              "    <tr style=\"text-align: right;\">\n",
              "      <th></th>\n",
              "      <th>employee</th>\n",
              "      <th>group</th>\n",
              "      <th>hire_date</th>\n",
              "    </tr>\n",
              "  </thead>\n",
              "  <tbody>\n",
              "    <tr>\n",
              "      <th>0</th>\n",
              "      <td>Bob</td>\n",
              "      <td>Accounting</td>\n",
              "      <td>2008</td>\n",
              "    </tr>\n",
              "    <tr>\n",
              "      <th>1</th>\n",
              "      <td>Jake</td>\n",
              "      <td>Engineering</td>\n",
              "      <td>2012</td>\n",
              "    </tr>\n",
              "    <tr>\n",
              "      <th>2</th>\n",
              "      <td>Lisa</td>\n",
              "      <td>Engineering</td>\n",
              "      <td>2004</td>\n",
              "    </tr>\n",
              "    <tr>\n",
              "      <th>3</th>\n",
              "      <td>Sue</td>\n",
              "      <td>HR</td>\n",
              "      <td>2014</td>\n",
              "    </tr>\n",
              "  </tbody>\n",
              "</table>\n",
              "</div>\n",
              "    </div>\n",
              "<div style=\"float: left; padding: 10px;\">\n",
              "    <p style='font-family:\"Courier New\", Courier, monospace'>df4</p><div>\n",
              "<style scoped>\n",
              "    .dataframe tbody tr th:only-of-type {\n",
              "        vertical-align: middle;\n",
              "    }\n",
              "\n",
              "    .dataframe tbody tr th {\n",
              "        vertical-align: top;\n",
              "    }\n",
              "\n",
              "    .dataframe thead th {\n",
              "        text-align: right;\n",
              "    }\n",
              "</style>\n",
              "<table border=\"1\" class=\"dataframe\">\n",
              "  <thead>\n",
              "    <tr style=\"text-align: right;\">\n",
              "      <th></th>\n",
              "      <th>group</th>\n",
              "      <th>supervisor</th>\n",
              "    </tr>\n",
              "  </thead>\n",
              "  <tbody>\n",
              "    <tr>\n",
              "      <th>0</th>\n",
              "      <td>Accounting</td>\n",
              "      <td>Carly</td>\n",
              "    </tr>\n",
              "    <tr>\n",
              "      <th>1</th>\n",
              "      <td>Engineering</td>\n",
              "      <td>Guido</td>\n",
              "    </tr>\n",
              "    <tr>\n",
              "      <th>2</th>\n",
              "      <td>HR</td>\n",
              "      <td>Steve</td>\n",
              "    </tr>\n",
              "  </tbody>\n",
              "</table>\n",
              "</div>\n",
              "    </div>\n",
              "<div style=\"float: left; padding: 10px;\">\n",
              "    <p style='font-family:\"Courier New\", Courier, monospace'>pd.merge(df3, df4)</p><div>\n",
              "<style scoped>\n",
              "    .dataframe tbody tr th:only-of-type {\n",
              "        vertical-align: middle;\n",
              "    }\n",
              "\n",
              "    .dataframe tbody tr th {\n",
              "        vertical-align: top;\n",
              "    }\n",
              "\n",
              "    .dataframe thead th {\n",
              "        text-align: right;\n",
              "    }\n",
              "</style>\n",
              "<table border=\"1\" class=\"dataframe\">\n",
              "  <thead>\n",
              "    <tr style=\"text-align: right;\">\n",
              "      <th></th>\n",
              "      <th>employee</th>\n",
              "      <th>group</th>\n",
              "      <th>hire_date</th>\n",
              "      <th>supervisor</th>\n",
              "    </tr>\n",
              "  </thead>\n",
              "  <tbody>\n",
              "    <tr>\n",
              "      <th>0</th>\n",
              "      <td>Bob</td>\n",
              "      <td>Accounting</td>\n",
              "      <td>2008</td>\n",
              "      <td>Carly</td>\n",
              "    </tr>\n",
              "    <tr>\n",
              "      <th>1</th>\n",
              "      <td>Jake</td>\n",
              "      <td>Engineering</td>\n",
              "      <td>2012</td>\n",
              "      <td>Guido</td>\n",
              "    </tr>\n",
              "    <tr>\n",
              "      <th>2</th>\n",
              "      <td>Lisa</td>\n",
              "      <td>Engineering</td>\n",
              "      <td>2004</td>\n",
              "      <td>Guido</td>\n",
              "    </tr>\n",
              "    <tr>\n",
              "      <th>3</th>\n",
              "      <td>Sue</td>\n",
              "      <td>HR</td>\n",
              "      <td>2014</td>\n",
              "      <td>Steve</td>\n",
              "    </tr>\n",
              "  </tbody>\n",
              "</table>\n",
              "</div>\n",
              "    </div>"
            ],
            "text/plain": [
              "df3\n",
              "  employee        group  hire_date\n",
              "0      Bob   Accounting       2008\n",
              "1     Jake  Engineering       2012\n",
              "2     Lisa  Engineering       2004\n",
              "3      Sue           HR       2014\n",
              "\n",
              "df4\n",
              "         group supervisor\n",
              "0   Accounting      Carly\n",
              "1  Engineering      Guido\n",
              "2           HR      Steve\n",
              "\n",
              "pd.merge(df3, df4)\n",
              "  employee        group  hire_date supervisor\n",
              "0      Bob   Accounting       2008      Carly\n",
              "1     Jake  Engineering       2012      Guido\n",
              "2     Lisa  Engineering       2004      Guido\n",
              "3      Sue           HR       2014      Steve"
            ]
          },
          "metadata": {
            "tags": []
          },
          "execution_count": 62
        }
      ]
    },
    {
      "metadata": {
        "id": "P3Zm4RvCvLRk",
        "colab_type": "code",
        "colab": {
          "base_uri": "https://localhost:8080/",
          "height": 346
        },
        "outputId": "82bb58de-7981-4a64-d980-16495ce3263f"
      },
      "cell_type": "code",
      "source": [
        "## Many-to-many joins\n",
        "# Many-to-many joins are a bit confusing conceptually, but are nevertheless well defined. If the key column in both the left and right array contains duplicates,\n",
        "# then the result is a many-to-many merge. This will be perhaps most clear with a concrete example.\n",
        "\n",
        "df5 = pd.DataFrame({'group': ['Accounting', 'Accounting',\n",
        "                              'Engineering', 'Engineering', 'HR', 'HR'],\n",
        "                    'skills': ['math', 'spreadsheets', 'coding', 'linux',\n",
        "                               'spreadsheets', 'organization']})\n",
        "display('df1', 'df5', \"pd.merge(df1, df5)\")\n",
        "\n"
      ],
      "execution_count": 63,
      "outputs": [
        {
          "output_type": "execute_result",
          "data": {
            "text/html": [
              "<div style=\"float: left; padding: 10px;\">\n",
              "    <p style='font-family:\"Courier New\", Courier, monospace'>df1</p><div>\n",
              "<style scoped>\n",
              "    .dataframe tbody tr th:only-of-type {\n",
              "        vertical-align: middle;\n",
              "    }\n",
              "\n",
              "    .dataframe tbody tr th {\n",
              "        vertical-align: top;\n",
              "    }\n",
              "\n",
              "    .dataframe thead th {\n",
              "        text-align: right;\n",
              "    }\n",
              "</style>\n",
              "<table border=\"1\" class=\"dataframe\">\n",
              "  <thead>\n",
              "    <tr style=\"text-align: right;\">\n",
              "      <th></th>\n",
              "      <th>employee</th>\n",
              "      <th>group</th>\n",
              "    </tr>\n",
              "  </thead>\n",
              "  <tbody>\n",
              "    <tr>\n",
              "      <th>0</th>\n",
              "      <td>Bob</td>\n",
              "      <td>Accounting</td>\n",
              "    </tr>\n",
              "    <tr>\n",
              "      <th>1</th>\n",
              "      <td>Jake</td>\n",
              "      <td>Engineering</td>\n",
              "    </tr>\n",
              "    <tr>\n",
              "      <th>2</th>\n",
              "      <td>Lisa</td>\n",
              "      <td>Engineering</td>\n",
              "    </tr>\n",
              "    <tr>\n",
              "      <th>3</th>\n",
              "      <td>Sue</td>\n",
              "      <td>HR</td>\n",
              "    </tr>\n",
              "  </tbody>\n",
              "</table>\n",
              "</div>\n",
              "    </div>\n",
              "<div style=\"float: left; padding: 10px;\">\n",
              "    <p style='font-family:\"Courier New\", Courier, monospace'>df5</p><div>\n",
              "<style scoped>\n",
              "    .dataframe tbody tr th:only-of-type {\n",
              "        vertical-align: middle;\n",
              "    }\n",
              "\n",
              "    .dataframe tbody tr th {\n",
              "        vertical-align: top;\n",
              "    }\n",
              "\n",
              "    .dataframe thead th {\n",
              "        text-align: right;\n",
              "    }\n",
              "</style>\n",
              "<table border=\"1\" class=\"dataframe\">\n",
              "  <thead>\n",
              "    <tr style=\"text-align: right;\">\n",
              "      <th></th>\n",
              "      <th>group</th>\n",
              "      <th>skills</th>\n",
              "    </tr>\n",
              "  </thead>\n",
              "  <tbody>\n",
              "    <tr>\n",
              "      <th>0</th>\n",
              "      <td>Accounting</td>\n",
              "      <td>math</td>\n",
              "    </tr>\n",
              "    <tr>\n",
              "      <th>1</th>\n",
              "      <td>Accounting</td>\n",
              "      <td>spreadsheets</td>\n",
              "    </tr>\n",
              "    <tr>\n",
              "      <th>2</th>\n",
              "      <td>Engineering</td>\n",
              "      <td>coding</td>\n",
              "    </tr>\n",
              "    <tr>\n",
              "      <th>3</th>\n",
              "      <td>Engineering</td>\n",
              "      <td>linux</td>\n",
              "    </tr>\n",
              "    <tr>\n",
              "      <th>4</th>\n",
              "      <td>HR</td>\n",
              "      <td>spreadsheets</td>\n",
              "    </tr>\n",
              "    <tr>\n",
              "      <th>5</th>\n",
              "      <td>HR</td>\n",
              "      <td>organization</td>\n",
              "    </tr>\n",
              "  </tbody>\n",
              "</table>\n",
              "</div>\n",
              "    </div>\n",
              "<div style=\"float: left; padding: 10px;\">\n",
              "    <p style='font-family:\"Courier New\", Courier, monospace'>pd.merge(df1, df5)</p><div>\n",
              "<style scoped>\n",
              "    .dataframe tbody tr th:only-of-type {\n",
              "        vertical-align: middle;\n",
              "    }\n",
              "\n",
              "    .dataframe tbody tr th {\n",
              "        vertical-align: top;\n",
              "    }\n",
              "\n",
              "    .dataframe thead th {\n",
              "        text-align: right;\n",
              "    }\n",
              "</style>\n",
              "<table border=\"1\" class=\"dataframe\">\n",
              "  <thead>\n",
              "    <tr style=\"text-align: right;\">\n",
              "      <th></th>\n",
              "      <th>employee</th>\n",
              "      <th>group</th>\n",
              "      <th>skills</th>\n",
              "    </tr>\n",
              "  </thead>\n",
              "  <tbody>\n",
              "    <tr>\n",
              "      <th>0</th>\n",
              "      <td>Bob</td>\n",
              "      <td>Accounting</td>\n",
              "      <td>math</td>\n",
              "    </tr>\n",
              "    <tr>\n",
              "      <th>1</th>\n",
              "      <td>Bob</td>\n",
              "      <td>Accounting</td>\n",
              "      <td>spreadsheets</td>\n",
              "    </tr>\n",
              "    <tr>\n",
              "      <th>2</th>\n",
              "      <td>Jake</td>\n",
              "      <td>Engineering</td>\n",
              "      <td>coding</td>\n",
              "    </tr>\n",
              "    <tr>\n",
              "      <th>3</th>\n",
              "      <td>Jake</td>\n",
              "      <td>Engineering</td>\n",
              "      <td>linux</td>\n",
              "    </tr>\n",
              "    <tr>\n",
              "      <th>4</th>\n",
              "      <td>Lisa</td>\n",
              "      <td>Engineering</td>\n",
              "      <td>coding</td>\n",
              "    </tr>\n",
              "    <tr>\n",
              "      <th>5</th>\n",
              "      <td>Lisa</td>\n",
              "      <td>Engineering</td>\n",
              "      <td>linux</td>\n",
              "    </tr>\n",
              "    <tr>\n",
              "      <th>6</th>\n",
              "      <td>Sue</td>\n",
              "      <td>HR</td>\n",
              "      <td>spreadsheets</td>\n",
              "    </tr>\n",
              "    <tr>\n",
              "      <th>7</th>\n",
              "      <td>Sue</td>\n",
              "      <td>HR</td>\n",
              "      <td>organization</td>\n",
              "    </tr>\n",
              "  </tbody>\n",
              "</table>\n",
              "</div>\n",
              "    </div>"
            ],
            "text/plain": [
              "df1\n",
              "  employee        group\n",
              "0      Bob   Accounting\n",
              "1     Jake  Engineering\n",
              "2     Lisa  Engineering\n",
              "3      Sue           HR\n",
              "\n",
              "df5\n",
              "         group        skills\n",
              "0   Accounting          math\n",
              "1   Accounting  spreadsheets\n",
              "2  Engineering        coding\n",
              "3  Engineering         linux\n",
              "4           HR  spreadsheets\n",
              "5           HR  organization\n",
              "\n",
              "pd.merge(df1, df5)\n",
              "  employee        group        skills\n",
              "0      Bob   Accounting          math\n",
              "1      Bob   Accounting  spreadsheets\n",
              "2     Jake  Engineering        coding\n",
              "3     Jake  Engineering         linux\n",
              "4     Lisa  Engineering        coding\n",
              "5     Lisa  Engineering         linux\n",
              "6      Sue           HR  spreadsheets\n",
              "7      Sue           HR  organization"
            ]
          },
          "metadata": {
            "tags": []
          },
          "execution_count": 63
        }
      ]
    },
    {
      "metadata": {
        "id": "KRh-abSK-yQC",
        "colab_type": "code",
        "colab": {
          "base_uri": "https://localhost:8080/",
          "height": 222
        },
        "outputId": "def973ae-7e0f-4999-d6e3-b79d65ab4221"
      },
      "cell_type": "code",
      "source": [
        "## The on keyword\n",
        "#Most simply, you can explicitly specify the name of the key column using the on keyword, which takes a column name or a list of column names\n",
        "display('df1', 'df2', \"pd.merge(df1, df2, on='employee')\")"
      ],
      "execution_count": 64,
      "outputs": [
        {
          "output_type": "execute_result",
          "data": {
            "text/html": [
              "<div style=\"float: left; padding: 10px;\">\n",
              "    <p style='font-family:\"Courier New\", Courier, monospace'>df1</p><div>\n",
              "<style scoped>\n",
              "    .dataframe tbody tr th:only-of-type {\n",
              "        vertical-align: middle;\n",
              "    }\n",
              "\n",
              "    .dataframe tbody tr th {\n",
              "        vertical-align: top;\n",
              "    }\n",
              "\n",
              "    .dataframe thead th {\n",
              "        text-align: right;\n",
              "    }\n",
              "</style>\n",
              "<table border=\"1\" class=\"dataframe\">\n",
              "  <thead>\n",
              "    <tr style=\"text-align: right;\">\n",
              "      <th></th>\n",
              "      <th>employee</th>\n",
              "      <th>group</th>\n",
              "    </tr>\n",
              "  </thead>\n",
              "  <tbody>\n",
              "    <tr>\n",
              "      <th>0</th>\n",
              "      <td>Bob</td>\n",
              "      <td>Accounting</td>\n",
              "    </tr>\n",
              "    <tr>\n",
              "      <th>1</th>\n",
              "      <td>Jake</td>\n",
              "      <td>Engineering</td>\n",
              "    </tr>\n",
              "    <tr>\n",
              "      <th>2</th>\n",
              "      <td>Lisa</td>\n",
              "      <td>Engineering</td>\n",
              "    </tr>\n",
              "    <tr>\n",
              "      <th>3</th>\n",
              "      <td>Sue</td>\n",
              "      <td>HR</td>\n",
              "    </tr>\n",
              "  </tbody>\n",
              "</table>\n",
              "</div>\n",
              "    </div>\n",
              "<div style=\"float: left; padding: 10px;\">\n",
              "    <p style='font-family:\"Courier New\", Courier, monospace'>df2</p><div>\n",
              "<style scoped>\n",
              "    .dataframe tbody tr th:only-of-type {\n",
              "        vertical-align: middle;\n",
              "    }\n",
              "\n",
              "    .dataframe tbody tr th {\n",
              "        vertical-align: top;\n",
              "    }\n",
              "\n",
              "    .dataframe thead th {\n",
              "        text-align: right;\n",
              "    }\n",
              "</style>\n",
              "<table border=\"1\" class=\"dataframe\">\n",
              "  <thead>\n",
              "    <tr style=\"text-align: right;\">\n",
              "      <th></th>\n",
              "      <th>employee</th>\n",
              "      <th>hire_date</th>\n",
              "    </tr>\n",
              "  </thead>\n",
              "  <tbody>\n",
              "    <tr>\n",
              "      <th>0</th>\n",
              "      <td>Lisa</td>\n",
              "      <td>2004</td>\n",
              "    </tr>\n",
              "    <tr>\n",
              "      <th>1</th>\n",
              "      <td>Bob</td>\n",
              "      <td>2008</td>\n",
              "    </tr>\n",
              "    <tr>\n",
              "      <th>2</th>\n",
              "      <td>Jake</td>\n",
              "      <td>2012</td>\n",
              "    </tr>\n",
              "    <tr>\n",
              "      <th>3</th>\n",
              "      <td>Sue</td>\n",
              "      <td>2014</td>\n",
              "    </tr>\n",
              "  </tbody>\n",
              "</table>\n",
              "</div>\n",
              "    </div>\n",
              "<div style=\"float: left; padding: 10px;\">\n",
              "    <p style='font-family:\"Courier New\", Courier, monospace'>pd.merge(df1, df2, on='employee')</p><div>\n",
              "<style scoped>\n",
              "    .dataframe tbody tr th:only-of-type {\n",
              "        vertical-align: middle;\n",
              "    }\n",
              "\n",
              "    .dataframe tbody tr th {\n",
              "        vertical-align: top;\n",
              "    }\n",
              "\n",
              "    .dataframe thead th {\n",
              "        text-align: right;\n",
              "    }\n",
              "</style>\n",
              "<table border=\"1\" class=\"dataframe\">\n",
              "  <thead>\n",
              "    <tr style=\"text-align: right;\">\n",
              "      <th></th>\n",
              "      <th>employee</th>\n",
              "      <th>group</th>\n",
              "      <th>hire_date</th>\n",
              "    </tr>\n",
              "  </thead>\n",
              "  <tbody>\n",
              "    <tr>\n",
              "      <th>0</th>\n",
              "      <td>Bob</td>\n",
              "      <td>Accounting</td>\n",
              "      <td>2008</td>\n",
              "    </tr>\n",
              "    <tr>\n",
              "      <th>1</th>\n",
              "      <td>Jake</td>\n",
              "      <td>Engineering</td>\n",
              "      <td>2012</td>\n",
              "    </tr>\n",
              "    <tr>\n",
              "      <th>2</th>\n",
              "      <td>Lisa</td>\n",
              "      <td>Engineering</td>\n",
              "      <td>2004</td>\n",
              "    </tr>\n",
              "    <tr>\n",
              "      <th>3</th>\n",
              "      <td>Sue</td>\n",
              "      <td>HR</td>\n",
              "      <td>2014</td>\n",
              "    </tr>\n",
              "  </tbody>\n",
              "</table>\n",
              "</div>\n",
              "    </div>"
            ],
            "text/plain": [
              "df1\n",
              "  employee        group\n",
              "0      Bob   Accounting\n",
              "1     Jake  Engineering\n",
              "2     Lisa  Engineering\n",
              "3      Sue           HR\n",
              "\n",
              "df2\n",
              "  employee  hire_date\n",
              "0     Lisa       2004\n",
              "1      Bob       2008\n",
              "2     Jake       2012\n",
              "3      Sue       2014\n",
              "\n",
              "pd.merge(df1, df2, on='employee')\n",
              "  employee        group  hire_date\n",
              "0      Bob   Accounting       2008\n",
              "1     Jake  Engineering       2012\n",
              "2     Lisa  Engineering       2004\n",
              "3      Sue           HR       2014"
            ]
          },
          "metadata": {
            "tags": []
          },
          "execution_count": 64
        }
      ]
    },
    {
      "metadata": {
        "id": "KYvIzEsb-5DQ",
        "colab_type": "code",
        "colab": {
          "base_uri": "https://localhost:8080/",
          "height": 427
        },
        "outputId": "f453f477-10e1-4497-a966-c969e990647a"
      },
      "cell_type": "code",
      "source": [
        "## The left_on and right_on keywords\n",
        "# At times you may wish to merge two datasets with different column names; for example, we may have a dataset in which the employee name is labeled as \"name\" \n",
        "# rather than \"employee\". In this case, we can use the left_on and right_on keywords to specify the two column names.\n",
        "\n",
        "df3 = pd.DataFrame({'name': ['Bob', 'Jake', 'Lisa', 'Sue'],\n",
        "                    'salary': [70000, 80000, 120000, 90000]})\n",
        "display('df1', 'df3', 'pd.merge(df1, df3, left_on=\"employee\", right_on=\"name\")',\"pd.merge(df1, df3, left_on='employee', right_on='name').drop('name', axis=1)\")\n",
        "\n",
        "# The result has a redundant column that we can drop if desired–for example, by using the drop() method of DataFrames\n",
        "# pd.merge(df1, df3, left_on=\"employee\", right_on=\"name\").drop('name', axis=1)\n"
      ],
      "execution_count": 65,
      "outputs": [
        {
          "output_type": "execute_result",
          "data": {
            "text/html": [
              "<div style=\"float: left; padding: 10px;\">\n",
              "    <p style='font-family:\"Courier New\", Courier, monospace'>df1</p><div>\n",
              "<style scoped>\n",
              "    .dataframe tbody tr th:only-of-type {\n",
              "        vertical-align: middle;\n",
              "    }\n",
              "\n",
              "    .dataframe tbody tr th {\n",
              "        vertical-align: top;\n",
              "    }\n",
              "\n",
              "    .dataframe thead th {\n",
              "        text-align: right;\n",
              "    }\n",
              "</style>\n",
              "<table border=\"1\" class=\"dataframe\">\n",
              "  <thead>\n",
              "    <tr style=\"text-align: right;\">\n",
              "      <th></th>\n",
              "      <th>employee</th>\n",
              "      <th>group</th>\n",
              "    </tr>\n",
              "  </thead>\n",
              "  <tbody>\n",
              "    <tr>\n",
              "      <th>0</th>\n",
              "      <td>Bob</td>\n",
              "      <td>Accounting</td>\n",
              "    </tr>\n",
              "    <tr>\n",
              "      <th>1</th>\n",
              "      <td>Jake</td>\n",
              "      <td>Engineering</td>\n",
              "    </tr>\n",
              "    <tr>\n",
              "      <th>2</th>\n",
              "      <td>Lisa</td>\n",
              "      <td>Engineering</td>\n",
              "    </tr>\n",
              "    <tr>\n",
              "      <th>3</th>\n",
              "      <td>Sue</td>\n",
              "      <td>HR</td>\n",
              "    </tr>\n",
              "  </tbody>\n",
              "</table>\n",
              "</div>\n",
              "    </div>\n",
              "<div style=\"float: left; padding: 10px;\">\n",
              "    <p style='font-family:\"Courier New\", Courier, monospace'>df3</p><div>\n",
              "<style scoped>\n",
              "    .dataframe tbody tr th:only-of-type {\n",
              "        vertical-align: middle;\n",
              "    }\n",
              "\n",
              "    .dataframe tbody tr th {\n",
              "        vertical-align: top;\n",
              "    }\n",
              "\n",
              "    .dataframe thead th {\n",
              "        text-align: right;\n",
              "    }\n",
              "</style>\n",
              "<table border=\"1\" class=\"dataframe\">\n",
              "  <thead>\n",
              "    <tr style=\"text-align: right;\">\n",
              "      <th></th>\n",
              "      <th>name</th>\n",
              "      <th>salary</th>\n",
              "    </tr>\n",
              "  </thead>\n",
              "  <tbody>\n",
              "    <tr>\n",
              "      <th>0</th>\n",
              "      <td>Bob</td>\n",
              "      <td>70000</td>\n",
              "    </tr>\n",
              "    <tr>\n",
              "      <th>1</th>\n",
              "      <td>Jake</td>\n",
              "      <td>80000</td>\n",
              "    </tr>\n",
              "    <tr>\n",
              "      <th>2</th>\n",
              "      <td>Lisa</td>\n",
              "      <td>120000</td>\n",
              "    </tr>\n",
              "    <tr>\n",
              "      <th>3</th>\n",
              "      <td>Sue</td>\n",
              "      <td>90000</td>\n",
              "    </tr>\n",
              "  </tbody>\n",
              "</table>\n",
              "</div>\n",
              "    </div>\n",
              "<div style=\"float: left; padding: 10px;\">\n",
              "    <p style='font-family:\"Courier New\", Courier, monospace'>pd.merge(df1, df3, left_on=\"employee\", right_on=\"name\")</p><div>\n",
              "<style scoped>\n",
              "    .dataframe tbody tr th:only-of-type {\n",
              "        vertical-align: middle;\n",
              "    }\n",
              "\n",
              "    .dataframe tbody tr th {\n",
              "        vertical-align: top;\n",
              "    }\n",
              "\n",
              "    .dataframe thead th {\n",
              "        text-align: right;\n",
              "    }\n",
              "</style>\n",
              "<table border=\"1\" class=\"dataframe\">\n",
              "  <thead>\n",
              "    <tr style=\"text-align: right;\">\n",
              "      <th></th>\n",
              "      <th>employee</th>\n",
              "      <th>group</th>\n",
              "      <th>name</th>\n",
              "      <th>salary</th>\n",
              "    </tr>\n",
              "  </thead>\n",
              "  <tbody>\n",
              "    <tr>\n",
              "      <th>0</th>\n",
              "      <td>Bob</td>\n",
              "      <td>Accounting</td>\n",
              "      <td>Bob</td>\n",
              "      <td>70000</td>\n",
              "    </tr>\n",
              "    <tr>\n",
              "      <th>1</th>\n",
              "      <td>Jake</td>\n",
              "      <td>Engineering</td>\n",
              "      <td>Jake</td>\n",
              "      <td>80000</td>\n",
              "    </tr>\n",
              "    <tr>\n",
              "      <th>2</th>\n",
              "      <td>Lisa</td>\n",
              "      <td>Engineering</td>\n",
              "      <td>Lisa</td>\n",
              "      <td>120000</td>\n",
              "    </tr>\n",
              "    <tr>\n",
              "      <th>3</th>\n",
              "      <td>Sue</td>\n",
              "      <td>HR</td>\n",
              "      <td>Sue</td>\n",
              "      <td>90000</td>\n",
              "    </tr>\n",
              "  </tbody>\n",
              "</table>\n",
              "</div>\n",
              "    </div>\n",
              "<div style=\"float: left; padding: 10px;\">\n",
              "    <p style='font-family:\"Courier New\", Courier, monospace'>pd.merge(df1, df3, left_on='employee', right_on='name').drop('name', axis=1)</p><div>\n",
              "<style scoped>\n",
              "    .dataframe tbody tr th:only-of-type {\n",
              "        vertical-align: middle;\n",
              "    }\n",
              "\n",
              "    .dataframe tbody tr th {\n",
              "        vertical-align: top;\n",
              "    }\n",
              "\n",
              "    .dataframe thead th {\n",
              "        text-align: right;\n",
              "    }\n",
              "</style>\n",
              "<table border=\"1\" class=\"dataframe\">\n",
              "  <thead>\n",
              "    <tr style=\"text-align: right;\">\n",
              "      <th></th>\n",
              "      <th>employee</th>\n",
              "      <th>group</th>\n",
              "      <th>salary</th>\n",
              "    </tr>\n",
              "  </thead>\n",
              "  <tbody>\n",
              "    <tr>\n",
              "      <th>0</th>\n",
              "      <td>Bob</td>\n",
              "      <td>Accounting</td>\n",
              "      <td>70000</td>\n",
              "    </tr>\n",
              "    <tr>\n",
              "      <th>1</th>\n",
              "      <td>Jake</td>\n",
              "      <td>Engineering</td>\n",
              "      <td>80000</td>\n",
              "    </tr>\n",
              "    <tr>\n",
              "      <th>2</th>\n",
              "      <td>Lisa</td>\n",
              "      <td>Engineering</td>\n",
              "      <td>120000</td>\n",
              "    </tr>\n",
              "    <tr>\n",
              "      <th>3</th>\n",
              "      <td>Sue</td>\n",
              "      <td>HR</td>\n",
              "      <td>90000</td>\n",
              "    </tr>\n",
              "  </tbody>\n",
              "</table>\n",
              "</div>\n",
              "    </div>"
            ],
            "text/plain": [
              "df1\n",
              "  employee        group\n",
              "0      Bob   Accounting\n",
              "1     Jake  Engineering\n",
              "2     Lisa  Engineering\n",
              "3      Sue           HR\n",
              "\n",
              "df3\n",
              "   name  salary\n",
              "0   Bob   70000\n",
              "1  Jake   80000\n",
              "2  Lisa  120000\n",
              "3   Sue   90000\n",
              "\n",
              "pd.merge(df1, df3, left_on=\"employee\", right_on=\"name\")\n",
              "  employee        group  name  salary\n",
              "0      Bob   Accounting   Bob   70000\n",
              "1     Jake  Engineering  Jake   80000\n",
              "2     Lisa  Engineering  Lisa  120000\n",
              "3      Sue           HR   Sue   90000\n",
              "\n",
              "pd.merge(df1, df3, left_on='employee', right_on='name').drop('name', axis=1)\n",
              "  employee        group  salary\n",
              "0      Bob   Accounting   70000\n",
              "1     Jake  Engineering   80000\n",
              "2     Lisa  Engineering  120000\n",
              "3      Sue           HR   90000"
            ]
          },
          "metadata": {
            "tags": []
          },
          "execution_count": 65
        }
      ]
    },
    {
      "metadata": {
        "id": "ZR7WkFBM_N7v",
        "colab_type": "code",
        "colab": {
          "base_uri": "https://localhost:8080/",
          "height": 253
        },
        "outputId": "7a904f8a-e224-4965-ee41-2e7569e36fd0"
      },
      "cell_type": "code",
      "source": [
        "## The left_index and right_index keywords\n",
        "# Sometimes, rather than merging on a column, you would instead like to merge on an index. For example, your data might look like this:\n",
        "df1a = df1.set_index('employee')\n",
        "df2a = df2.set_index('employee')\n",
        "display('df1a', 'df2a')\n",
        "\n",
        "display('df1a', 'df2a',\n",
        "        \"pd.merge(df1a, df2a, left_index=True, right_index=True)\")"
      ],
      "execution_count": 66,
      "outputs": [
        {
          "output_type": "execute_result",
          "data": {
            "text/html": [
              "<div style=\"float: left; padding: 10px;\">\n",
              "    <p style='font-family:\"Courier New\", Courier, monospace'>df1a</p><div>\n",
              "<style scoped>\n",
              "    .dataframe tbody tr th:only-of-type {\n",
              "        vertical-align: middle;\n",
              "    }\n",
              "\n",
              "    .dataframe tbody tr th {\n",
              "        vertical-align: top;\n",
              "    }\n",
              "\n",
              "    .dataframe thead th {\n",
              "        text-align: right;\n",
              "    }\n",
              "</style>\n",
              "<table border=\"1\" class=\"dataframe\">\n",
              "  <thead>\n",
              "    <tr style=\"text-align: right;\">\n",
              "      <th></th>\n",
              "      <th>group</th>\n",
              "    </tr>\n",
              "    <tr>\n",
              "      <th>employee</th>\n",
              "      <th></th>\n",
              "    </tr>\n",
              "  </thead>\n",
              "  <tbody>\n",
              "    <tr>\n",
              "      <th>Bob</th>\n",
              "      <td>Accounting</td>\n",
              "    </tr>\n",
              "    <tr>\n",
              "      <th>Jake</th>\n",
              "      <td>Engineering</td>\n",
              "    </tr>\n",
              "    <tr>\n",
              "      <th>Lisa</th>\n",
              "      <td>Engineering</td>\n",
              "    </tr>\n",
              "    <tr>\n",
              "      <th>Sue</th>\n",
              "      <td>HR</td>\n",
              "    </tr>\n",
              "  </tbody>\n",
              "</table>\n",
              "</div>\n",
              "    </div>\n",
              "<div style=\"float: left; padding: 10px;\">\n",
              "    <p style='font-family:\"Courier New\", Courier, monospace'>df2a</p><div>\n",
              "<style scoped>\n",
              "    .dataframe tbody tr th:only-of-type {\n",
              "        vertical-align: middle;\n",
              "    }\n",
              "\n",
              "    .dataframe tbody tr th {\n",
              "        vertical-align: top;\n",
              "    }\n",
              "\n",
              "    .dataframe thead th {\n",
              "        text-align: right;\n",
              "    }\n",
              "</style>\n",
              "<table border=\"1\" class=\"dataframe\">\n",
              "  <thead>\n",
              "    <tr style=\"text-align: right;\">\n",
              "      <th></th>\n",
              "      <th>hire_date</th>\n",
              "    </tr>\n",
              "    <tr>\n",
              "      <th>employee</th>\n",
              "      <th></th>\n",
              "    </tr>\n",
              "  </thead>\n",
              "  <tbody>\n",
              "    <tr>\n",
              "      <th>Lisa</th>\n",
              "      <td>2004</td>\n",
              "    </tr>\n",
              "    <tr>\n",
              "      <th>Bob</th>\n",
              "      <td>2008</td>\n",
              "    </tr>\n",
              "    <tr>\n",
              "      <th>Jake</th>\n",
              "      <td>2012</td>\n",
              "    </tr>\n",
              "    <tr>\n",
              "      <th>Sue</th>\n",
              "      <td>2014</td>\n",
              "    </tr>\n",
              "  </tbody>\n",
              "</table>\n",
              "</div>\n",
              "    </div>\n",
              "<div style=\"float: left; padding: 10px;\">\n",
              "    <p style='font-family:\"Courier New\", Courier, monospace'>pd.merge(df1a, df2a, left_index=True, right_index=True)</p><div>\n",
              "<style scoped>\n",
              "    .dataframe tbody tr th:only-of-type {\n",
              "        vertical-align: middle;\n",
              "    }\n",
              "\n",
              "    .dataframe tbody tr th {\n",
              "        vertical-align: top;\n",
              "    }\n",
              "\n",
              "    .dataframe thead th {\n",
              "        text-align: right;\n",
              "    }\n",
              "</style>\n",
              "<table border=\"1\" class=\"dataframe\">\n",
              "  <thead>\n",
              "    <tr style=\"text-align: right;\">\n",
              "      <th></th>\n",
              "      <th>group</th>\n",
              "      <th>hire_date</th>\n",
              "    </tr>\n",
              "    <tr>\n",
              "      <th>employee</th>\n",
              "      <th></th>\n",
              "      <th></th>\n",
              "    </tr>\n",
              "  </thead>\n",
              "  <tbody>\n",
              "    <tr>\n",
              "      <th>Bob</th>\n",
              "      <td>Accounting</td>\n",
              "      <td>2008</td>\n",
              "    </tr>\n",
              "    <tr>\n",
              "      <th>Jake</th>\n",
              "      <td>Engineering</td>\n",
              "      <td>2012</td>\n",
              "    </tr>\n",
              "    <tr>\n",
              "      <th>Lisa</th>\n",
              "      <td>Engineering</td>\n",
              "      <td>2004</td>\n",
              "    </tr>\n",
              "    <tr>\n",
              "      <th>Sue</th>\n",
              "      <td>HR</td>\n",
              "      <td>2014</td>\n",
              "    </tr>\n",
              "  </tbody>\n",
              "</table>\n",
              "</div>\n",
              "    </div>"
            ],
            "text/plain": [
              "df1a\n",
              "                group\n",
              "employee             \n",
              "Bob        Accounting\n",
              "Jake      Engineering\n",
              "Lisa      Engineering\n",
              "Sue                HR\n",
              "\n",
              "df2a\n",
              "          hire_date\n",
              "employee           \n",
              "Lisa           2004\n",
              "Bob            2008\n",
              "Jake           2012\n",
              "Sue            2014\n",
              "\n",
              "pd.merge(df1a, df2a, left_index=True, right_index=True)\n",
              "                group  hire_date\n",
              "employee                        \n",
              "Bob        Accounting       2008\n",
              "Jake      Engineering       2012\n",
              "Lisa      Engineering       2004\n",
              "Sue                HR       2014"
            ]
          },
          "metadata": {
            "tags": []
          },
          "execution_count": 66
        }
      ]
    },
    {
      "metadata": {
        "id": "yJ0nrXkb_PD7",
        "colab_type": "code",
        "colab": {
          "base_uri": "https://localhost:8080/",
          "height": 191
        },
        "outputId": "2b9166e1-5199-4aef-a924-4b8457497fa8"
      },
      "cell_type": "code",
      "source": [
        "## Specifying Set Arithmetic for Joins\n",
        "# In all the preceding examples we have glossed over one important consideration in performing a join: the type of set arithmetic used in the join. \n",
        "# This comes up when a value appears in one key column but not the other. \n",
        "df6 = pd.DataFrame({'name': ['Peter', 'Paul', 'Mary'],\n",
        "                    'food': ['fish', 'beans', 'bread']},\n",
        "                   columns=['name', 'food'])\n",
        "df7 = pd.DataFrame({'name': ['Mary', 'Joseph'],\n",
        "                    'drink': ['wine', 'beer']},\n",
        "                   columns=['name', 'drink'])\n",
        "display('df6', 'df7', 'pd.merge(df6, df7)')"
      ],
      "execution_count": 67,
      "outputs": [
        {
          "output_type": "execute_result",
          "data": {
            "text/html": [
              "<div style=\"float: left; padding: 10px;\">\n",
              "    <p style='font-family:\"Courier New\", Courier, monospace'>df6</p><div>\n",
              "<style scoped>\n",
              "    .dataframe tbody tr th:only-of-type {\n",
              "        vertical-align: middle;\n",
              "    }\n",
              "\n",
              "    .dataframe tbody tr th {\n",
              "        vertical-align: top;\n",
              "    }\n",
              "\n",
              "    .dataframe thead th {\n",
              "        text-align: right;\n",
              "    }\n",
              "</style>\n",
              "<table border=\"1\" class=\"dataframe\">\n",
              "  <thead>\n",
              "    <tr style=\"text-align: right;\">\n",
              "      <th></th>\n",
              "      <th>name</th>\n",
              "      <th>food</th>\n",
              "    </tr>\n",
              "  </thead>\n",
              "  <tbody>\n",
              "    <tr>\n",
              "      <th>0</th>\n",
              "      <td>Peter</td>\n",
              "      <td>fish</td>\n",
              "    </tr>\n",
              "    <tr>\n",
              "      <th>1</th>\n",
              "      <td>Paul</td>\n",
              "      <td>beans</td>\n",
              "    </tr>\n",
              "    <tr>\n",
              "      <th>2</th>\n",
              "      <td>Mary</td>\n",
              "      <td>bread</td>\n",
              "    </tr>\n",
              "  </tbody>\n",
              "</table>\n",
              "</div>\n",
              "    </div>\n",
              "<div style=\"float: left; padding: 10px;\">\n",
              "    <p style='font-family:\"Courier New\", Courier, monospace'>df7</p><div>\n",
              "<style scoped>\n",
              "    .dataframe tbody tr th:only-of-type {\n",
              "        vertical-align: middle;\n",
              "    }\n",
              "\n",
              "    .dataframe tbody tr th {\n",
              "        vertical-align: top;\n",
              "    }\n",
              "\n",
              "    .dataframe thead th {\n",
              "        text-align: right;\n",
              "    }\n",
              "</style>\n",
              "<table border=\"1\" class=\"dataframe\">\n",
              "  <thead>\n",
              "    <tr style=\"text-align: right;\">\n",
              "      <th></th>\n",
              "      <th>name</th>\n",
              "      <th>drink</th>\n",
              "    </tr>\n",
              "  </thead>\n",
              "  <tbody>\n",
              "    <tr>\n",
              "      <th>0</th>\n",
              "      <td>Mary</td>\n",
              "      <td>wine</td>\n",
              "    </tr>\n",
              "    <tr>\n",
              "      <th>1</th>\n",
              "      <td>Joseph</td>\n",
              "      <td>beer</td>\n",
              "    </tr>\n",
              "  </tbody>\n",
              "</table>\n",
              "</div>\n",
              "    </div>\n",
              "<div style=\"float: left; padding: 10px;\">\n",
              "    <p style='font-family:\"Courier New\", Courier, monospace'>pd.merge(df6, df7)</p><div>\n",
              "<style scoped>\n",
              "    .dataframe tbody tr th:only-of-type {\n",
              "        vertical-align: middle;\n",
              "    }\n",
              "\n",
              "    .dataframe tbody tr th {\n",
              "        vertical-align: top;\n",
              "    }\n",
              "\n",
              "    .dataframe thead th {\n",
              "        text-align: right;\n",
              "    }\n",
              "</style>\n",
              "<table border=\"1\" class=\"dataframe\">\n",
              "  <thead>\n",
              "    <tr style=\"text-align: right;\">\n",
              "      <th></th>\n",
              "      <th>name</th>\n",
              "      <th>food</th>\n",
              "      <th>drink</th>\n",
              "    </tr>\n",
              "  </thead>\n",
              "  <tbody>\n",
              "    <tr>\n",
              "      <th>0</th>\n",
              "      <td>Mary</td>\n",
              "      <td>bread</td>\n",
              "      <td>wine</td>\n",
              "    </tr>\n",
              "  </tbody>\n",
              "</table>\n",
              "</div>\n",
              "    </div>"
            ],
            "text/plain": [
              "df6\n",
              "    name   food\n",
              "0  Peter   fish\n",
              "1   Paul  beans\n",
              "2   Mary  bread\n",
              "\n",
              "df7\n",
              "     name drink\n",
              "0    Mary  wine\n",
              "1  Joseph  beer\n",
              "\n",
              "pd.merge(df6, df7)\n",
              "   name   food drink\n",
              "0  Mary  bread  wine"
            ]
          },
          "metadata": {
            "tags": []
          },
          "execution_count": 67
        }
      ]
    },
    {
      "metadata": {
        "id": "luin1zr6_PGz",
        "colab_type": "code",
        "colab": {
          "base_uri": "https://localhost:8080/",
          "height": 222
        },
        "outputId": "de8ddd2d-9f81-4e48-cdf8-71f6de2fcd86"
      },
      "cell_type": "code",
      "source": [
        "##  Overlapping Column Names: The suffixes Keyword\n",
        "# Finally, you may end up in a case where your two input DataFrames have conflicting column names.\n",
        "df8 = pd.DataFrame({'name': ['Bob', 'Jake', 'Lisa', 'Sue'],\n",
        "                    'rank': [1, 2, 3, 4]})\n",
        "df9 = pd.DataFrame({'name': ['Bob', 'Jake', 'Lisa', 'Sue'],\n",
        "                    'rank': [3, 1, 4, 2]})\n",
        "display('df8', 'df9', 'pd.merge(df8, df9, on=\"name\")')"
      ],
      "execution_count": 68,
      "outputs": [
        {
          "output_type": "execute_result",
          "data": {
            "text/html": [
              "<div style=\"float: left; padding: 10px;\">\n",
              "    <p style='font-family:\"Courier New\", Courier, monospace'>df8</p><div>\n",
              "<style scoped>\n",
              "    .dataframe tbody tr th:only-of-type {\n",
              "        vertical-align: middle;\n",
              "    }\n",
              "\n",
              "    .dataframe tbody tr th {\n",
              "        vertical-align: top;\n",
              "    }\n",
              "\n",
              "    .dataframe thead th {\n",
              "        text-align: right;\n",
              "    }\n",
              "</style>\n",
              "<table border=\"1\" class=\"dataframe\">\n",
              "  <thead>\n",
              "    <tr style=\"text-align: right;\">\n",
              "      <th></th>\n",
              "      <th>name</th>\n",
              "      <th>rank</th>\n",
              "    </tr>\n",
              "  </thead>\n",
              "  <tbody>\n",
              "    <tr>\n",
              "      <th>0</th>\n",
              "      <td>Bob</td>\n",
              "      <td>1</td>\n",
              "    </tr>\n",
              "    <tr>\n",
              "      <th>1</th>\n",
              "      <td>Jake</td>\n",
              "      <td>2</td>\n",
              "    </tr>\n",
              "    <tr>\n",
              "      <th>2</th>\n",
              "      <td>Lisa</td>\n",
              "      <td>3</td>\n",
              "    </tr>\n",
              "    <tr>\n",
              "      <th>3</th>\n",
              "      <td>Sue</td>\n",
              "      <td>4</td>\n",
              "    </tr>\n",
              "  </tbody>\n",
              "</table>\n",
              "</div>\n",
              "    </div>\n",
              "<div style=\"float: left; padding: 10px;\">\n",
              "    <p style='font-family:\"Courier New\", Courier, monospace'>df9</p><div>\n",
              "<style scoped>\n",
              "    .dataframe tbody tr th:only-of-type {\n",
              "        vertical-align: middle;\n",
              "    }\n",
              "\n",
              "    .dataframe tbody tr th {\n",
              "        vertical-align: top;\n",
              "    }\n",
              "\n",
              "    .dataframe thead th {\n",
              "        text-align: right;\n",
              "    }\n",
              "</style>\n",
              "<table border=\"1\" class=\"dataframe\">\n",
              "  <thead>\n",
              "    <tr style=\"text-align: right;\">\n",
              "      <th></th>\n",
              "      <th>name</th>\n",
              "      <th>rank</th>\n",
              "    </tr>\n",
              "  </thead>\n",
              "  <tbody>\n",
              "    <tr>\n",
              "      <th>0</th>\n",
              "      <td>Bob</td>\n",
              "      <td>3</td>\n",
              "    </tr>\n",
              "    <tr>\n",
              "      <th>1</th>\n",
              "      <td>Jake</td>\n",
              "      <td>1</td>\n",
              "    </tr>\n",
              "    <tr>\n",
              "      <th>2</th>\n",
              "      <td>Lisa</td>\n",
              "      <td>4</td>\n",
              "    </tr>\n",
              "    <tr>\n",
              "      <th>3</th>\n",
              "      <td>Sue</td>\n",
              "      <td>2</td>\n",
              "    </tr>\n",
              "  </tbody>\n",
              "</table>\n",
              "</div>\n",
              "    </div>\n",
              "<div style=\"float: left; padding: 10px;\">\n",
              "    <p style='font-family:\"Courier New\", Courier, monospace'>pd.merge(df8, df9, on=\"name\")</p><div>\n",
              "<style scoped>\n",
              "    .dataframe tbody tr th:only-of-type {\n",
              "        vertical-align: middle;\n",
              "    }\n",
              "\n",
              "    .dataframe tbody tr th {\n",
              "        vertical-align: top;\n",
              "    }\n",
              "\n",
              "    .dataframe thead th {\n",
              "        text-align: right;\n",
              "    }\n",
              "</style>\n",
              "<table border=\"1\" class=\"dataframe\">\n",
              "  <thead>\n",
              "    <tr style=\"text-align: right;\">\n",
              "      <th></th>\n",
              "      <th>name</th>\n",
              "      <th>rank_x</th>\n",
              "      <th>rank_y</th>\n",
              "    </tr>\n",
              "  </thead>\n",
              "  <tbody>\n",
              "    <tr>\n",
              "      <th>0</th>\n",
              "      <td>Bob</td>\n",
              "      <td>1</td>\n",
              "      <td>3</td>\n",
              "    </tr>\n",
              "    <tr>\n",
              "      <th>1</th>\n",
              "      <td>Jake</td>\n",
              "      <td>2</td>\n",
              "      <td>1</td>\n",
              "    </tr>\n",
              "    <tr>\n",
              "      <th>2</th>\n",
              "      <td>Lisa</td>\n",
              "      <td>3</td>\n",
              "      <td>4</td>\n",
              "    </tr>\n",
              "    <tr>\n",
              "      <th>3</th>\n",
              "      <td>Sue</td>\n",
              "      <td>4</td>\n",
              "      <td>2</td>\n",
              "    </tr>\n",
              "  </tbody>\n",
              "</table>\n",
              "</div>\n",
              "    </div>"
            ],
            "text/plain": [
              "df8\n",
              "   name  rank\n",
              "0   Bob     1\n",
              "1  Jake     2\n",
              "2  Lisa     3\n",
              "3   Sue     4\n",
              "\n",
              "df9\n",
              "   name  rank\n",
              "0   Bob     3\n",
              "1  Jake     1\n",
              "2  Lisa     4\n",
              "3   Sue     2\n",
              "\n",
              "pd.merge(df8, df9, on=\"name\")\n",
              "   name  rank_x  rank_y\n",
              "0   Bob       1       3\n",
              "1  Jake       2       1\n",
              "2  Lisa       3       4\n",
              "3   Sue       4       2"
            ]
          },
          "metadata": {
            "tags": []
          },
          "execution_count": 68
        }
      ]
    },
    {
      "metadata": {
        "id": "oixvS9ph_PKY",
        "colab_type": "code",
        "colab": {
          "base_uri": "https://localhost:8080/",
          "height": 222
        },
        "outputId": "19524c3c-1f61-4911-8750-f2837760b869"
      },
      "cell_type": "code",
      "source": [
        "# Insted of default suffixes, we can specify our own also,\n",
        "display('df8', 'df9', 'pd.merge(df8, df9, on=\"name\", suffixes=[\"_L\", \"_R\"])')"
      ],
      "execution_count": 69,
      "outputs": [
        {
          "output_type": "execute_result",
          "data": {
            "text/html": [
              "<div style=\"float: left; padding: 10px;\">\n",
              "    <p style='font-family:\"Courier New\", Courier, monospace'>df8</p><div>\n",
              "<style scoped>\n",
              "    .dataframe tbody tr th:only-of-type {\n",
              "        vertical-align: middle;\n",
              "    }\n",
              "\n",
              "    .dataframe tbody tr th {\n",
              "        vertical-align: top;\n",
              "    }\n",
              "\n",
              "    .dataframe thead th {\n",
              "        text-align: right;\n",
              "    }\n",
              "</style>\n",
              "<table border=\"1\" class=\"dataframe\">\n",
              "  <thead>\n",
              "    <tr style=\"text-align: right;\">\n",
              "      <th></th>\n",
              "      <th>name</th>\n",
              "      <th>rank</th>\n",
              "    </tr>\n",
              "  </thead>\n",
              "  <tbody>\n",
              "    <tr>\n",
              "      <th>0</th>\n",
              "      <td>Bob</td>\n",
              "      <td>1</td>\n",
              "    </tr>\n",
              "    <tr>\n",
              "      <th>1</th>\n",
              "      <td>Jake</td>\n",
              "      <td>2</td>\n",
              "    </tr>\n",
              "    <tr>\n",
              "      <th>2</th>\n",
              "      <td>Lisa</td>\n",
              "      <td>3</td>\n",
              "    </tr>\n",
              "    <tr>\n",
              "      <th>3</th>\n",
              "      <td>Sue</td>\n",
              "      <td>4</td>\n",
              "    </tr>\n",
              "  </tbody>\n",
              "</table>\n",
              "</div>\n",
              "    </div>\n",
              "<div style=\"float: left; padding: 10px;\">\n",
              "    <p style='font-family:\"Courier New\", Courier, monospace'>df9</p><div>\n",
              "<style scoped>\n",
              "    .dataframe tbody tr th:only-of-type {\n",
              "        vertical-align: middle;\n",
              "    }\n",
              "\n",
              "    .dataframe tbody tr th {\n",
              "        vertical-align: top;\n",
              "    }\n",
              "\n",
              "    .dataframe thead th {\n",
              "        text-align: right;\n",
              "    }\n",
              "</style>\n",
              "<table border=\"1\" class=\"dataframe\">\n",
              "  <thead>\n",
              "    <tr style=\"text-align: right;\">\n",
              "      <th></th>\n",
              "      <th>name</th>\n",
              "      <th>rank</th>\n",
              "    </tr>\n",
              "  </thead>\n",
              "  <tbody>\n",
              "    <tr>\n",
              "      <th>0</th>\n",
              "      <td>Bob</td>\n",
              "      <td>3</td>\n",
              "    </tr>\n",
              "    <tr>\n",
              "      <th>1</th>\n",
              "      <td>Jake</td>\n",
              "      <td>1</td>\n",
              "    </tr>\n",
              "    <tr>\n",
              "      <th>2</th>\n",
              "      <td>Lisa</td>\n",
              "      <td>4</td>\n",
              "    </tr>\n",
              "    <tr>\n",
              "      <th>3</th>\n",
              "      <td>Sue</td>\n",
              "      <td>2</td>\n",
              "    </tr>\n",
              "  </tbody>\n",
              "</table>\n",
              "</div>\n",
              "    </div>\n",
              "<div style=\"float: left; padding: 10px;\">\n",
              "    <p style='font-family:\"Courier New\", Courier, monospace'>pd.merge(df8, df9, on=\"name\", suffixes=[\"_L\", \"_R\"])</p><div>\n",
              "<style scoped>\n",
              "    .dataframe tbody tr th:only-of-type {\n",
              "        vertical-align: middle;\n",
              "    }\n",
              "\n",
              "    .dataframe tbody tr th {\n",
              "        vertical-align: top;\n",
              "    }\n",
              "\n",
              "    .dataframe thead th {\n",
              "        text-align: right;\n",
              "    }\n",
              "</style>\n",
              "<table border=\"1\" class=\"dataframe\">\n",
              "  <thead>\n",
              "    <tr style=\"text-align: right;\">\n",
              "      <th></th>\n",
              "      <th>name</th>\n",
              "      <th>rank_L</th>\n",
              "      <th>rank_R</th>\n",
              "    </tr>\n",
              "  </thead>\n",
              "  <tbody>\n",
              "    <tr>\n",
              "      <th>0</th>\n",
              "      <td>Bob</td>\n",
              "      <td>1</td>\n",
              "      <td>3</td>\n",
              "    </tr>\n",
              "    <tr>\n",
              "      <th>1</th>\n",
              "      <td>Jake</td>\n",
              "      <td>2</td>\n",
              "      <td>1</td>\n",
              "    </tr>\n",
              "    <tr>\n",
              "      <th>2</th>\n",
              "      <td>Lisa</td>\n",
              "      <td>3</td>\n",
              "      <td>4</td>\n",
              "    </tr>\n",
              "    <tr>\n",
              "      <th>3</th>\n",
              "      <td>Sue</td>\n",
              "      <td>4</td>\n",
              "      <td>2</td>\n",
              "    </tr>\n",
              "  </tbody>\n",
              "</table>\n",
              "</div>\n",
              "    </div>"
            ],
            "text/plain": [
              "df8\n",
              "   name  rank\n",
              "0   Bob     1\n",
              "1  Jake     2\n",
              "2  Lisa     3\n",
              "3   Sue     4\n",
              "\n",
              "df9\n",
              "   name  rank\n",
              "0   Bob     3\n",
              "1  Jake     1\n",
              "2  Lisa     4\n",
              "3   Sue     2\n",
              "\n",
              "pd.merge(df8, df9, on=\"name\", suffixes=[\"_L\", \"_R\"])\n",
              "   name  rank_L  rank_R\n",
              "0   Bob       1       3\n",
              "1  Jake       2       1\n",
              "2  Lisa       3       4\n",
              "3   Sue       4       2"
            ]
          },
          "metadata": {
            "tags": []
          },
          "execution_count": 69
        }
      ]
    },
    {
      "metadata": {
        "id": "UUt5R_vfqj7U",
        "colab_type": "text"
      },
      "cell_type": "markdown",
      "source": [
        "Example practice for join:<br>\n",
        "https://jakevdp.github.io/PythonDataScienceHandbook/03.07-merge-and-join.html#Example:-US-States-Data"
      ]
    },
    {
      "metadata": {
        "id": "221Co1E_91pb",
        "colab_type": "text"
      },
      "cell_type": "markdown",
      "source": [
        "###[ Aggregation and Grouping](https://jakevdp.github.io/PythonDataScienceHandbook/03.08-aggregation-and-grouping.html)\n",
        "An essential piece of analysis of large data is efficient summarization: computing aggregations like ``sum(), mean(), median(), min(), and max()``, in which a single number gives insight into the nature of a potentially large dataset. In this section, we'll explore aggregations in Pandas, from simple operations akin to what we've seen on NumPy arrays, to more sophisticated operations based on the concept of a groupby."
      ]
    },
    {
      "metadata": {
        "id": "rFgeIyt7_POC",
        "colab_type": "code",
        "colab": {
          "base_uri": "https://localhost:8080/",
          "height": 153
        },
        "outputId": "02e32878-3bfb-42a4-f962-39988cbb1d6e"
      },
      "cell_type": "code",
      "source": [
        "## -------Planets Data---------\n",
        "import seaborn as sns\n",
        "planets = sns.load_dataset('planets')\n",
        "print('Shape of the planets dats set: {}'.format(planets.shape))\n",
        "print('Head:\\n', planets.head())"
      ],
      "execution_count": 70,
      "outputs": [
        {
          "output_type": "stream",
          "text": [
            "Shape of the planets dats set: (1035, 6)\n",
            "Head:\n",
            "             method  number  orbital_period   mass  distance  year\n",
            "0  Radial Velocity       1         269.300   7.10     77.40  2006\n",
            "1  Radial Velocity       1         874.774   2.21     56.95  2008\n",
            "2  Radial Velocity       1         763.000   2.60     19.84  2011\n",
            "3  Radial Velocity       1         326.030  19.40    110.62  2007\n",
            "4  Radial Velocity       1         516.220  10.50    119.47  2009\n"
          ],
          "name": "stdout"
        }
      ]
    },
    {
      "metadata": {
        "id": "5_ZfHQGFLQVv",
        "colab_type": "text"
      },
      "cell_type": "markdown",
      "source": [
        "#### Simple Aggregation in Pandas\n",
        "The following table summarizes some other built-in Pandas aggregations:\n",
        "\n",
        "|   Aggregation           |   Description                                        |\n",
        "|---------------------------------|-----------------------------------------|\n",
        "|   count()                    |   Total number of items                    |\n",
        "|   first(), last()            |   First and last item                           |\n",
        "|   mean(), median()  |   Mean and median                            |\n",
        "|   min(), max()           |   Minimum and maximum                |\n",
        "|   std(), var()              |   Standard deviation and variance  |\n",
        "|   mad()                      |   Mean absolute deviation                |\n",
        "|   prod()                      |   Product of all items                         |\n",
        "|   sum()                      |   Sum of all items                               |\n",
        "These are all methods of DataFrame and Series objects.<BR>\n",
        "  To go deeper into the data, however, simple aggregates are often not enough. The next level of data summarization is the groupby operation, which allows you to quickly and efficiently compute aggregates on subsets of data\n"
      ]
    },
    {
      "metadata": {
        "id": "B72cOoWeNpa6",
        "colab_type": "text"
      },
      "cell_type": "markdown",
      "source": [
        "#### GroupBy: Split, Apply, Combine<br>\n",
        "Simple aggregations can give you a flavor of your dataset, but often we would prefer to aggregate conditionally on some label or index: this is implemented in the so-called groupby operation. The name \"``group by``\" comes from a command in the SQL database language, but it is perhaps more illuminative to think of it in the terms first coined by Hadley Wickham of Rstats fame: ``split, apply, combine``.\n",
        "\n",
        "![alt text](https://jakevdp.github.io/PythonDataScienceHandbook/figures/03.08-split-apply-combine.png)<br>\n",
        "This makes clear what the groupby accomplishes:\n",
        " \n",
        "* The ``split`` step involves breaking up and grouping a DataFrame depending on the value of the specified key.\n",
        "* The ``apply`` step involves computing some function, usually an aggregate, transformation, or filtering, within the individual groups.\n",
        "* The ``combine`` step merges the results of these operations into an output array."
      ]
    },
    {
      "metadata": {
        "id": "fZL7z9w7gXDX",
        "colab_type": "text"
      },
      "cell_type": "markdown",
      "source": [
        "As a concrete example, let's take a look at using Pandas for the computation shown in this diagram. We'll start by creating the input DataFrame:"
      ]
    },
    {
      "metadata": {
        "id": "OrctGoM4_PUP",
        "colab_type": "code",
        "colab": {
          "base_uri": "https://localhost:8080/",
          "height": 235
        },
        "outputId": "dfef2927-fddd-4d2b-c0d1-c2f00b7fad31"
      },
      "cell_type": "code",
      "source": [
        "df = pd.DataFrame({'key': ['A', 'B', 'C', 'A', 'B', 'C'],\n",
        "                   'data': range(6)}, columns=['key', 'data'])\n",
        "df"
      ],
      "execution_count": 71,
      "outputs": [
        {
          "output_type": "execute_result",
          "data": {
            "text/html": [
              "<div>\n",
              "<style scoped>\n",
              "    .dataframe tbody tr th:only-of-type {\n",
              "        vertical-align: middle;\n",
              "    }\n",
              "\n",
              "    .dataframe tbody tr th {\n",
              "        vertical-align: top;\n",
              "    }\n",
              "\n",
              "    .dataframe thead th {\n",
              "        text-align: right;\n",
              "    }\n",
              "</style>\n",
              "<table border=\"1\" class=\"dataframe\">\n",
              "  <thead>\n",
              "    <tr style=\"text-align: right;\">\n",
              "      <th></th>\n",
              "      <th>key</th>\n",
              "      <th>data</th>\n",
              "    </tr>\n",
              "  </thead>\n",
              "  <tbody>\n",
              "    <tr>\n",
              "      <th>0</th>\n",
              "      <td>A</td>\n",
              "      <td>0</td>\n",
              "    </tr>\n",
              "    <tr>\n",
              "      <th>1</th>\n",
              "      <td>B</td>\n",
              "      <td>1</td>\n",
              "    </tr>\n",
              "    <tr>\n",
              "      <th>2</th>\n",
              "      <td>C</td>\n",
              "      <td>2</td>\n",
              "    </tr>\n",
              "    <tr>\n",
              "      <th>3</th>\n",
              "      <td>A</td>\n",
              "      <td>3</td>\n",
              "    </tr>\n",
              "    <tr>\n",
              "      <th>4</th>\n",
              "      <td>B</td>\n",
              "      <td>4</td>\n",
              "    </tr>\n",
              "    <tr>\n",
              "      <th>5</th>\n",
              "      <td>C</td>\n",
              "      <td>5</td>\n",
              "    </tr>\n",
              "  </tbody>\n",
              "</table>\n",
              "</div>"
            ],
            "text/plain": [
              "  key  data\n",
              "0   A     0\n",
              "1   B     1\n",
              "2   C     2\n",
              "3   A     3\n",
              "4   B     4\n",
              "5   C     5"
            ]
          },
          "metadata": {
            "tags": []
          },
          "execution_count": 71
        }
      ]
    },
    {
      "metadata": {
        "id": "I60rqGEo_PYT",
        "colab_type": "code",
        "colab": {
          "base_uri": "https://localhost:8080/",
          "height": 34
        },
        "outputId": "f33db076-fb5d-4cdf-d688-19ff7a233f54"
      },
      "cell_type": "code",
      "source": [
        "# The most basic split-apply-combine operation can be computed with the groupby() method of DataFrames, passing the name of the desired key column:\n",
        "df.groupby('key')"
      ],
      "execution_count": 72,
      "outputs": [
        {
          "output_type": "execute_result",
          "data": {
            "text/plain": [
              "<pandas.core.groupby.DataFrameGroupBy object at 0x7f0cd0156b38>"
            ]
          },
          "metadata": {
            "tags": []
          },
          "execution_count": 72
        }
      ]
    },
    {
      "metadata": {
        "id": "UFXOnc3og0Bu",
        "colab_type": "text"
      },
      "cell_type": "markdown",
      "source": [
        "Notice that what is returned is not a set of DataFrames, but a ``DataFrameGroupBy`` object. This object is where the magic is: you can think of it as a special view of the DataFrame, which is poised to dig into the groups but does no actual computation until the aggregation is applied. This \"lazy evaluation\" approach means that common aggregates can be implemented very efficiently in a way that is almost transparent to the user.\n",
        "\n",
        "<br>\n",
        "To produce a result, we can apply an aggregate to this ``DataFrameGroupBy`` object, which will perform the appropriate apply/combine steps to produce the desired result:"
      ]
    },
    {
      "metadata": {
        "id": "7oZszWi2_PRo",
        "colab_type": "code",
        "colab": {
          "base_uri": "https://localhost:8080/",
          "height": 173
        },
        "outputId": "92dd09d7-4f2a-42e6-f01d-ab8bbca86d55"
      },
      "cell_type": "code",
      "source": [
        "df.groupby('key').sum()\n",
        "\n",
        "# The sum() method is just one possibility here; you can apply virtually any common Pandas or NumPy aggregation function, \n",
        "# as well as virtually any valid DataFrame operation"
      ],
      "execution_count": 73,
      "outputs": [
        {
          "output_type": "execute_result",
          "data": {
            "text/html": [
              "<div>\n",
              "<style scoped>\n",
              "    .dataframe tbody tr th:only-of-type {\n",
              "        vertical-align: middle;\n",
              "    }\n",
              "\n",
              "    .dataframe tbody tr th {\n",
              "        vertical-align: top;\n",
              "    }\n",
              "\n",
              "    .dataframe thead th {\n",
              "        text-align: right;\n",
              "    }\n",
              "</style>\n",
              "<table border=\"1\" class=\"dataframe\">\n",
              "  <thead>\n",
              "    <tr style=\"text-align: right;\">\n",
              "      <th></th>\n",
              "      <th>data</th>\n",
              "    </tr>\n",
              "    <tr>\n",
              "      <th>key</th>\n",
              "      <th></th>\n",
              "    </tr>\n",
              "  </thead>\n",
              "  <tbody>\n",
              "    <tr>\n",
              "      <th>A</th>\n",
              "      <td>3</td>\n",
              "    </tr>\n",
              "    <tr>\n",
              "      <th>B</th>\n",
              "      <td>5</td>\n",
              "    </tr>\n",
              "    <tr>\n",
              "      <th>C</th>\n",
              "      <td>7</td>\n",
              "    </tr>\n",
              "  </tbody>\n",
              "</table>\n",
              "</div>"
            ],
            "text/plain": [
              "     data\n",
              "key      \n",
              "A       3\n",
              "B       5\n",
              "C       7"
            ]
          },
          "metadata": {
            "tags": []
          },
          "execution_count": 73
        }
      ]
    },
    {
      "metadata": {
        "id": "oafCgFe0soV7",
        "colab_type": "text"
      },
      "cell_type": "markdown",
      "source": [
        "### The GroupBy object\n",
        "The GroupBy object is a very flexible abstraction. In many ways, you can simply treat it as if it's a collection of DataFrames, and it does the difficult things under the hood. Let's see some examples using the Planets data.\n",
        "\n",
        "Perhaps the most important operations made available by a GroupBy are aggregate, filter, transform, and apply. We'll discuss each of these more fully in ``\"Aggregate, Filter, Transform, Apply\"``, but before that let's introduce some of the other functionality that can be used with the basic GroupBy operation.\n",
        "\n",
        "#### Column indexing\n",
        "The GroupBy object supports column indexing in the same way as the DataFrame, and returns a modified GroupBy object. For example:"
      ]
    },
    {
      "metadata": {
        "id": "DN_GPSLijqtc",
        "colab_type": "code",
        "colab": {
          "base_uri": "https://localhost:8080/",
          "height": 34
        },
        "outputId": "5f2e3e30-d3c0-4b0e-ca9e-6159a8d6653b"
      },
      "cell_type": "code",
      "source": [
        "planets.groupby('method')"
      ],
      "execution_count": 74,
      "outputs": [
        {
          "output_type": "execute_result",
          "data": {
            "text/plain": [
              "<pandas.core.groupby.DataFrameGroupBy object at 0x7f0cd00e0278>"
            ]
          },
          "metadata": {
            "tags": []
          },
          "execution_count": 74
        }
      ]
    },
    {
      "metadata": {
        "id": "1hiOY4aRjqxZ",
        "colab_type": "code",
        "colab": {
          "base_uri": "https://localhost:8080/",
          "height": 34
        },
        "outputId": "ceb2ef31-adae-41c9-8df3-54e706de0977"
      },
      "cell_type": "code",
      "source": [
        "planets.groupby('method')['orbital_period']"
      ],
      "execution_count": 75,
      "outputs": [
        {
          "output_type": "execute_result",
          "data": {
            "text/plain": [
              "<pandas.core.groupby.SeriesGroupBy object at 0x7f0cd011e978>"
            ]
          },
          "metadata": {
            "tags": []
          },
          "execution_count": 75
        }
      ]
    },
    {
      "metadata": {
        "id": "OEFaVctTuB3e",
        "colab_type": "text"
      },
      "cell_type": "markdown",
      "source": [
        "Here we've selected a particular Series group from the original DataFrame group by reference to its column name. As with the GroupBy object, no computation is done until we call some aggregate on the object:"
      ]
    },
    {
      "metadata": {
        "id": "jM_urYQqjq1S",
        "colab_type": "code",
        "colab": {
          "base_uri": "https://localhost:8080/",
          "height": 221
        },
        "outputId": "59f9537d-9e08-40e0-f54f-76ae673a98b0"
      },
      "cell_type": "code",
      "source": [
        "planets.groupby('method')['orbital_period'].median()"
      ],
      "execution_count": 76,
      "outputs": [
        {
          "output_type": "execute_result",
          "data": {
            "text/plain": [
              "method\n",
              "Astrometry                         631.180000\n",
              "Eclipse Timing Variations         4343.500000\n",
              "Imaging                          27500.000000\n",
              "Microlensing                      3300.000000\n",
              "Orbital Brightness Modulation        0.342887\n",
              "Pulsar Timing                       66.541900\n",
              "Pulsation Timing Variations       1170.000000\n",
              "Radial Velocity                    360.200000\n",
              "Transit                              5.714932\n",
              "Transit Timing Variations           57.011000\n",
              "Name: orbital_period, dtype: float64"
            ]
          },
          "metadata": {
            "tags": []
          },
          "execution_count": 76
        }
      ]
    },
    {
      "metadata": {
        "id": "geppncXbuhM0",
        "colab_type": "text"
      },
      "cell_type": "markdown",
      "source": [
        "This gives an idea of the general scale of orbital periods (in days) that each method is sensitive to.\n",
        "\n",
        "#### Iteration over groups\n",
        "The GroupBy object supports direct iteration over the groups, returning each group as a Series or DataFrame:"
      ]
    },
    {
      "metadata": {
        "id": "mKOtKRm5jq5K",
        "colab_type": "code",
        "colab": {
          "base_uri": "https://localhost:8080/",
          "height": 187
        },
        "outputId": "ac53c250-b071-4f8b-ccd9-541029382770"
      },
      "cell_type": "code",
      "source": [
        "for (method, group) in planets.groupby('method'):\n",
        "    print(\"{0:30s} shape={1}\".format(method, group.shape))"
      ],
      "execution_count": 77,
      "outputs": [
        {
          "output_type": "stream",
          "text": [
            "Astrometry                     shape=(2, 6)\n",
            "Eclipse Timing Variations      shape=(9, 6)\n",
            "Imaging                        shape=(38, 6)\n",
            "Microlensing                   shape=(23, 6)\n",
            "Orbital Brightness Modulation  shape=(3, 6)\n",
            "Pulsar Timing                  shape=(5, 6)\n",
            "Pulsation Timing Variations    shape=(1, 6)\n",
            "Radial Velocity                shape=(553, 6)\n",
            "Transit                        shape=(397, 6)\n",
            "Transit Timing Variations      shape=(4, 6)\n"
          ],
          "name": "stdout"
        }
      ]
    },
    {
      "metadata": {
        "id": "3zlpvo2XyBKV",
        "colab_type": "text"
      },
      "cell_type": "markdown",
      "source": [
        "This can be useful for doing certain things manually, though it is often much faster to use the built-in ``apply`` functionality, which we will discuss momentarily.\n",
        "\n",
        "#### Dispatch methods\n",
        "Through some Python class magic, any method not explicitly implemented by the ``GroupBy`` object will be passed through and called on the ``groups``, whether they are ``DataFrame`` or ``Series`` objects. For example, you can use the `` describe()`` method of DataFrames to perform a set of aggregations that describe each group in the data:"
      ]
    },
    {
      "metadata": {
        "id": "QwJ1ppXpjq8s",
        "colab_type": "code",
        "colab": {
          "base_uri": "https://localhost:8080/",
          "height": 1088
        },
        "outputId": "4d0918d4-edf1-4ebb-866a-b3d38768d903"
      },
      "cell_type": "code",
      "source": [
        "planets.groupby('method')['year'].describe().unstack()"
      ],
      "execution_count": 78,
      "outputs": [
        {
          "output_type": "execute_result",
          "data": {
            "text/plain": [
              "       method                       \n",
              "count  Astrometry                          2.000000\n",
              "       Eclipse Timing Variations           9.000000\n",
              "       Imaging                            38.000000\n",
              "       Microlensing                       23.000000\n",
              "       Orbital Brightness Modulation       3.000000\n",
              "       Pulsar Timing                       5.000000\n",
              "       Pulsation Timing Variations         1.000000\n",
              "       Radial Velocity                   553.000000\n",
              "       Transit                           397.000000\n",
              "       Transit Timing Variations           4.000000\n",
              "mean   Astrometry                       2011.500000\n",
              "       Eclipse Timing Variations        2010.000000\n",
              "       Imaging                          2009.131579\n",
              "       Microlensing                     2009.782609\n",
              "       Orbital Brightness Modulation    2011.666667\n",
              "       Pulsar Timing                    1998.400000\n",
              "       Pulsation Timing Variations      2007.000000\n",
              "       Radial Velocity                  2007.518987\n",
              "       Transit                          2011.236776\n",
              "       Transit Timing Variations        2012.500000\n",
              "std    Astrometry                          2.121320\n",
              "       Eclipse Timing Variations           1.414214\n",
              "       Imaging                             2.781901\n",
              "       Microlensing                        2.859697\n",
              "       Orbital Brightness Modulation       1.154701\n",
              "       Pulsar Timing                       8.384510\n",
              "       Pulsation Timing Variations              NaN\n",
              "       Radial Velocity                     4.249052\n",
              "       Transit                             2.077867\n",
              "       Transit Timing Variations           1.290994\n",
              "                                           ...     \n",
              "50%    Astrometry                       2011.500000\n",
              "       Eclipse Timing Variations        2010.000000\n",
              "       Imaging                          2009.000000\n",
              "       Microlensing                     2010.000000\n",
              "       Orbital Brightness Modulation    2011.000000\n",
              "       Pulsar Timing                    1994.000000\n",
              "       Pulsation Timing Variations      2007.000000\n",
              "       Radial Velocity                  2009.000000\n",
              "       Transit                          2012.000000\n",
              "       Transit Timing Variations        2012.500000\n",
              "75%    Astrometry                       2012.250000\n",
              "       Eclipse Timing Variations        2011.000000\n",
              "       Imaging                          2011.000000\n",
              "       Microlensing                     2012.000000\n",
              "       Orbital Brightness Modulation    2012.000000\n",
              "       Pulsar Timing                    2003.000000\n",
              "       Pulsation Timing Variations      2007.000000\n",
              "       Radial Velocity                  2011.000000\n",
              "       Transit                          2013.000000\n",
              "       Transit Timing Variations        2013.250000\n",
              "max    Astrometry                       2013.000000\n",
              "       Eclipse Timing Variations        2012.000000\n",
              "       Imaging                          2013.000000\n",
              "       Microlensing                     2013.000000\n",
              "       Orbital Brightness Modulation    2013.000000\n",
              "       Pulsar Timing                    2011.000000\n",
              "       Pulsation Timing Variations      2007.000000\n",
              "       Radial Velocity                  2014.000000\n",
              "       Transit                          2014.000000\n",
              "       Transit Timing Variations        2014.000000\n",
              "Length: 80, dtype: float64"
            ]
          },
          "metadata": {
            "tags": []
          },
          "execution_count": 78
        }
      ]
    },
    {
      "metadata": {
        "id": "n452yxYkyn7-",
        "colab_type": "text"
      },
      "cell_type": "markdown",
      "source": [
        "Looking at this table helps us to better understand the data: for example, the vast majority of planets have been discovered by the Radial Velocity and Transit methods, though the latter only became common (due to new, more accurate telescopes) in the last decade. The newest methods seem to be Transit Timing Variation and Orbital Brightness Modulation, which were not used to discover a new planet until 2011.\n",
        "\n",
        "This is just one example of the utility of dispatch methods. Notice that they are applied to each individual group, and the results are then combined within GroupBy and returned. Again, any valid ``DataFrame``/``Series`` method can be used on the corresponding GroupBy object, which allows for some very flexible and powerful operations!\n",
        "\n",
        "#### Aggregate, filter, transform, apply\n",
        "The preceding discussion focused on aggregation for the combine operation, but there are more options available. In particular, GroupBy objects have ``aggregate(),  filter(), transform(), and apply()`` methods that efficiently implement a variety of useful operations before combining the grouped data.\n",
        "\n",
        "For the purpose of the following subsections, we'll use this DataFrame:"
      ]
    },
    {
      "metadata": {
        "id": "aSpJUF8Yjq_6",
        "colab_type": "code",
        "colab": {
          "base_uri": "https://localhost:8080/",
          "height": 235
        },
        "outputId": "769a2346-b499-4195-c0d7-57ef58155c03"
      },
      "cell_type": "code",
      "source": [
        "rng = np.random.RandomState(0)\n",
        "df = pd.DataFrame({'key': ['A', 'B', 'C', 'A', 'B', 'C'],\n",
        "                   'data1': range(6),\n",
        "                   'data2': rng.randint(0, 10, 6)},\n",
        "                   columns = ['key', 'data1', 'data2'])\n",
        "df"
      ],
      "execution_count": 79,
      "outputs": [
        {
          "output_type": "execute_result",
          "data": {
            "text/html": [
              "<div>\n",
              "<style scoped>\n",
              "    .dataframe tbody tr th:only-of-type {\n",
              "        vertical-align: middle;\n",
              "    }\n",
              "\n",
              "    .dataframe tbody tr th {\n",
              "        vertical-align: top;\n",
              "    }\n",
              "\n",
              "    .dataframe thead th {\n",
              "        text-align: right;\n",
              "    }\n",
              "</style>\n",
              "<table border=\"1\" class=\"dataframe\">\n",
              "  <thead>\n",
              "    <tr style=\"text-align: right;\">\n",
              "      <th></th>\n",
              "      <th>key</th>\n",
              "      <th>data1</th>\n",
              "      <th>data2</th>\n",
              "    </tr>\n",
              "  </thead>\n",
              "  <tbody>\n",
              "    <tr>\n",
              "      <th>0</th>\n",
              "      <td>A</td>\n",
              "      <td>0</td>\n",
              "      <td>5</td>\n",
              "    </tr>\n",
              "    <tr>\n",
              "      <th>1</th>\n",
              "      <td>B</td>\n",
              "      <td>1</td>\n",
              "      <td>0</td>\n",
              "    </tr>\n",
              "    <tr>\n",
              "      <th>2</th>\n",
              "      <td>C</td>\n",
              "      <td>2</td>\n",
              "      <td>3</td>\n",
              "    </tr>\n",
              "    <tr>\n",
              "      <th>3</th>\n",
              "      <td>A</td>\n",
              "      <td>3</td>\n",
              "      <td>3</td>\n",
              "    </tr>\n",
              "    <tr>\n",
              "      <th>4</th>\n",
              "      <td>B</td>\n",
              "      <td>4</td>\n",
              "      <td>7</td>\n",
              "    </tr>\n",
              "    <tr>\n",
              "      <th>5</th>\n",
              "      <td>C</td>\n",
              "      <td>5</td>\n",
              "      <td>9</td>\n",
              "    </tr>\n",
              "  </tbody>\n",
              "</table>\n",
              "</div>"
            ],
            "text/plain": [
              "  key  data1  data2\n",
              "0   A      0      5\n",
              "1   B      1      0\n",
              "2   C      2      3\n",
              "3   A      3      3\n",
              "4   B      4      7\n",
              "5   C      5      9"
            ]
          },
          "metadata": {
            "tags": []
          },
          "execution_count": 79
        }
      ]
    },
    {
      "metadata": {
        "id": "-K_6zy4H2E2Q",
        "colab_type": "text"
      },
      "cell_type": "markdown",
      "source": [
        "#### Aggregation\n",
        "We're now familiar with ``GroupBy`` aggregations with ``sum()``,`` median()``, and the like, but the ``aggregate()`` method allows for even more flexibility. It can take a string, a function, or a list thereof, and compute all the aggregates at once. Here is a quick example combining all these:"
      ]
    },
    {
      "metadata": {
        "id": "4oPOi-oqjrDN",
        "colab_type": "code",
        "colab": {
          "base_uri": "https://localhost:8080/",
          "height": 204
        },
        "outputId": "d4f79bc6-b1e6-4a12-bdea-a0ba03d99865"
      },
      "cell_type": "code",
      "source": [
        "df.groupby('key').aggregate(['min', np.median, max])"
      ],
      "execution_count": 80,
      "outputs": [
        {
          "output_type": "execute_result",
          "data": {
            "text/html": [
              "<div>\n",
              "<style scoped>\n",
              "    .dataframe tbody tr th:only-of-type {\n",
              "        vertical-align: middle;\n",
              "    }\n",
              "\n",
              "    .dataframe tbody tr th {\n",
              "        vertical-align: top;\n",
              "    }\n",
              "\n",
              "    .dataframe thead tr th {\n",
              "        text-align: left;\n",
              "    }\n",
              "\n",
              "    .dataframe thead tr:last-of-type th {\n",
              "        text-align: right;\n",
              "    }\n",
              "</style>\n",
              "<table border=\"1\" class=\"dataframe\">\n",
              "  <thead>\n",
              "    <tr>\n",
              "      <th></th>\n",
              "      <th colspan=\"3\" halign=\"left\">data1</th>\n",
              "      <th colspan=\"3\" halign=\"left\">data2</th>\n",
              "    </tr>\n",
              "    <tr>\n",
              "      <th></th>\n",
              "      <th>min</th>\n",
              "      <th>median</th>\n",
              "      <th>max</th>\n",
              "      <th>min</th>\n",
              "      <th>median</th>\n",
              "      <th>max</th>\n",
              "    </tr>\n",
              "    <tr>\n",
              "      <th>key</th>\n",
              "      <th></th>\n",
              "      <th></th>\n",
              "      <th></th>\n",
              "      <th></th>\n",
              "      <th></th>\n",
              "      <th></th>\n",
              "    </tr>\n",
              "  </thead>\n",
              "  <tbody>\n",
              "    <tr>\n",
              "      <th>A</th>\n",
              "      <td>0</td>\n",
              "      <td>1.5</td>\n",
              "      <td>3</td>\n",
              "      <td>3</td>\n",
              "      <td>4.0</td>\n",
              "      <td>5</td>\n",
              "    </tr>\n",
              "    <tr>\n",
              "      <th>B</th>\n",
              "      <td>1</td>\n",
              "      <td>2.5</td>\n",
              "      <td>4</td>\n",
              "      <td>0</td>\n",
              "      <td>3.5</td>\n",
              "      <td>7</td>\n",
              "    </tr>\n",
              "    <tr>\n",
              "      <th>C</th>\n",
              "      <td>2</td>\n",
              "      <td>3.5</td>\n",
              "      <td>5</td>\n",
              "      <td>3</td>\n",
              "      <td>6.0</td>\n",
              "      <td>9</td>\n",
              "    </tr>\n",
              "  </tbody>\n",
              "</table>\n",
              "</div>"
            ],
            "text/plain": [
              "    data1            data2           \n",
              "      min median max   min median max\n",
              "key                                  \n",
              "A       0    1.5   3     3    4.0   5\n",
              "B       1    2.5   4     0    3.5   7\n",
              "C       2    3.5   5     3    6.0   9"
            ]
          },
          "metadata": {
            "tags": []
          },
          "execution_count": 80
        }
      ]
    },
    {
      "metadata": {
        "id": "hQig0rNa2sS_",
        "colab_type": "text"
      },
      "cell_type": "markdown",
      "source": [
        "Another useful pattern is to pass a dictionary mapping column names to operations to be applied on that column:"
      ]
    },
    {
      "metadata": {
        "id": "jtdmMFO4jrGi",
        "colab_type": "code",
        "colab": {
          "base_uri": "https://localhost:8080/",
          "height": 173
        },
        "outputId": "33b20a36-3b61-420a-b40e-d80494da7b42"
      },
      "cell_type": "code",
      "source": [
        "df.groupby('key').aggregate({'data1': 'min',\n",
        "                             'data2': 'max'})"
      ],
      "execution_count": 81,
      "outputs": [
        {
          "output_type": "execute_result",
          "data": {
            "text/html": [
              "<div>\n",
              "<style scoped>\n",
              "    .dataframe tbody tr th:only-of-type {\n",
              "        vertical-align: middle;\n",
              "    }\n",
              "\n",
              "    .dataframe tbody tr th {\n",
              "        vertical-align: top;\n",
              "    }\n",
              "\n",
              "    .dataframe thead th {\n",
              "        text-align: right;\n",
              "    }\n",
              "</style>\n",
              "<table border=\"1\" class=\"dataframe\">\n",
              "  <thead>\n",
              "    <tr style=\"text-align: right;\">\n",
              "      <th></th>\n",
              "      <th>data1</th>\n",
              "      <th>data2</th>\n",
              "    </tr>\n",
              "    <tr>\n",
              "      <th>key</th>\n",
              "      <th></th>\n",
              "      <th></th>\n",
              "    </tr>\n",
              "  </thead>\n",
              "  <tbody>\n",
              "    <tr>\n",
              "      <th>A</th>\n",
              "      <td>0</td>\n",
              "      <td>5</td>\n",
              "    </tr>\n",
              "    <tr>\n",
              "      <th>B</th>\n",
              "      <td>1</td>\n",
              "      <td>7</td>\n",
              "    </tr>\n",
              "    <tr>\n",
              "      <th>C</th>\n",
              "      <td>2</td>\n",
              "      <td>9</td>\n",
              "    </tr>\n",
              "  </tbody>\n",
              "</table>\n",
              "</div>"
            ],
            "text/plain": [
              "     data1  data2\n",
              "key              \n",
              "A        0      5\n",
              "B        1      7\n",
              "C        2      9"
            ]
          },
          "metadata": {
            "tags": []
          },
          "execution_count": 81
        }
      ]
    },
    {
      "metadata": {
        "id": "0y63Ri4O3oj-",
        "colab_type": "text"
      },
      "cell_type": "markdown",
      "source": [
        "#### Filtering\n",
        "A filtering operation allows you to drop data based on the group properties. For example, we might want to keep all groups in which the standard deviation is larger than some critical value:"
      ]
    },
    {
      "metadata": {
        "id": "t4rNffezjrJz",
        "colab_type": "code",
        "colab": {
          "base_uri": "https://localhost:8080/",
          "height": 284
        },
        "outputId": "f29c7aec-dfad-4d1e-d40b-e9d96cd74fae"
      },
      "cell_type": "code",
      "source": [
        "def filter_func(x):\n",
        "    return x['data2'].std() > 4\n",
        "\n",
        "display('df', \"df.groupby('key').std()\", \"df.groupby('key').filter(filter_func)\")"
      ],
      "execution_count": 82,
      "outputs": [
        {
          "output_type": "execute_result",
          "data": {
            "text/html": [
              "<div style=\"float: left; padding: 10px;\">\n",
              "    <p style='font-family:\"Courier New\", Courier, monospace'>df</p><div>\n",
              "<style scoped>\n",
              "    .dataframe tbody tr th:only-of-type {\n",
              "        vertical-align: middle;\n",
              "    }\n",
              "\n",
              "    .dataframe tbody tr th {\n",
              "        vertical-align: top;\n",
              "    }\n",
              "\n",
              "    .dataframe thead th {\n",
              "        text-align: right;\n",
              "    }\n",
              "</style>\n",
              "<table border=\"1\" class=\"dataframe\">\n",
              "  <thead>\n",
              "    <tr style=\"text-align: right;\">\n",
              "      <th></th>\n",
              "      <th>key</th>\n",
              "      <th>data1</th>\n",
              "      <th>data2</th>\n",
              "    </tr>\n",
              "  </thead>\n",
              "  <tbody>\n",
              "    <tr>\n",
              "      <th>0</th>\n",
              "      <td>A</td>\n",
              "      <td>0</td>\n",
              "      <td>5</td>\n",
              "    </tr>\n",
              "    <tr>\n",
              "      <th>1</th>\n",
              "      <td>B</td>\n",
              "      <td>1</td>\n",
              "      <td>0</td>\n",
              "    </tr>\n",
              "    <tr>\n",
              "      <th>2</th>\n",
              "      <td>C</td>\n",
              "      <td>2</td>\n",
              "      <td>3</td>\n",
              "    </tr>\n",
              "    <tr>\n",
              "      <th>3</th>\n",
              "      <td>A</td>\n",
              "      <td>3</td>\n",
              "      <td>3</td>\n",
              "    </tr>\n",
              "    <tr>\n",
              "      <th>4</th>\n",
              "      <td>B</td>\n",
              "      <td>4</td>\n",
              "      <td>7</td>\n",
              "    </tr>\n",
              "    <tr>\n",
              "      <th>5</th>\n",
              "      <td>C</td>\n",
              "      <td>5</td>\n",
              "      <td>9</td>\n",
              "    </tr>\n",
              "  </tbody>\n",
              "</table>\n",
              "</div>\n",
              "    </div>\n",
              "<div style=\"float: left; padding: 10px;\">\n",
              "    <p style='font-family:\"Courier New\", Courier, monospace'>df.groupby('key').std()</p><div>\n",
              "<style scoped>\n",
              "    .dataframe tbody tr th:only-of-type {\n",
              "        vertical-align: middle;\n",
              "    }\n",
              "\n",
              "    .dataframe tbody tr th {\n",
              "        vertical-align: top;\n",
              "    }\n",
              "\n",
              "    .dataframe thead th {\n",
              "        text-align: right;\n",
              "    }\n",
              "</style>\n",
              "<table border=\"1\" class=\"dataframe\">\n",
              "  <thead>\n",
              "    <tr style=\"text-align: right;\">\n",
              "      <th></th>\n",
              "      <th>data1</th>\n",
              "      <th>data2</th>\n",
              "    </tr>\n",
              "    <tr>\n",
              "      <th>key</th>\n",
              "      <th></th>\n",
              "      <th></th>\n",
              "    </tr>\n",
              "  </thead>\n",
              "  <tbody>\n",
              "    <tr>\n",
              "      <th>A</th>\n",
              "      <td>2.12132</td>\n",
              "      <td>1.414214</td>\n",
              "    </tr>\n",
              "    <tr>\n",
              "      <th>B</th>\n",
              "      <td>2.12132</td>\n",
              "      <td>4.949747</td>\n",
              "    </tr>\n",
              "    <tr>\n",
              "      <th>C</th>\n",
              "      <td>2.12132</td>\n",
              "      <td>4.242641</td>\n",
              "    </tr>\n",
              "  </tbody>\n",
              "</table>\n",
              "</div>\n",
              "    </div>\n",
              "<div style=\"float: left; padding: 10px;\">\n",
              "    <p style='font-family:\"Courier New\", Courier, monospace'>df.groupby('key').filter(filter_func)</p><div>\n",
              "<style scoped>\n",
              "    .dataframe tbody tr th:only-of-type {\n",
              "        vertical-align: middle;\n",
              "    }\n",
              "\n",
              "    .dataframe tbody tr th {\n",
              "        vertical-align: top;\n",
              "    }\n",
              "\n",
              "    .dataframe thead th {\n",
              "        text-align: right;\n",
              "    }\n",
              "</style>\n",
              "<table border=\"1\" class=\"dataframe\">\n",
              "  <thead>\n",
              "    <tr style=\"text-align: right;\">\n",
              "      <th></th>\n",
              "      <th>key</th>\n",
              "      <th>data1</th>\n",
              "      <th>data2</th>\n",
              "    </tr>\n",
              "  </thead>\n",
              "  <tbody>\n",
              "    <tr>\n",
              "      <th>1</th>\n",
              "      <td>B</td>\n",
              "      <td>1</td>\n",
              "      <td>0</td>\n",
              "    </tr>\n",
              "    <tr>\n",
              "      <th>2</th>\n",
              "      <td>C</td>\n",
              "      <td>2</td>\n",
              "      <td>3</td>\n",
              "    </tr>\n",
              "    <tr>\n",
              "      <th>4</th>\n",
              "      <td>B</td>\n",
              "      <td>4</td>\n",
              "      <td>7</td>\n",
              "    </tr>\n",
              "    <tr>\n",
              "      <th>5</th>\n",
              "      <td>C</td>\n",
              "      <td>5</td>\n",
              "      <td>9</td>\n",
              "    </tr>\n",
              "  </tbody>\n",
              "</table>\n",
              "</div>\n",
              "    </div>"
            ],
            "text/plain": [
              "df\n",
              "  key  data1  data2\n",
              "0   A      0      5\n",
              "1   B      1      0\n",
              "2   C      2      3\n",
              "3   A      3      3\n",
              "4   B      4      7\n",
              "5   C      5      9\n",
              "\n",
              "df.groupby('key').std()\n",
              "       data1     data2\n",
              "key                   \n",
              "A    2.12132  1.414214\n",
              "B    2.12132  4.949747\n",
              "C    2.12132  4.242641\n",
              "\n",
              "df.groupby('key').filter(filter_func)\n",
              "  key  data1  data2\n",
              "1   B      1      0\n",
              "2   C      2      3\n",
              "4   B      4      7\n",
              "5   C      5      9"
            ]
          },
          "metadata": {
            "tags": []
          },
          "execution_count": 82
        }
      ]
    },
    {
      "metadata": {
        "id": "hI2szp0W7OHH",
        "colab_type": "text"
      },
      "cell_type": "markdown",
      "source": [
        "The filter function should return a Boolean value specifying whether the group passes the filtering. Here because group A does not have a standard deviation greater than 4, it is dropped from the result."
      ]
    },
    {
      "metadata": {
        "id": "CWdswUWo7cXG",
        "colab_type": "text"
      },
      "cell_type": "markdown",
      "source": [
        "#### Transformation\n",
        "While aggregation must return a reduced version of the data, transformation can return some transformed version of the full data to recombine. For such a transformation, the output is the same shape as the input. A common example is to center the data by subtracting the group-wise mean:"
      ]
    },
    {
      "metadata": {
        "id": "aBGzrSP2jrM-",
        "colab_type": "code",
        "colab": {
          "base_uri": "https://localhost:8080/",
          "height": 235
        },
        "outputId": "1a59c6df-0a77-41b8-827e-468b9120c64f"
      },
      "cell_type": "code",
      "source": [
        "df.groupby('key').transform(lambda x: x - x.mean())\n",
        "\n",
        "# Trnasform do some action on all the column and rows."
      ],
      "execution_count": 83,
      "outputs": [
        {
          "output_type": "execute_result",
          "data": {
            "text/html": [
              "<div>\n",
              "<style scoped>\n",
              "    .dataframe tbody tr th:only-of-type {\n",
              "        vertical-align: middle;\n",
              "    }\n",
              "\n",
              "    .dataframe tbody tr th {\n",
              "        vertical-align: top;\n",
              "    }\n",
              "\n",
              "    .dataframe thead th {\n",
              "        text-align: right;\n",
              "    }\n",
              "</style>\n",
              "<table border=\"1\" class=\"dataframe\">\n",
              "  <thead>\n",
              "    <tr style=\"text-align: right;\">\n",
              "      <th></th>\n",
              "      <th>data1</th>\n",
              "      <th>data2</th>\n",
              "    </tr>\n",
              "  </thead>\n",
              "  <tbody>\n",
              "    <tr>\n",
              "      <th>0</th>\n",
              "      <td>-1.5</td>\n",
              "      <td>1.0</td>\n",
              "    </tr>\n",
              "    <tr>\n",
              "      <th>1</th>\n",
              "      <td>-1.5</td>\n",
              "      <td>-3.5</td>\n",
              "    </tr>\n",
              "    <tr>\n",
              "      <th>2</th>\n",
              "      <td>-1.5</td>\n",
              "      <td>-3.0</td>\n",
              "    </tr>\n",
              "    <tr>\n",
              "      <th>3</th>\n",
              "      <td>1.5</td>\n",
              "      <td>-1.0</td>\n",
              "    </tr>\n",
              "    <tr>\n",
              "      <th>4</th>\n",
              "      <td>1.5</td>\n",
              "      <td>3.5</td>\n",
              "    </tr>\n",
              "    <tr>\n",
              "      <th>5</th>\n",
              "      <td>1.5</td>\n",
              "      <td>3.0</td>\n",
              "    </tr>\n",
              "  </tbody>\n",
              "</table>\n",
              "</div>"
            ],
            "text/plain": [
              "   data1  data2\n",
              "0   -1.5    1.0\n",
              "1   -1.5   -3.5\n",
              "2   -1.5   -3.0\n",
              "3    1.5   -1.0\n",
              "4    1.5    3.5\n",
              "5    1.5    3.0"
            ]
          },
          "metadata": {
            "tags": []
          },
          "execution_count": 83
        }
      ]
    },
    {
      "metadata": {
        "id": "xCpeVWXqD9An",
        "colab_type": "text"
      },
      "cell_type": "markdown",
      "source": [
        "#### The apply() method\n",
        "The ``apply()`` method lets you apply an arbitrary function to the group results. The function should take a ``DataFrame``, and return either a Pandas object (``e.g., DataFrame, Series``) or a scalar; the combine operation will be tailored to the type of output returned.\n",
        "\n",
        "For example, here is an ``apply()`` that normalizes the first column by the ``sum`` of the second:"
      ]
    },
    {
      "metadata": {
        "id": "KVor4rUN3tYH",
        "colab_type": "code",
        "colab": {
          "base_uri": "https://localhost:8080/",
          "height": 284
        },
        "outputId": "197b4167-710e-470f-971c-7c7dc12e2777"
      },
      "cell_type": "code",
      "source": [
        "def norm_by_data2(x):\n",
        "    # x is a DataFrame of group values\n",
        "    x['data1'] /= x['data2'].sum()\n",
        "    return x\n",
        "\n",
        "display('df', \"df.groupby('key').apply(norm_by_data2)\")"
      ],
      "execution_count": 84,
      "outputs": [
        {
          "output_type": "execute_result",
          "data": {
            "text/html": [
              "<div style=\"float: left; padding: 10px;\">\n",
              "    <p style='font-family:\"Courier New\", Courier, monospace'>df</p><div>\n",
              "<style scoped>\n",
              "    .dataframe tbody tr th:only-of-type {\n",
              "        vertical-align: middle;\n",
              "    }\n",
              "\n",
              "    .dataframe tbody tr th {\n",
              "        vertical-align: top;\n",
              "    }\n",
              "\n",
              "    .dataframe thead th {\n",
              "        text-align: right;\n",
              "    }\n",
              "</style>\n",
              "<table border=\"1\" class=\"dataframe\">\n",
              "  <thead>\n",
              "    <tr style=\"text-align: right;\">\n",
              "      <th></th>\n",
              "      <th>key</th>\n",
              "      <th>data1</th>\n",
              "      <th>data2</th>\n",
              "    </tr>\n",
              "  </thead>\n",
              "  <tbody>\n",
              "    <tr>\n",
              "      <th>0</th>\n",
              "      <td>A</td>\n",
              "      <td>0</td>\n",
              "      <td>5</td>\n",
              "    </tr>\n",
              "    <tr>\n",
              "      <th>1</th>\n",
              "      <td>B</td>\n",
              "      <td>1</td>\n",
              "      <td>0</td>\n",
              "    </tr>\n",
              "    <tr>\n",
              "      <th>2</th>\n",
              "      <td>C</td>\n",
              "      <td>2</td>\n",
              "      <td>3</td>\n",
              "    </tr>\n",
              "    <tr>\n",
              "      <th>3</th>\n",
              "      <td>A</td>\n",
              "      <td>3</td>\n",
              "      <td>3</td>\n",
              "    </tr>\n",
              "    <tr>\n",
              "      <th>4</th>\n",
              "      <td>B</td>\n",
              "      <td>4</td>\n",
              "      <td>7</td>\n",
              "    </tr>\n",
              "    <tr>\n",
              "      <th>5</th>\n",
              "      <td>C</td>\n",
              "      <td>5</td>\n",
              "      <td>9</td>\n",
              "    </tr>\n",
              "  </tbody>\n",
              "</table>\n",
              "</div>\n",
              "    </div>\n",
              "<div style=\"float: left; padding: 10px;\">\n",
              "    <p style='font-family:\"Courier New\", Courier, monospace'>df.groupby('key').apply(norm_by_data2)</p><div>\n",
              "<style scoped>\n",
              "    .dataframe tbody tr th:only-of-type {\n",
              "        vertical-align: middle;\n",
              "    }\n",
              "\n",
              "    .dataframe tbody tr th {\n",
              "        vertical-align: top;\n",
              "    }\n",
              "\n",
              "    .dataframe thead th {\n",
              "        text-align: right;\n",
              "    }\n",
              "</style>\n",
              "<table border=\"1\" class=\"dataframe\">\n",
              "  <thead>\n",
              "    <tr style=\"text-align: right;\">\n",
              "      <th></th>\n",
              "      <th>key</th>\n",
              "      <th>data1</th>\n",
              "      <th>data2</th>\n",
              "    </tr>\n",
              "  </thead>\n",
              "  <tbody>\n",
              "    <tr>\n",
              "      <th>0</th>\n",
              "      <td>A</td>\n",
              "      <td>0.000000</td>\n",
              "      <td>5</td>\n",
              "    </tr>\n",
              "    <tr>\n",
              "      <th>1</th>\n",
              "      <td>B</td>\n",
              "      <td>0.142857</td>\n",
              "      <td>0</td>\n",
              "    </tr>\n",
              "    <tr>\n",
              "      <th>2</th>\n",
              "      <td>C</td>\n",
              "      <td>0.166667</td>\n",
              "      <td>3</td>\n",
              "    </tr>\n",
              "    <tr>\n",
              "      <th>3</th>\n",
              "      <td>A</td>\n",
              "      <td>0.375000</td>\n",
              "      <td>3</td>\n",
              "    </tr>\n",
              "    <tr>\n",
              "      <th>4</th>\n",
              "      <td>B</td>\n",
              "      <td>0.571429</td>\n",
              "      <td>7</td>\n",
              "    </tr>\n",
              "    <tr>\n",
              "      <th>5</th>\n",
              "      <td>C</td>\n",
              "      <td>0.416667</td>\n",
              "      <td>9</td>\n",
              "    </tr>\n",
              "  </tbody>\n",
              "</table>\n",
              "</div>\n",
              "    </div>"
            ],
            "text/plain": [
              "df\n",
              "  key  data1  data2\n",
              "0   A      0      5\n",
              "1   B      1      0\n",
              "2   C      2      3\n",
              "3   A      3      3\n",
              "4   B      4      7\n",
              "5   C      5      9\n",
              "\n",
              "df.groupby('key').apply(norm_by_data2)\n",
              "  key     data1  data2\n",
              "0   A  0.000000      5\n",
              "1   B  0.142857      0\n",
              "2   C  0.166667      3\n",
              "3   A  0.375000      3\n",
              "4   B  0.571429      7\n",
              "5   C  0.416667      9"
            ]
          },
          "metadata": {
            "tags": []
          },
          "execution_count": 84
        }
      ]
    },
    {
      "metadata": {
        "id": "fG5zkkPTe_iV",
        "colab_type": "text"
      },
      "cell_type": "markdown",
      "source": [
        "apply() within a GroupBy is quite flexible: the only criterion is that the function takes a DataFrame and returns a Pandas object or scalar; what you do in the middle is up to you!"
      ]
    },
    {
      "metadata": {
        "id": "VOXAIBqyfEjv",
        "colab_type": "text"
      },
      "cell_type": "markdown",
      "source": [
        "### Specifying the split key\n",
        "\n",
        "In the simple examples presented before, we split the DataFrame on a single column name. This is just one of many options by which the groups can be defined, and we'll go through some other options for group specification here.\n",
        "#### A list, array, series, or index providing the grouping keys\n",
        "\n",
        "The key can be any series or list with a length matching that of the DataFrame. For example:\n"
      ]
    },
    {
      "metadata": {
        "id": "TQIjkAvv3tcI",
        "colab_type": "code",
        "colab": {
          "base_uri": "https://localhost:8080/",
          "height": 284
        },
        "outputId": "8ab539e0-b6a1-4c90-8eac-ebf903fcc0cb"
      },
      "cell_type": "code",
      "source": [
        "L = [0, 1, 0, 1, 2, 0]\n",
        "display('df', 'df.groupby(L).sum()')"
      ],
      "execution_count": 85,
      "outputs": [
        {
          "output_type": "execute_result",
          "data": {
            "text/html": [
              "<div style=\"float: left; padding: 10px;\">\n",
              "    <p style='font-family:\"Courier New\", Courier, monospace'>df</p><div>\n",
              "<style scoped>\n",
              "    .dataframe tbody tr th:only-of-type {\n",
              "        vertical-align: middle;\n",
              "    }\n",
              "\n",
              "    .dataframe tbody tr th {\n",
              "        vertical-align: top;\n",
              "    }\n",
              "\n",
              "    .dataframe thead th {\n",
              "        text-align: right;\n",
              "    }\n",
              "</style>\n",
              "<table border=\"1\" class=\"dataframe\">\n",
              "  <thead>\n",
              "    <tr style=\"text-align: right;\">\n",
              "      <th></th>\n",
              "      <th>key</th>\n",
              "      <th>data1</th>\n",
              "      <th>data2</th>\n",
              "    </tr>\n",
              "  </thead>\n",
              "  <tbody>\n",
              "    <tr>\n",
              "      <th>0</th>\n",
              "      <td>A</td>\n",
              "      <td>0</td>\n",
              "      <td>5</td>\n",
              "    </tr>\n",
              "    <tr>\n",
              "      <th>1</th>\n",
              "      <td>B</td>\n",
              "      <td>1</td>\n",
              "      <td>0</td>\n",
              "    </tr>\n",
              "    <tr>\n",
              "      <th>2</th>\n",
              "      <td>C</td>\n",
              "      <td>2</td>\n",
              "      <td>3</td>\n",
              "    </tr>\n",
              "    <tr>\n",
              "      <th>3</th>\n",
              "      <td>A</td>\n",
              "      <td>3</td>\n",
              "      <td>3</td>\n",
              "    </tr>\n",
              "    <tr>\n",
              "      <th>4</th>\n",
              "      <td>B</td>\n",
              "      <td>4</td>\n",
              "      <td>7</td>\n",
              "    </tr>\n",
              "    <tr>\n",
              "      <th>5</th>\n",
              "      <td>C</td>\n",
              "      <td>5</td>\n",
              "      <td>9</td>\n",
              "    </tr>\n",
              "  </tbody>\n",
              "</table>\n",
              "</div>\n",
              "    </div>\n",
              "<div style=\"float: left; padding: 10px;\">\n",
              "    <p style='font-family:\"Courier New\", Courier, monospace'>df.groupby(L).sum()</p><div>\n",
              "<style scoped>\n",
              "    .dataframe tbody tr th:only-of-type {\n",
              "        vertical-align: middle;\n",
              "    }\n",
              "\n",
              "    .dataframe tbody tr th {\n",
              "        vertical-align: top;\n",
              "    }\n",
              "\n",
              "    .dataframe thead th {\n",
              "        text-align: right;\n",
              "    }\n",
              "</style>\n",
              "<table border=\"1\" class=\"dataframe\">\n",
              "  <thead>\n",
              "    <tr style=\"text-align: right;\">\n",
              "      <th></th>\n",
              "      <th>data1</th>\n",
              "      <th>data2</th>\n",
              "    </tr>\n",
              "  </thead>\n",
              "  <tbody>\n",
              "    <tr>\n",
              "      <th>0</th>\n",
              "      <td>7</td>\n",
              "      <td>17</td>\n",
              "    </tr>\n",
              "    <tr>\n",
              "      <th>1</th>\n",
              "      <td>4</td>\n",
              "      <td>3</td>\n",
              "    </tr>\n",
              "    <tr>\n",
              "      <th>2</th>\n",
              "      <td>4</td>\n",
              "      <td>7</td>\n",
              "    </tr>\n",
              "  </tbody>\n",
              "</table>\n",
              "</div>\n",
              "    </div>"
            ],
            "text/plain": [
              "df\n",
              "  key  data1  data2\n",
              "0   A      0      5\n",
              "1   B      1      0\n",
              "2   C      2      3\n",
              "3   A      3      3\n",
              "4   B      4      7\n",
              "5   C      5      9\n",
              "\n",
              "df.groupby(L).sum()\n",
              "   data1  data2\n",
              "0      7     17\n",
              "1      4      3\n",
              "2      4      7"
            ]
          },
          "metadata": {
            "tags": []
          },
          "execution_count": 85
        }
      ]
    },
    {
      "metadata": {
        "id": "P4t1PR2Z3tjB",
        "colab_type": "code",
        "colab": {
          "base_uri": "https://localhost:8080/",
          "height": 284
        },
        "outputId": "81233cd6-aad5-4ea6-fd71-f3329b8e9b87"
      },
      "cell_type": "code",
      "source": [
        "# There's another, more verbose way of accomplishing the df.groupby('key') from before:\n",
        "\n",
        "display('df', \"df.groupby(df['key']).sum()\")"
      ],
      "execution_count": 86,
      "outputs": [
        {
          "output_type": "execute_result",
          "data": {
            "text/html": [
              "<div style=\"float: left; padding: 10px;\">\n",
              "    <p style='font-family:\"Courier New\", Courier, monospace'>df</p><div>\n",
              "<style scoped>\n",
              "    .dataframe tbody tr th:only-of-type {\n",
              "        vertical-align: middle;\n",
              "    }\n",
              "\n",
              "    .dataframe tbody tr th {\n",
              "        vertical-align: top;\n",
              "    }\n",
              "\n",
              "    .dataframe thead th {\n",
              "        text-align: right;\n",
              "    }\n",
              "</style>\n",
              "<table border=\"1\" class=\"dataframe\">\n",
              "  <thead>\n",
              "    <tr style=\"text-align: right;\">\n",
              "      <th></th>\n",
              "      <th>key</th>\n",
              "      <th>data1</th>\n",
              "      <th>data2</th>\n",
              "    </tr>\n",
              "  </thead>\n",
              "  <tbody>\n",
              "    <tr>\n",
              "      <th>0</th>\n",
              "      <td>A</td>\n",
              "      <td>0</td>\n",
              "      <td>5</td>\n",
              "    </tr>\n",
              "    <tr>\n",
              "      <th>1</th>\n",
              "      <td>B</td>\n",
              "      <td>1</td>\n",
              "      <td>0</td>\n",
              "    </tr>\n",
              "    <tr>\n",
              "      <th>2</th>\n",
              "      <td>C</td>\n",
              "      <td>2</td>\n",
              "      <td>3</td>\n",
              "    </tr>\n",
              "    <tr>\n",
              "      <th>3</th>\n",
              "      <td>A</td>\n",
              "      <td>3</td>\n",
              "      <td>3</td>\n",
              "    </tr>\n",
              "    <tr>\n",
              "      <th>4</th>\n",
              "      <td>B</td>\n",
              "      <td>4</td>\n",
              "      <td>7</td>\n",
              "    </tr>\n",
              "    <tr>\n",
              "      <th>5</th>\n",
              "      <td>C</td>\n",
              "      <td>5</td>\n",
              "      <td>9</td>\n",
              "    </tr>\n",
              "  </tbody>\n",
              "</table>\n",
              "</div>\n",
              "    </div>\n",
              "<div style=\"float: left; padding: 10px;\">\n",
              "    <p style='font-family:\"Courier New\", Courier, monospace'>df.groupby(df['key']).sum()</p><div>\n",
              "<style scoped>\n",
              "    .dataframe tbody tr th:only-of-type {\n",
              "        vertical-align: middle;\n",
              "    }\n",
              "\n",
              "    .dataframe tbody tr th {\n",
              "        vertical-align: top;\n",
              "    }\n",
              "\n",
              "    .dataframe thead th {\n",
              "        text-align: right;\n",
              "    }\n",
              "</style>\n",
              "<table border=\"1\" class=\"dataframe\">\n",
              "  <thead>\n",
              "    <tr style=\"text-align: right;\">\n",
              "      <th></th>\n",
              "      <th>data1</th>\n",
              "      <th>data2</th>\n",
              "    </tr>\n",
              "    <tr>\n",
              "      <th>key</th>\n",
              "      <th></th>\n",
              "      <th></th>\n",
              "    </tr>\n",
              "  </thead>\n",
              "  <tbody>\n",
              "    <tr>\n",
              "      <th>A</th>\n",
              "      <td>3</td>\n",
              "      <td>8</td>\n",
              "    </tr>\n",
              "    <tr>\n",
              "      <th>B</th>\n",
              "      <td>5</td>\n",
              "      <td>7</td>\n",
              "    </tr>\n",
              "    <tr>\n",
              "      <th>C</th>\n",
              "      <td>7</td>\n",
              "      <td>12</td>\n",
              "    </tr>\n",
              "  </tbody>\n",
              "</table>\n",
              "</div>\n",
              "    </div>"
            ],
            "text/plain": [
              "df\n",
              "  key  data1  data2\n",
              "0   A      0      5\n",
              "1   B      1      0\n",
              "2   C      2      3\n",
              "3   A      3      3\n",
              "4   B      4      7\n",
              "5   C      5      9\n",
              "\n",
              "df.groupby(df['key']).sum()\n",
              "     data1  data2\n",
              "key              \n",
              "A        3      8\n",
              "B        5      7\n",
              "C        7     12"
            ]
          },
          "metadata": {
            "tags": []
          },
          "execution_count": 86
        }
      ]
    },
    {
      "metadata": {
        "id": "XBoQOqvyg0io",
        "colab_type": "text"
      },
      "cell_type": "markdown",
      "source": [
        "####  A dictionary or series mapping index to group\n",
        "\n",
        "Another method is to provide a dictionary that maps index values to the group keys:\n"
      ]
    },
    {
      "metadata": {
        "id": "xCUrHzbQ3tm3",
        "colab_type": "code",
        "colab": {
          "base_uri": "https://localhost:8080/",
          "height": 315
        },
        "outputId": "4a3dc650-5882-455f-a67a-0e4a656bb688"
      },
      "cell_type": "code",
      "source": [
        "df2 = df.set_index('key')\n",
        "mapping = {'A': 'vowel', 'B': 'consonant', 'C': 'consonant'}\n",
        "display('df2', 'df2.groupby(mapping).sum()')"
      ],
      "execution_count": 87,
      "outputs": [
        {
          "output_type": "execute_result",
          "data": {
            "text/html": [
              "<div style=\"float: left; padding: 10px;\">\n",
              "    <p style='font-family:\"Courier New\", Courier, monospace'>df2</p><div>\n",
              "<style scoped>\n",
              "    .dataframe tbody tr th:only-of-type {\n",
              "        vertical-align: middle;\n",
              "    }\n",
              "\n",
              "    .dataframe tbody tr th {\n",
              "        vertical-align: top;\n",
              "    }\n",
              "\n",
              "    .dataframe thead th {\n",
              "        text-align: right;\n",
              "    }\n",
              "</style>\n",
              "<table border=\"1\" class=\"dataframe\">\n",
              "  <thead>\n",
              "    <tr style=\"text-align: right;\">\n",
              "      <th></th>\n",
              "      <th>data1</th>\n",
              "      <th>data2</th>\n",
              "    </tr>\n",
              "    <tr>\n",
              "      <th>key</th>\n",
              "      <th></th>\n",
              "      <th></th>\n",
              "    </tr>\n",
              "  </thead>\n",
              "  <tbody>\n",
              "    <tr>\n",
              "      <th>A</th>\n",
              "      <td>0</td>\n",
              "      <td>5</td>\n",
              "    </tr>\n",
              "    <tr>\n",
              "      <th>B</th>\n",
              "      <td>1</td>\n",
              "      <td>0</td>\n",
              "    </tr>\n",
              "    <tr>\n",
              "      <th>C</th>\n",
              "      <td>2</td>\n",
              "      <td>3</td>\n",
              "    </tr>\n",
              "    <tr>\n",
              "      <th>A</th>\n",
              "      <td>3</td>\n",
              "      <td>3</td>\n",
              "    </tr>\n",
              "    <tr>\n",
              "      <th>B</th>\n",
              "      <td>4</td>\n",
              "      <td>7</td>\n",
              "    </tr>\n",
              "    <tr>\n",
              "      <th>C</th>\n",
              "      <td>5</td>\n",
              "      <td>9</td>\n",
              "    </tr>\n",
              "  </tbody>\n",
              "</table>\n",
              "</div>\n",
              "    </div>\n",
              "<div style=\"float: left; padding: 10px;\">\n",
              "    <p style='font-family:\"Courier New\", Courier, monospace'>df2.groupby(mapping).sum()</p><div>\n",
              "<style scoped>\n",
              "    .dataframe tbody tr th:only-of-type {\n",
              "        vertical-align: middle;\n",
              "    }\n",
              "\n",
              "    .dataframe tbody tr th {\n",
              "        vertical-align: top;\n",
              "    }\n",
              "\n",
              "    .dataframe thead th {\n",
              "        text-align: right;\n",
              "    }\n",
              "</style>\n",
              "<table border=\"1\" class=\"dataframe\">\n",
              "  <thead>\n",
              "    <tr style=\"text-align: right;\">\n",
              "      <th></th>\n",
              "      <th>data1</th>\n",
              "      <th>data2</th>\n",
              "    </tr>\n",
              "  </thead>\n",
              "  <tbody>\n",
              "    <tr>\n",
              "      <th>consonant</th>\n",
              "      <td>12</td>\n",
              "      <td>19</td>\n",
              "    </tr>\n",
              "    <tr>\n",
              "      <th>vowel</th>\n",
              "      <td>3</td>\n",
              "      <td>8</td>\n",
              "    </tr>\n",
              "  </tbody>\n",
              "</table>\n",
              "</div>\n",
              "    </div>"
            ],
            "text/plain": [
              "df2\n",
              "     data1  data2\n",
              "key              \n",
              "A        0      5\n",
              "B        1      0\n",
              "C        2      3\n",
              "A        3      3\n",
              "B        4      7\n",
              "C        5      9\n",
              "\n",
              "df2.groupby(mapping).sum()\n",
              "           data1  data2\n",
              "consonant     12     19\n",
              "vowel          3      8"
            ]
          },
          "metadata": {
            "tags": []
          },
          "execution_count": 87
        }
      ]
    },
    {
      "metadata": {
        "id": "eTA8YOPo3tqU",
        "colab_type": "code",
        "colab": {
          "base_uri": "https://localhost:8080/",
          "height": 390
        },
        "outputId": "0a48d1f3-f7f8-42b9-83db-b1bf30af74e4"
      },
      "cell_type": "code",
      "source": [
        "decade = 10 * (planets['year'] // 10)\n",
        "decade = decade.astype(str) + 's'\n",
        "decade.name = 'decade'\n",
        "planets.groupby(['method', decade])['number'].sum().unstack().fillna(0)"
      ],
      "execution_count": 88,
      "outputs": [
        {
          "output_type": "execute_result",
          "data": {
            "text/html": [
              "<div>\n",
              "<style scoped>\n",
              "    .dataframe tbody tr th:only-of-type {\n",
              "        vertical-align: middle;\n",
              "    }\n",
              "\n",
              "    .dataframe tbody tr th {\n",
              "        vertical-align: top;\n",
              "    }\n",
              "\n",
              "    .dataframe thead th {\n",
              "        text-align: right;\n",
              "    }\n",
              "</style>\n",
              "<table border=\"1\" class=\"dataframe\">\n",
              "  <thead>\n",
              "    <tr style=\"text-align: right;\">\n",
              "      <th>decade</th>\n",
              "      <th>1980s</th>\n",
              "      <th>1990s</th>\n",
              "      <th>2000s</th>\n",
              "      <th>2010s</th>\n",
              "    </tr>\n",
              "    <tr>\n",
              "      <th>method</th>\n",
              "      <th></th>\n",
              "      <th></th>\n",
              "      <th></th>\n",
              "      <th></th>\n",
              "    </tr>\n",
              "  </thead>\n",
              "  <tbody>\n",
              "    <tr>\n",
              "      <th>Astrometry</th>\n",
              "      <td>0.0</td>\n",
              "      <td>0.0</td>\n",
              "      <td>0.0</td>\n",
              "      <td>2.0</td>\n",
              "    </tr>\n",
              "    <tr>\n",
              "      <th>Eclipse Timing Variations</th>\n",
              "      <td>0.0</td>\n",
              "      <td>0.0</td>\n",
              "      <td>5.0</td>\n",
              "      <td>10.0</td>\n",
              "    </tr>\n",
              "    <tr>\n",
              "      <th>Imaging</th>\n",
              "      <td>0.0</td>\n",
              "      <td>0.0</td>\n",
              "      <td>29.0</td>\n",
              "      <td>21.0</td>\n",
              "    </tr>\n",
              "    <tr>\n",
              "      <th>Microlensing</th>\n",
              "      <td>0.0</td>\n",
              "      <td>0.0</td>\n",
              "      <td>12.0</td>\n",
              "      <td>15.0</td>\n",
              "    </tr>\n",
              "    <tr>\n",
              "      <th>Orbital Brightness Modulation</th>\n",
              "      <td>0.0</td>\n",
              "      <td>0.0</td>\n",
              "      <td>0.0</td>\n",
              "      <td>5.0</td>\n",
              "    </tr>\n",
              "    <tr>\n",
              "      <th>Pulsar Timing</th>\n",
              "      <td>0.0</td>\n",
              "      <td>9.0</td>\n",
              "      <td>1.0</td>\n",
              "      <td>1.0</td>\n",
              "    </tr>\n",
              "    <tr>\n",
              "      <th>Pulsation Timing Variations</th>\n",
              "      <td>0.0</td>\n",
              "      <td>0.0</td>\n",
              "      <td>1.0</td>\n",
              "      <td>0.0</td>\n",
              "    </tr>\n",
              "    <tr>\n",
              "      <th>Radial Velocity</th>\n",
              "      <td>1.0</td>\n",
              "      <td>52.0</td>\n",
              "      <td>475.0</td>\n",
              "      <td>424.0</td>\n",
              "    </tr>\n",
              "    <tr>\n",
              "      <th>Transit</th>\n",
              "      <td>0.0</td>\n",
              "      <td>0.0</td>\n",
              "      <td>64.0</td>\n",
              "      <td>712.0</td>\n",
              "    </tr>\n",
              "    <tr>\n",
              "      <th>Transit Timing Variations</th>\n",
              "      <td>0.0</td>\n",
              "      <td>0.0</td>\n",
              "      <td>0.0</td>\n",
              "      <td>9.0</td>\n",
              "    </tr>\n",
              "  </tbody>\n",
              "</table>\n",
              "</div>"
            ],
            "text/plain": [
              "decade                         1980s  1990s  2000s  2010s\n",
              "method                                                   \n",
              "Astrometry                       0.0    0.0    0.0    2.0\n",
              "Eclipse Timing Variations        0.0    0.0    5.0   10.0\n",
              "Imaging                          0.0    0.0   29.0   21.0\n",
              "Microlensing                     0.0    0.0   12.0   15.0\n",
              "Orbital Brightness Modulation    0.0    0.0    0.0    5.0\n",
              "Pulsar Timing                    0.0    9.0    1.0    1.0\n",
              "Pulsation Timing Variations      0.0    0.0    1.0    0.0\n",
              "Radial Velocity                  1.0   52.0  475.0  424.0\n",
              "Transit                          0.0    0.0   64.0  712.0\n",
              "Transit Timing Variations        0.0    0.0    0.0    9.0"
            ]
          },
          "metadata": {
            "tags": []
          },
          "execution_count": 88
        }
      ]
    },
    {
      "metadata": {
        "id": "UTYkNrCF3ttz",
        "colab_type": "code",
        "colab": {}
      },
      "cell_type": "code",
      "source": [
        "# planets"
      ],
      "execution_count": 0,
      "outputs": []
    },
    {
      "metadata": {
        "id": "c59jO55K3txV",
        "colab_type": "code",
        "colab": {
          "base_uri": "https://localhost:8080/",
          "height": 390
        },
        "outputId": "c2f85dad-7d14-4cf8-9dea-001ac010afd8"
      },
      "cell_type": "code",
      "source": [
        "yr= (10 * (planets.year // 10)).astype(str) + 's'\n",
        "# yr.head()\n",
        "planets.groupby(['method',yr ])['number'].sum().unstack().fillna(0)"
      ],
      "execution_count": 90,
      "outputs": [
        {
          "output_type": "execute_result",
          "data": {
            "text/html": [
              "<div>\n",
              "<style scoped>\n",
              "    .dataframe tbody tr th:only-of-type {\n",
              "        vertical-align: middle;\n",
              "    }\n",
              "\n",
              "    .dataframe tbody tr th {\n",
              "        vertical-align: top;\n",
              "    }\n",
              "\n",
              "    .dataframe thead th {\n",
              "        text-align: right;\n",
              "    }\n",
              "</style>\n",
              "<table border=\"1\" class=\"dataframe\">\n",
              "  <thead>\n",
              "    <tr style=\"text-align: right;\">\n",
              "      <th>year</th>\n",
              "      <th>1980s</th>\n",
              "      <th>1990s</th>\n",
              "      <th>2000s</th>\n",
              "      <th>2010s</th>\n",
              "    </tr>\n",
              "    <tr>\n",
              "      <th>method</th>\n",
              "      <th></th>\n",
              "      <th></th>\n",
              "      <th></th>\n",
              "      <th></th>\n",
              "    </tr>\n",
              "  </thead>\n",
              "  <tbody>\n",
              "    <tr>\n",
              "      <th>Astrometry</th>\n",
              "      <td>0.0</td>\n",
              "      <td>0.0</td>\n",
              "      <td>0.0</td>\n",
              "      <td>2.0</td>\n",
              "    </tr>\n",
              "    <tr>\n",
              "      <th>Eclipse Timing Variations</th>\n",
              "      <td>0.0</td>\n",
              "      <td>0.0</td>\n",
              "      <td>5.0</td>\n",
              "      <td>10.0</td>\n",
              "    </tr>\n",
              "    <tr>\n",
              "      <th>Imaging</th>\n",
              "      <td>0.0</td>\n",
              "      <td>0.0</td>\n",
              "      <td>29.0</td>\n",
              "      <td>21.0</td>\n",
              "    </tr>\n",
              "    <tr>\n",
              "      <th>Microlensing</th>\n",
              "      <td>0.0</td>\n",
              "      <td>0.0</td>\n",
              "      <td>12.0</td>\n",
              "      <td>15.0</td>\n",
              "    </tr>\n",
              "    <tr>\n",
              "      <th>Orbital Brightness Modulation</th>\n",
              "      <td>0.0</td>\n",
              "      <td>0.0</td>\n",
              "      <td>0.0</td>\n",
              "      <td>5.0</td>\n",
              "    </tr>\n",
              "    <tr>\n",
              "      <th>Pulsar Timing</th>\n",
              "      <td>0.0</td>\n",
              "      <td>9.0</td>\n",
              "      <td>1.0</td>\n",
              "      <td>1.0</td>\n",
              "    </tr>\n",
              "    <tr>\n",
              "      <th>Pulsation Timing Variations</th>\n",
              "      <td>0.0</td>\n",
              "      <td>0.0</td>\n",
              "      <td>1.0</td>\n",
              "      <td>0.0</td>\n",
              "    </tr>\n",
              "    <tr>\n",
              "      <th>Radial Velocity</th>\n",
              "      <td>1.0</td>\n",
              "      <td>52.0</td>\n",
              "      <td>475.0</td>\n",
              "      <td>424.0</td>\n",
              "    </tr>\n",
              "    <tr>\n",
              "      <th>Transit</th>\n",
              "      <td>0.0</td>\n",
              "      <td>0.0</td>\n",
              "      <td>64.0</td>\n",
              "      <td>712.0</td>\n",
              "    </tr>\n",
              "    <tr>\n",
              "      <th>Transit Timing Variations</th>\n",
              "      <td>0.0</td>\n",
              "      <td>0.0</td>\n",
              "      <td>0.0</td>\n",
              "      <td>9.0</td>\n",
              "    </tr>\n",
              "  </tbody>\n",
              "</table>\n",
              "</div>"
            ],
            "text/plain": [
              "year                           1980s  1990s  2000s  2010s\n",
              "method                                                   \n",
              "Astrometry                       0.0    0.0    0.0    2.0\n",
              "Eclipse Timing Variations        0.0    0.0    5.0   10.0\n",
              "Imaging                          0.0    0.0   29.0   21.0\n",
              "Microlensing                     0.0    0.0   12.0   15.0\n",
              "Orbital Brightness Modulation    0.0    0.0    0.0    5.0\n",
              "Pulsar Timing                    0.0    9.0    1.0    1.0\n",
              "Pulsation Timing Variations      0.0    0.0    1.0    0.0\n",
              "Radial Velocity                  1.0   52.0  475.0  424.0\n",
              "Transit                          0.0    0.0   64.0  712.0\n",
              "Transit Timing Variations        0.0    0.0    0.0    9.0"
            ]
          },
          "metadata": {
            "tags": []
          },
          "execution_count": 90
        }
      ]
    },
    {
      "metadata": {
        "id": "x_9kBWE58MkG",
        "colab_type": "text"
      },
      "cell_type": "markdown",
      "source": [
        "**Above example is very important, **\n",
        "Here we are taking a series object (year) and converting the values of that object into decade and then grouping based in that.<br>\n",
        "Here trick is that, the series object remembers the index and do grouping based on that.\n"
      ]
    },
    {
      "metadata": {
        "id": "3w-QOvHE3t0u",
        "colab_type": "code",
        "colab": {}
      },
      "cell_type": "code",
      "source": [
        ""
      ],
      "execution_count": 0,
      "outputs": []
    },
    {
      "metadata": {
        "id": "bopZA45a9GoL",
        "colab_type": "text"
      },
      "cell_type": "markdown",
      "source": [
        "### [Pivot Tables](https://jakevdp.github.io/PythonDataScienceHandbook/03.09-pivot-tables.html)\n",
        "A pivot table is a similar operation that is commonly seen in spreadsheets and other programs that operate on tabular data. The pivot table takes simple column-wise data as input, and groups the entries into a two-dimensional table that provides a multidimensional summarization of the data. The difference between pivot tables and GroupBy can sometimes cause confusion; it helps me to think of pivot tables as essentially a multidimensional version of GroupBy aggregation. That is, you split-apply-combine, but both the split and the combine happen across not a one-dimensional index, but across a two-dimensional grid."
      ]
    },
    {
      "metadata": {
        "id": "Dg5iXfwi93S7",
        "colab_type": "text"
      },
      "cell_type": "markdown",
      "source": [
        "#### Motivating Pivot Tables\n",
        "For the examples in this section, we'll use the database of passengers on the Titanic"
      ]
    },
    {
      "metadata": {
        "id": "Apxjq6ZZ3t4X",
        "colab_type": "code",
        "colab": {}
      },
      "cell_type": "code",
      "source": [
        "import seaborn as sns\n",
        "titanic = sns.load_dataset('titanic')"
      ],
      "execution_count": 0,
      "outputs": []
    },
    {
      "metadata": {
        "id": "6JkfIDJ7-bVZ",
        "colab_type": "text"
      },
      "cell_type": "markdown",
      "source": [
        "#### Pivot Tables by Hand\n",
        "To start learning more about this data, we might begin by grouping according to gender, survival status, or some combination thereof. If you have read the previous section, you might be tempted to apply a GroupBy operation–for example, let's look at survival rate by gender:"
      ]
    },
    {
      "metadata": {
        "id": "RQsGo6IY3t_L",
        "colab_type": "code",
        "colab": {
          "base_uri": "https://localhost:8080/",
          "height": 142
        },
        "outputId": "0c7e904f-8b02-4fba-e247-4d9deec6ea76"
      },
      "cell_type": "code",
      "source": [
        "titanic.groupby('sex')[['survived']].mean()"
      ],
      "execution_count": 92,
      "outputs": [
        {
          "output_type": "execute_result",
          "data": {
            "text/html": [
              "<div>\n",
              "<style scoped>\n",
              "    .dataframe tbody tr th:only-of-type {\n",
              "        vertical-align: middle;\n",
              "    }\n",
              "\n",
              "    .dataframe tbody tr th {\n",
              "        vertical-align: top;\n",
              "    }\n",
              "\n",
              "    .dataframe thead th {\n",
              "        text-align: right;\n",
              "    }\n",
              "</style>\n",
              "<table border=\"1\" class=\"dataframe\">\n",
              "  <thead>\n",
              "    <tr style=\"text-align: right;\">\n",
              "      <th></th>\n",
              "      <th>survived</th>\n",
              "    </tr>\n",
              "    <tr>\n",
              "      <th>sex</th>\n",
              "      <th></th>\n",
              "    </tr>\n",
              "  </thead>\n",
              "  <tbody>\n",
              "    <tr>\n",
              "      <th>female</th>\n",
              "      <td>0.742038</td>\n",
              "    </tr>\n",
              "    <tr>\n",
              "      <th>male</th>\n",
              "      <td>0.188908</td>\n",
              "    </tr>\n",
              "  </tbody>\n",
              "</table>\n",
              "</div>"
            ],
            "text/plain": [
              "        survived\n",
              "sex             \n",
              "female  0.742038\n",
              "male    0.188908"
            ]
          },
          "metadata": {
            "tags": []
          },
          "execution_count": 92
        }
      ]
    },
    {
      "metadata": {
        "id": "efH7BgMM_eR3",
        "colab_type": "text"
      },
      "cell_type": "markdown",
      "source": [
        "This immediately gives us some insight: overall, three of every four females on board survived, while only one in five males survived!\n",
        "\n",
        "This is useful, but we might like to go one step deeper and look at survival by both sex and, say, class. Using the vocabulary of GroupBy, we might proceed using something like this: we group by class and gender, select survival, apply a mean aggregate, combine the resulting groups, and then unstack the hierarchical index to reveal the hidden multidimensionality. In code:"
      ]
    },
    {
      "metadata": {
        "id": "QRS5KeLP3uF_",
        "colab_type": "code",
        "colab": {
          "base_uri": "https://localhost:8080/",
          "height": 142
        },
        "outputId": "f891907a-d841-40e3-e6b4-15b63324002b"
      },
      "cell_type": "code",
      "source": [
        "titanic.groupby(['sex', 'class'])['survived'].aggregate('mean').unstack()"
      ],
      "execution_count": 93,
      "outputs": [
        {
          "output_type": "execute_result",
          "data": {
            "text/html": [
              "<div>\n",
              "<style scoped>\n",
              "    .dataframe tbody tr th:only-of-type {\n",
              "        vertical-align: middle;\n",
              "    }\n",
              "\n",
              "    .dataframe tbody tr th {\n",
              "        vertical-align: top;\n",
              "    }\n",
              "\n",
              "    .dataframe thead th {\n",
              "        text-align: right;\n",
              "    }\n",
              "</style>\n",
              "<table border=\"1\" class=\"dataframe\">\n",
              "  <thead>\n",
              "    <tr style=\"text-align: right;\">\n",
              "      <th>class</th>\n",
              "      <th>First</th>\n",
              "      <th>Second</th>\n",
              "      <th>Third</th>\n",
              "    </tr>\n",
              "    <tr>\n",
              "      <th>sex</th>\n",
              "      <th></th>\n",
              "      <th></th>\n",
              "      <th></th>\n",
              "    </tr>\n",
              "  </thead>\n",
              "  <tbody>\n",
              "    <tr>\n",
              "      <th>female</th>\n",
              "      <td>0.968085</td>\n",
              "      <td>0.921053</td>\n",
              "      <td>0.500000</td>\n",
              "    </tr>\n",
              "    <tr>\n",
              "      <th>male</th>\n",
              "      <td>0.368852</td>\n",
              "      <td>0.157407</td>\n",
              "      <td>0.135447</td>\n",
              "    </tr>\n",
              "  </tbody>\n",
              "</table>\n",
              "</div>"
            ],
            "text/plain": [
              "class      First    Second     Third\n",
              "sex                                 \n",
              "female  0.968085  0.921053  0.500000\n",
              "male    0.368852  0.157407  0.135447"
            ]
          },
          "metadata": {
            "tags": []
          },
          "execution_count": 93
        }
      ]
    },
    {
      "metadata": {
        "id": "0ZTIio6DAoPl",
        "colab_type": "text"
      },
      "cell_type": "markdown",
      "source": [
        "This gives us a better idea of how both gender and class affected survival, but the code is starting to look a bit garbled. While each step of this pipeline makes sense in light of the tools we've previously discussed, the long string of code is not particularly easy to read or use. This two-dimensional GroupBy is common enough that Pandas includes a convenience routine, pivot_table, which succinctly handles this type of multi-dimensional aggregation."
      ]
    },
    {
      "metadata": {
        "id": "00DvkFsLArLx",
        "colab_type": "text"
      },
      "cell_type": "markdown",
      "source": [
        "#### Pivot Table Syntax\n",
        "Here is the equivalent to the preceding operation using the pivot_table method of DataFrames:"
      ]
    },
    {
      "metadata": {
        "id": "a8UzllTn3uDZ",
        "colab_type": "code",
        "colab": {
          "base_uri": "https://localhost:8080/",
          "height": 142
        },
        "outputId": "9114088d-fc58-437f-ac54-aaa0cb03fcfb"
      },
      "cell_type": "code",
      "source": [
        "titanic.pivot_table('survived', index='sex', columns='class')"
      ],
      "execution_count": 94,
      "outputs": [
        {
          "output_type": "execute_result",
          "data": {
            "text/html": [
              "<div>\n",
              "<style scoped>\n",
              "    .dataframe tbody tr th:only-of-type {\n",
              "        vertical-align: middle;\n",
              "    }\n",
              "\n",
              "    .dataframe tbody tr th {\n",
              "        vertical-align: top;\n",
              "    }\n",
              "\n",
              "    .dataframe thead th {\n",
              "        text-align: right;\n",
              "    }\n",
              "</style>\n",
              "<table border=\"1\" class=\"dataframe\">\n",
              "  <thead>\n",
              "    <tr style=\"text-align: right;\">\n",
              "      <th>class</th>\n",
              "      <th>First</th>\n",
              "      <th>Second</th>\n",
              "      <th>Third</th>\n",
              "    </tr>\n",
              "    <tr>\n",
              "      <th>sex</th>\n",
              "      <th></th>\n",
              "      <th></th>\n",
              "      <th></th>\n",
              "    </tr>\n",
              "  </thead>\n",
              "  <tbody>\n",
              "    <tr>\n",
              "      <th>female</th>\n",
              "      <td>0.968085</td>\n",
              "      <td>0.921053</td>\n",
              "      <td>0.500000</td>\n",
              "    </tr>\n",
              "    <tr>\n",
              "      <th>male</th>\n",
              "      <td>0.368852</td>\n",
              "      <td>0.157407</td>\n",
              "      <td>0.135447</td>\n",
              "    </tr>\n",
              "  </tbody>\n",
              "</table>\n",
              "</div>"
            ],
            "text/plain": [
              "class      First    Second     Third\n",
              "sex                                 \n",
              "female  0.968085  0.921053  0.500000\n",
              "male    0.368852  0.157407  0.135447"
            ]
          },
          "metadata": {
            "tags": []
          },
          "execution_count": 94
        }
      ]
    },
    {
      "metadata": {
        "id": "VKPrfgH7REeG",
        "colab_type": "text"
      },
      "cell_type": "markdown",
      "source": [
        "#### Multi-level pivot tables\n",
        "Just as in the GroupBy, the grouping in pivot tables can be specified with multiple levels, and via a number of options. For example, we might be interested in looking at age as a third dimension. We'll bin the age using the pd.cut function:"
      ]
    },
    {
      "metadata": {
        "id": "ZwaE07gt3t8M",
        "colab_type": "code",
        "colab": {
          "base_uri": "https://localhost:8080/",
          "height": 204
        },
        "outputId": "c9a3724b-58aa-41b3-8d47-f0609060d1d8"
      },
      "cell_type": "code",
      "source": [
        "age = pd.cut(titanic['age'], [0, 18, 80])\n",
        "titanic.pivot_table('survived', ['sex', age], 'class')"
      ],
      "execution_count": 95,
      "outputs": [
        {
          "output_type": "execute_result",
          "data": {
            "text/html": [
              "<div>\n",
              "<style scoped>\n",
              "    .dataframe tbody tr th:only-of-type {\n",
              "        vertical-align: middle;\n",
              "    }\n",
              "\n",
              "    .dataframe tbody tr th {\n",
              "        vertical-align: top;\n",
              "    }\n",
              "\n",
              "    .dataframe thead th {\n",
              "        text-align: right;\n",
              "    }\n",
              "</style>\n",
              "<table border=\"1\" class=\"dataframe\">\n",
              "  <thead>\n",
              "    <tr style=\"text-align: right;\">\n",
              "      <th></th>\n",
              "      <th>class</th>\n",
              "      <th>First</th>\n",
              "      <th>Second</th>\n",
              "      <th>Third</th>\n",
              "    </tr>\n",
              "    <tr>\n",
              "      <th>sex</th>\n",
              "      <th>age</th>\n",
              "      <th></th>\n",
              "      <th></th>\n",
              "      <th></th>\n",
              "    </tr>\n",
              "  </thead>\n",
              "  <tbody>\n",
              "    <tr>\n",
              "      <th rowspan=\"2\" valign=\"top\">female</th>\n",
              "      <th>(0, 18]</th>\n",
              "      <td>0.909091</td>\n",
              "      <td>1.000000</td>\n",
              "      <td>0.511628</td>\n",
              "    </tr>\n",
              "    <tr>\n",
              "      <th>(18, 80]</th>\n",
              "      <td>0.972973</td>\n",
              "      <td>0.900000</td>\n",
              "      <td>0.423729</td>\n",
              "    </tr>\n",
              "    <tr>\n",
              "      <th rowspan=\"2\" valign=\"top\">male</th>\n",
              "      <th>(0, 18]</th>\n",
              "      <td>0.800000</td>\n",
              "      <td>0.600000</td>\n",
              "      <td>0.215686</td>\n",
              "    </tr>\n",
              "    <tr>\n",
              "      <th>(18, 80]</th>\n",
              "      <td>0.375000</td>\n",
              "      <td>0.071429</td>\n",
              "      <td>0.133663</td>\n",
              "    </tr>\n",
              "  </tbody>\n",
              "</table>\n",
              "</div>"
            ],
            "text/plain": [
              "class               First    Second     Third\n",
              "sex    age                                   \n",
              "female (0, 18]   0.909091  1.000000  0.511628\n",
              "       (18, 80]  0.972973  0.900000  0.423729\n",
              "male   (0, 18]   0.800000  0.600000  0.215686\n",
              "       (18, 80]  0.375000  0.071429  0.133663"
            ]
          },
          "metadata": {
            "tags": []
          },
          "execution_count": 95
        }
      ]
    },
    {
      "metadata": {
        "id": "tazducbyUAWI",
        "colab_type": "text"
      },
      "cell_type": "markdown",
      "source": [
        "We can apply the same strategy when working with the columns as well; let's add info on the fare paid using pd.qcut to automatically compute quantiles:"
      ]
    },
    {
      "metadata": {
        "id": "yvc9UZkw3tgQ",
        "colab_type": "code",
        "colab": {
          "base_uri": "https://localhost:8080/",
          "height": 235
        },
        "outputId": "597f278d-0e20-4dbf-be38-6aea305db8f6"
      },
      "cell_type": "code",
      "source": [
        "fare = pd.qcut(titanic['fare'], 2)\n",
        "titanic.pivot_table('survived', ['sex', age], [fare, 'class'])"
      ],
      "execution_count": 96,
      "outputs": [
        {
          "output_type": "execute_result",
          "data": {
            "text/html": [
              "<div>\n",
              "<style scoped>\n",
              "    .dataframe tbody tr th:only-of-type {\n",
              "        vertical-align: middle;\n",
              "    }\n",
              "\n",
              "    .dataframe tbody tr th {\n",
              "        vertical-align: top;\n",
              "    }\n",
              "\n",
              "    .dataframe thead tr th {\n",
              "        text-align: left;\n",
              "    }\n",
              "\n",
              "    .dataframe thead tr:last-of-type th {\n",
              "        text-align: right;\n",
              "    }\n",
              "</style>\n",
              "<table border=\"1\" class=\"dataframe\">\n",
              "  <thead>\n",
              "    <tr>\n",
              "      <th></th>\n",
              "      <th>fare</th>\n",
              "      <th colspan=\"3\" halign=\"left\">(-0.001, 14.454]</th>\n",
              "      <th colspan=\"3\" halign=\"left\">(14.454, 512.329]</th>\n",
              "    </tr>\n",
              "    <tr>\n",
              "      <th></th>\n",
              "      <th>class</th>\n",
              "      <th>First</th>\n",
              "      <th>Second</th>\n",
              "      <th>Third</th>\n",
              "      <th>First</th>\n",
              "      <th>Second</th>\n",
              "      <th>Third</th>\n",
              "    </tr>\n",
              "    <tr>\n",
              "      <th>sex</th>\n",
              "      <th>age</th>\n",
              "      <th></th>\n",
              "      <th></th>\n",
              "      <th></th>\n",
              "      <th></th>\n",
              "      <th></th>\n",
              "      <th></th>\n",
              "    </tr>\n",
              "  </thead>\n",
              "  <tbody>\n",
              "    <tr>\n",
              "      <th rowspan=\"2\" valign=\"top\">female</th>\n",
              "      <th>(0, 18]</th>\n",
              "      <td>NaN</td>\n",
              "      <td>1.000000</td>\n",
              "      <td>0.714286</td>\n",
              "      <td>0.909091</td>\n",
              "      <td>1.000000</td>\n",
              "      <td>0.318182</td>\n",
              "    </tr>\n",
              "    <tr>\n",
              "      <th>(18, 80]</th>\n",
              "      <td>NaN</td>\n",
              "      <td>0.880000</td>\n",
              "      <td>0.444444</td>\n",
              "      <td>0.972973</td>\n",
              "      <td>0.914286</td>\n",
              "      <td>0.391304</td>\n",
              "    </tr>\n",
              "    <tr>\n",
              "      <th rowspan=\"2\" valign=\"top\">male</th>\n",
              "      <th>(0, 18]</th>\n",
              "      <td>NaN</td>\n",
              "      <td>0.000000</td>\n",
              "      <td>0.260870</td>\n",
              "      <td>0.800000</td>\n",
              "      <td>0.818182</td>\n",
              "      <td>0.178571</td>\n",
              "    </tr>\n",
              "    <tr>\n",
              "      <th>(18, 80]</th>\n",
              "      <td>0.0</td>\n",
              "      <td>0.098039</td>\n",
              "      <td>0.125000</td>\n",
              "      <td>0.391304</td>\n",
              "      <td>0.030303</td>\n",
              "      <td>0.192308</td>\n",
              "    </tr>\n",
              "  </tbody>\n",
              "</table>\n",
              "</div>"
            ],
            "text/plain": [
              "fare            (-0.001, 14.454]                     (14.454, 512.329]  \\\n",
              "class                      First    Second     Third             First   \n",
              "sex    age                                                               \n",
              "female (0, 18]               NaN  1.000000  0.714286          0.909091   \n",
              "       (18, 80]              NaN  0.880000  0.444444          0.972973   \n",
              "male   (0, 18]               NaN  0.000000  0.260870          0.800000   \n",
              "       (18, 80]              0.0  0.098039  0.125000          0.391304   \n",
              "\n",
              "fare                                 \n",
              "class              Second     Third  \n",
              "sex    age                           \n",
              "female (0, 18]   1.000000  0.318182  \n",
              "       (18, 80]  0.914286  0.391304  \n",
              "male   (0, 18]   0.818182  0.178571  \n",
              "       (18, 80]  0.030303  0.192308  "
            ]
          },
          "metadata": {
            "tags": []
          },
          "execution_count": 96
        }
      ]
    },
    {
      "metadata": {
        "id": "QfQEHSQ3X94Q",
        "colab_type": "text"
      },
      "cell_type": "markdown",
      "source": [
        "#### Additional pivot table options\n",
        "The aggfunc keyword controls what type of aggregation is applied, which is a mean by default. As in the GroupBy, the aggregation specification can be a string representing one of several common choices (e.g., 'sum', 'mean', 'count', 'min', 'max', etc.) or a function that implements an aggregation (e.g., np.sum(), min(), sum(), etc.). Additionally, it can be specified as a dictionary mapping a column to any of the above desired options:"
      ]
    },
    {
      "metadata": {
        "id": "7epS5JfKUCdo",
        "colab_type": "code",
        "colab": {
          "base_uri": "https://localhost:8080/",
          "height": 173
        },
        "outputId": "55e8a2f0-f694-4299-b1df-1c45995d27b8"
      },
      "cell_type": "code",
      "source": [
        "titanic.pivot_table(index='sex', columns='class',\n",
        "                    aggfunc={'survived':sum, 'fare':'mean'})"
      ],
      "execution_count": 97,
      "outputs": [
        {
          "output_type": "execute_result",
          "data": {
            "text/html": [
              "<div>\n",
              "<style scoped>\n",
              "    .dataframe tbody tr th:only-of-type {\n",
              "        vertical-align: middle;\n",
              "    }\n",
              "\n",
              "    .dataframe tbody tr th {\n",
              "        vertical-align: top;\n",
              "    }\n",
              "\n",
              "    .dataframe thead tr th {\n",
              "        text-align: left;\n",
              "    }\n",
              "\n",
              "    .dataframe thead tr:last-of-type th {\n",
              "        text-align: right;\n",
              "    }\n",
              "</style>\n",
              "<table border=\"1\" class=\"dataframe\">\n",
              "  <thead>\n",
              "    <tr>\n",
              "      <th></th>\n",
              "      <th colspan=\"3\" halign=\"left\">fare</th>\n",
              "      <th colspan=\"3\" halign=\"left\">survived</th>\n",
              "    </tr>\n",
              "    <tr>\n",
              "      <th>class</th>\n",
              "      <th>First</th>\n",
              "      <th>Second</th>\n",
              "      <th>Third</th>\n",
              "      <th>First</th>\n",
              "      <th>Second</th>\n",
              "      <th>Third</th>\n",
              "    </tr>\n",
              "    <tr>\n",
              "      <th>sex</th>\n",
              "      <th></th>\n",
              "      <th></th>\n",
              "      <th></th>\n",
              "      <th></th>\n",
              "      <th></th>\n",
              "      <th></th>\n",
              "    </tr>\n",
              "  </thead>\n",
              "  <tbody>\n",
              "    <tr>\n",
              "      <th>female</th>\n",
              "      <td>106.125798</td>\n",
              "      <td>21.970121</td>\n",
              "      <td>16.118810</td>\n",
              "      <td>91</td>\n",
              "      <td>70</td>\n",
              "      <td>72</td>\n",
              "    </tr>\n",
              "    <tr>\n",
              "      <th>male</th>\n",
              "      <td>67.226127</td>\n",
              "      <td>19.741782</td>\n",
              "      <td>12.661633</td>\n",
              "      <td>45</td>\n",
              "      <td>17</td>\n",
              "      <td>47</td>\n",
              "    </tr>\n",
              "  </tbody>\n",
              "</table>\n",
              "</div>"
            ],
            "text/plain": [
              "              fare                       survived             \n",
              "class        First     Second      Third    First Second Third\n",
              "sex                                                           \n",
              "female  106.125798  21.970121  16.118810       91     70    72\n",
              "male     67.226127  19.741782  12.661633       45     17    47"
            ]
          },
          "metadata": {
            "tags": []
          },
          "execution_count": 97
        }
      ]
    },
    {
      "metadata": {
        "id": "7yZw92mbaDlW",
        "colab_type": "text"
      },
      "cell_type": "markdown",
      "source": [
        "Notice also here that we've omitted the values keyword; when specifying a mapping for aggfunc, this is determined automatically.\n",
        "\n",
        "At times it's useful to compute totals along each grouping. This can be done via the margins keyword:"
      ]
    },
    {
      "metadata": {
        "id": "ve4k9SnQUCiv",
        "colab_type": "code",
        "colab": {
          "base_uri": "https://localhost:8080/",
          "height": 173
        },
        "outputId": "4f2f1a27-a519-4376-d2e7-25d27e09cf8f"
      },
      "cell_type": "code",
      "source": [
        "titanic.pivot_table('survived', index='sex', columns='class', margins=True)"
      ],
      "execution_count": 98,
      "outputs": [
        {
          "output_type": "execute_result",
          "data": {
            "text/html": [
              "<div>\n",
              "<style scoped>\n",
              "    .dataframe tbody tr th:only-of-type {\n",
              "        vertical-align: middle;\n",
              "    }\n",
              "\n",
              "    .dataframe tbody tr th {\n",
              "        vertical-align: top;\n",
              "    }\n",
              "\n",
              "    .dataframe thead th {\n",
              "        text-align: right;\n",
              "    }\n",
              "</style>\n",
              "<table border=\"1\" class=\"dataframe\">\n",
              "  <thead>\n",
              "    <tr style=\"text-align: right;\">\n",
              "      <th>class</th>\n",
              "      <th>First</th>\n",
              "      <th>Second</th>\n",
              "      <th>Third</th>\n",
              "      <th>All</th>\n",
              "    </tr>\n",
              "    <tr>\n",
              "      <th>sex</th>\n",
              "      <th></th>\n",
              "      <th></th>\n",
              "      <th></th>\n",
              "      <th></th>\n",
              "    </tr>\n",
              "  </thead>\n",
              "  <tbody>\n",
              "    <tr>\n",
              "      <th>female</th>\n",
              "      <td>0.968085</td>\n",
              "      <td>0.921053</td>\n",
              "      <td>0.500000</td>\n",
              "      <td>0.742038</td>\n",
              "    </tr>\n",
              "    <tr>\n",
              "      <th>male</th>\n",
              "      <td>0.368852</td>\n",
              "      <td>0.157407</td>\n",
              "      <td>0.135447</td>\n",
              "      <td>0.188908</td>\n",
              "    </tr>\n",
              "    <tr>\n",
              "      <th>All</th>\n",
              "      <td>0.629630</td>\n",
              "      <td>0.472826</td>\n",
              "      <td>0.242363</td>\n",
              "      <td>0.383838</td>\n",
              "    </tr>\n",
              "  </tbody>\n",
              "</table>\n",
              "</div>"
            ],
            "text/plain": [
              "class      First    Second     Third       All\n",
              "sex                                           \n",
              "female  0.968085  0.921053  0.500000  0.742038\n",
              "male    0.368852  0.157407  0.135447  0.188908\n",
              "All     0.629630  0.472826  0.242363  0.383838"
            ]
          },
          "metadata": {
            "tags": []
          },
          "execution_count": 98
        }
      ]
    },
    {
      "metadata": {
        "id": "w0Nlmo2LakK0",
        "colab_type": "text"
      },
      "cell_type": "markdown",
      "source": [
        "Here this automatically gives us information about the class-agnostic survival rate by gender, the gender-agnostic survival rate by class, and the overall survival rate of 38%. The margin label can be specified with the margins_name keyword, which defaults to \"All\"."
      ]
    },
    {
      "metadata": {
        "id": "cm-eFge6hQQ-",
        "colab_type": "text"
      },
      "cell_type": "markdown",
      "source": [
        ""
      ]
    },
    {
      "metadata": {
        "id": "lJRUir0IbDS9",
        "colab_type": "text"
      },
      "cell_type": "markdown",
      "source": [
        "#### Example: Birthrate Data\n",
        "As a more interesting example, let's take a look at the freely available data on births in the United States, provided by the Centers for Disease Control (CDC). This data can be found at https://raw.githubusercontent.com/jakevdp/data-CDCbirths/master/births.csv "
      ]
    },
    {
      "metadata": {
        "id": "9q1ABdp8UCnH",
        "colab_type": "code",
        "colab": {
          "base_uri": "https://localhost:8080/",
          "height": 204
        },
        "outputId": "08decc08-b084-4acf-a358-05b96a303493"
      },
      "cell_type": "code",
      "source": [
        "births = pd.read_csv('https://raw.githubusercontent.com/jakevdp/data-CDCbirths/master/births.csv')\n",
        "births.head()"
      ],
      "execution_count": 100,
      "outputs": [
        {
          "output_type": "execute_result",
          "data": {
            "text/html": [
              "<div>\n",
              "<style scoped>\n",
              "    .dataframe tbody tr th:only-of-type {\n",
              "        vertical-align: middle;\n",
              "    }\n",
              "\n",
              "    .dataframe tbody tr th {\n",
              "        vertical-align: top;\n",
              "    }\n",
              "\n",
              "    .dataframe thead th {\n",
              "        text-align: right;\n",
              "    }\n",
              "</style>\n",
              "<table border=\"1\" class=\"dataframe\">\n",
              "  <thead>\n",
              "    <tr style=\"text-align: right;\">\n",
              "      <th></th>\n",
              "      <th>year</th>\n",
              "      <th>month</th>\n",
              "      <th>day</th>\n",
              "      <th>gender</th>\n",
              "      <th>births</th>\n",
              "    </tr>\n",
              "  </thead>\n",
              "  <tbody>\n",
              "    <tr>\n",
              "      <th>0</th>\n",
              "      <td>1969</td>\n",
              "      <td>1</td>\n",
              "      <td>1.0</td>\n",
              "      <td>F</td>\n",
              "      <td>4046</td>\n",
              "    </tr>\n",
              "    <tr>\n",
              "      <th>1</th>\n",
              "      <td>1969</td>\n",
              "      <td>1</td>\n",
              "      <td>1.0</td>\n",
              "      <td>M</td>\n",
              "      <td>4440</td>\n",
              "    </tr>\n",
              "    <tr>\n",
              "      <th>2</th>\n",
              "      <td>1969</td>\n",
              "      <td>1</td>\n",
              "      <td>2.0</td>\n",
              "      <td>F</td>\n",
              "      <td>4454</td>\n",
              "    </tr>\n",
              "    <tr>\n",
              "      <th>3</th>\n",
              "      <td>1969</td>\n",
              "      <td>1</td>\n",
              "      <td>2.0</td>\n",
              "      <td>M</td>\n",
              "      <td>4548</td>\n",
              "    </tr>\n",
              "    <tr>\n",
              "      <th>4</th>\n",
              "      <td>1969</td>\n",
              "      <td>1</td>\n",
              "      <td>3.0</td>\n",
              "      <td>F</td>\n",
              "      <td>4548</td>\n",
              "    </tr>\n",
              "  </tbody>\n",
              "</table>\n",
              "</div>"
            ],
            "text/plain": [
              "   year  month  day gender  births\n",
              "0  1969      1  1.0      F    4046\n",
              "1  1969      1  1.0      M    4440\n",
              "2  1969      1  2.0      F    4454\n",
              "3  1969      1  2.0      M    4548\n",
              "4  1969      1  3.0      F    4548"
            ]
          },
          "metadata": {
            "tags": []
          },
          "execution_count": 100
        }
      ]
    },
    {
      "metadata": {
        "id": "K7tAMet4ktlW",
        "colab_type": "text"
      },
      "cell_type": "markdown",
      "source": [
        "We can start to understand this data a bit more by using a pivot table. Let's add a decade column, and take a look at male and female births as a function of decade:"
      ]
    },
    {
      "metadata": {
        "id": "mZbsJgf2UCrF",
        "colab_type": "code",
        "colab": {
          "base_uri": "https://localhost:8080/",
          "height": 235
        },
        "outputId": "4ec20a5a-e154-4b0f-c3ba-46ec73ff62ac"
      },
      "cell_type": "code",
      "source": [
        "births['decade'] = 10 * (births['year'] // 10)\n",
        "births.pivot_table('births', index='decade', columns='gender', aggfunc='sum')"
      ],
      "execution_count": 101,
      "outputs": [
        {
          "output_type": "execute_result",
          "data": {
            "text/html": [
              "<div>\n",
              "<style scoped>\n",
              "    .dataframe tbody tr th:only-of-type {\n",
              "        vertical-align: middle;\n",
              "    }\n",
              "\n",
              "    .dataframe tbody tr th {\n",
              "        vertical-align: top;\n",
              "    }\n",
              "\n",
              "    .dataframe thead th {\n",
              "        text-align: right;\n",
              "    }\n",
              "</style>\n",
              "<table border=\"1\" class=\"dataframe\">\n",
              "  <thead>\n",
              "    <tr style=\"text-align: right;\">\n",
              "      <th>gender</th>\n",
              "      <th>F</th>\n",
              "      <th>M</th>\n",
              "    </tr>\n",
              "    <tr>\n",
              "      <th>decade</th>\n",
              "      <th></th>\n",
              "      <th></th>\n",
              "    </tr>\n",
              "  </thead>\n",
              "  <tbody>\n",
              "    <tr>\n",
              "      <th>1960</th>\n",
              "      <td>1753634</td>\n",
              "      <td>1846572</td>\n",
              "    </tr>\n",
              "    <tr>\n",
              "      <th>1970</th>\n",
              "      <td>16263075</td>\n",
              "      <td>17121550</td>\n",
              "    </tr>\n",
              "    <tr>\n",
              "      <th>1980</th>\n",
              "      <td>18310351</td>\n",
              "      <td>19243452</td>\n",
              "    </tr>\n",
              "    <tr>\n",
              "      <th>1990</th>\n",
              "      <td>19479454</td>\n",
              "      <td>20420553</td>\n",
              "    </tr>\n",
              "    <tr>\n",
              "      <th>2000</th>\n",
              "      <td>18229309</td>\n",
              "      <td>19106428</td>\n",
              "    </tr>\n",
              "  </tbody>\n",
              "</table>\n",
              "</div>"
            ],
            "text/plain": [
              "gender         F         M\n",
              "decade                    \n",
              "1960     1753634   1846572\n",
              "1970    16263075  17121550\n",
              "1980    18310351  19243452\n",
              "1990    19479454  20420553\n",
              "2000    18229309  19106428"
            ]
          },
          "metadata": {
            "tags": []
          },
          "execution_count": 101
        }
      ]
    },
    {
      "metadata": {
        "id": "SJhYfdUooiGy",
        "colab_type": "text"
      },
      "cell_type": "markdown",
      "source": [
        "We immediately see that male births outnumber female births in every decade. To see this trend a bit more clearly, we can use the built-in plotting tools in Pandas to visualize the total number of births by year (see Introduction to Matplotlib for a discussion of plotting with Matplotlib):"
      ]
    },
    {
      "metadata": {
        "id": "WFB66P5uojDe",
        "colab_type": "code",
        "colab": {
          "base_uri": "https://localhost:8080/",
          "height": 361
        },
        "outputId": "5328b1dd-40c9-4997-f6d1-2c1db96e8d76"
      },
      "cell_type": "code",
      "source": [
        "%matplotlib inline\n",
        "import matplotlib.pyplot as plt\n",
        "sns.set()  # use Seaborn styles\n",
        "births.pivot_table('births', index='year', columns='gender', aggfunc='sum').plot()\n",
        "plt.ylabel('total births per year');"
      ],
      "execution_count": 102,
      "outputs": [
        {
          "output_type": "display_data",
          "data": {
            "image/png": "[encoded data removed]",
            "text/plain": [
              "<matplotlib.figure.Figure at 0x7f0cd01040b8>"
            ]
          },
          "metadata": {
            "tags": []
          }
        }
      ]
    },
    {
      "metadata": {
        "id": "1YeIX2iZqJJA",
        "colab_type": "text"
      },
      "cell_type": "markdown",
      "source": [
        "### [Vectorized String Operations](https://jakevdp.github.io/PythonDataScienceHandbook/03.10-working-with-strings.html)\n",
        "One strength of Python is its relative ease in handling and manipulating string data. Pandas builds on this and provides a comprehensive set of vectorized string operations that become an essential piece of the type of munging required when working with (read: cleaning up) real-world data. In this section, we'll walk through some of the Pandas string operations, and then take a look at using them to partially clean up a very messy dataset of recipes collected from the Internet."
      ]
    },
    {
      "metadata": {
        "id": "su3-nf75xTUc",
        "colab_type": "text"
      },
      "cell_type": "markdown",
      "source": [
        "#### Tables of Pandas String Methods\n",
        "If you have a good understanding of string manipulation in Python, most of Pandas string syntax is intuitive enough that it's probably sufficient to just list a table of available methods; we will start with that here, before diving deeper into a few of the subtleties. The examples in this section use the following series of names:"
      ]
    },
    {
      "metadata": {
        "id": "-knEn2Duxu-L",
        "colab_type": "text"
      },
      "cell_type": "markdown",
      "source": [
        "#### Methods similar to Python string methods\n",
        "Nearly all Python's built-in string methods are mirrored by a Pandas vectorized string method. Here is a list of Pandas str methods that mirror Python string methods:\n",
        "\n",
        "\n",
        "    len()\tlower()\ttranslate()\tislower()\n",
        "    ljust()\tupper()\tstartswith()\tisupper()\n",
        "    rjust()\tfind()\tendswith()\tisnumeric()\n",
        "    center()\trfind()\tisalnum()\tisdecimal()\n",
        "    zfill()\tindex()\tisalpha()\tsplit()\n",
        "    strip()\trindex()\tisdigit()\trsplit()\n",
        "    rstrip()\tcapitalize()\tisspace()\tpartition()\n",
        "    lstrip()\tswapcase()\tistitle()\trpartition()\n",
        " \n",
        "Notice that these have various return values. Some, like lower(), return a series of strings:"
      ]
    },
    {
      "metadata": {
        "id": "9j82x0LwUCvq",
        "colab_type": "code",
        "colab": {
          "base_uri": "https://localhost:8080/",
          "height": 136
        },
        "outputId": "a6eed724-23cd-4003-ff1e-94a4c1a08612"
      },
      "cell_type": "code",
      "source": [
        "monte = pd.Series(['Graham Chapman', 'John Cleese', 'Terry Gilliam',\n",
        "                   'Eric Idle', 'Terry Jones', 'Michael Palin'])\n",
        "monte"
      ],
      "execution_count": 116,
      "outputs": [
        {
          "output_type": "execute_result",
          "data": {
            "text/plain": [
              "0    Graham Chapman\n",
              "1       John Cleese\n",
              "2     Terry Gilliam\n",
              "3         Eric Idle\n",
              "4       Terry Jones\n",
              "5     Michael Palin\n",
              "dtype: object"
            ]
          },
          "metadata": {
            "tags": []
          },
          "execution_count": 116
        }
      ]
    },
    {
      "metadata": {
        "id": "hpolK1mDUC0U",
        "colab_type": "code",
        "colab": {
          "base_uri": "https://localhost:8080/",
          "height": 136
        },
        "outputId": "493d04a7-7506-4a96-f90d-0373b476af5e"
      },
      "cell_type": "code",
      "source": [
        "monte.str.lower()"
      ],
      "execution_count": 115,
      "outputs": [
        {
          "output_type": "execute_result",
          "data": {
            "text/plain": [
              "0    graham chapman\n",
              "1       john cleese\n",
              "2     terry gilliam\n",
              "3         eric idle\n",
              "4       terry jones\n",
              "5     michael palin\n",
              "dtype: object"
            ]
          },
          "metadata": {
            "tags": []
          },
          "execution_count": 115
        }
      ]
    },
    {
      "metadata": {
        "id": "wTsl-EY2UC4Z",
        "colab_type": "code",
        "colab": {
          "base_uri": "https://localhost:8080/",
          "height": 136
        },
        "outputId": "fdf5e13a-c6e6-4e15-a27e-18cca5f3c32e"
      },
      "cell_type": "code",
      "source": [
        "# But some others return numbers:\n",
        "\n",
        "monte.str.len()"
      ],
      "execution_count": 117,
      "outputs": [
        {
          "output_type": "execute_result",
          "data": {
            "text/plain": [
              "0    14\n",
              "1    11\n",
              "2    13\n",
              "3     9\n",
              "4    11\n",
              "5    13\n",
              "dtype: int64"
            ]
          },
          "metadata": {
            "tags": []
          },
          "execution_count": 117
        }
      ]
    },
    {
      "metadata": {
        "id": "av75xI9eUC8X",
        "colab_type": "code",
        "colab": {
          "base_uri": "https://localhost:8080/",
          "height": 136
        },
        "outputId": "22118458-5dc0-44d5-bb83-6c3700a6f345"
      },
      "cell_type": "code",
      "source": [
        "# Or Boolean values:\n",
        "\n",
        "monte.str.startswith('T')"
      ],
      "execution_count": 118,
      "outputs": [
        {
          "output_type": "execute_result",
          "data": {
            "text/plain": [
              "0    False\n",
              "1    False\n",
              "2     True\n",
              "3    False\n",
              "4     True\n",
              "5    False\n",
              "dtype: bool"
            ]
          },
          "metadata": {
            "tags": []
          },
          "execution_count": 118
        }
      ]
    },
    {
      "metadata": {
        "id": "jKpzieFDUDER",
        "colab_type": "code",
        "colab": {
          "base_uri": "https://localhost:8080/",
          "height": 136
        },
        "outputId": "a4558354-7fff-40a4-b2d1-9c0f52afc15e"
      },
      "cell_type": "code",
      "source": [
        "# Still others return lists or other compound values for each element:\n",
        "\n",
        "monte.str.split()"
      ],
      "execution_count": 119,
      "outputs": [
        {
          "output_type": "execute_result",
          "data": {
            "text/plain": [
              "0    [Graham, Chapman]\n",
              "1       [John, Cleese]\n",
              "2     [Terry, Gilliam]\n",
              "3         [Eric, Idle]\n",
              "4       [Terry, Jones]\n",
              "5     [Michael, Palin]\n",
              "dtype: object"
            ]
          },
          "metadata": {
            "tags": []
          },
          "execution_count": 119
        }
      ]
    },
    {
      "metadata": {
        "id": "nOH5ml1a8dKb",
        "colab_type": "text"
      },
      "cell_type": "markdown",
      "source": [
        "#### Methods using regular expressions\n",
        "In addition, there are several methods that accept regular expressions to examine the content of each string element, and follow some of the API conventions of Python's built-in re module:\n",
        "\n",
        "    Method\tDescription\n",
        "    match()\tCall re.match() on each element, returning a boolean.\n",
        "    extract()\tCall re.match() on each element, returning matched groups as strings.\n",
        "    findall()\tCall re.findall() on each element\n",
        "    replace()\tReplace occurrences of pattern with some other string\n",
        "    contains()\tCall re.search() on each element, returning a boolean\n",
        "    count()\tCount occurrences of pattern\n",
        "    split()\tEquivalent to str.split(), but accepts regexps\n",
        "    rsplit()\tEquivalent to str.rsplit(), but accepts regexps\n",
        "    \n",
        "With these, you can do a wide range of interesting operations. For example, we can extract the first name from each by asking for a contiguous group of characters at the beginning of each element:"
      ]
    },
    {
      "metadata": {
        "id": "qFxvJsci9cSJ",
        "colab_type": "code",
        "colab": {
          "base_uri": "https://localhost:8080/",
          "height": 136
        },
        "outputId": "be280ec6-15d9-4783-cdb1-f5b2890b3991"
      },
      "cell_type": "code",
      "source": [
        "monte.str.extract('([A-Za-z]+)', expand=False)"
      ],
      "execution_count": 120,
      "outputs": [
        {
          "output_type": "execute_result",
          "data": {
            "text/plain": [
              "0     Graham\n",
              "1       John\n",
              "2      Terry\n",
              "3       Eric\n",
              "4      Terry\n",
              "5    Michael\n",
              "dtype: object"
            ]
          },
          "metadata": {
            "tags": []
          },
          "execution_count": 120
        }
      ]
    },
    {
      "metadata": {
        "id": "fy1r3l-v9iEJ",
        "colab_type": "text"
      },
      "cell_type": "markdown",
      "source": [
        "Or we can do something more complicated, like finding all names that start and end with a consonant, making use of the ``start-of-string`` (^) and ``end-of-string`` ($) regular expression characters:"
      ]
    },
    {
      "metadata": {
        "id": "a_lRN3YJ9o7w",
        "colab_type": "code",
        "colab": {}
      },
      "cell_type": "code",
      "source": [
        "monte.str.findall(r'^[^AEIOU].*[^aeiou]$')"
      ],
      "execution_count": 0,
      "outputs": []
    },
    {
      "metadata": {
        "id": "1DGiAnOI9xTO",
        "colab_type": "text"
      },
      "cell_type": "markdown",
      "source": [
        "The ability to concisely apply regular expressions across Series or Dataframe entries opens up many possibilities for analysis and cleaning of data."
      ]
    },
    {
      "metadata": {
        "id": "V_rCQfZM90gz",
        "colab_type": "text"
      },
      "cell_type": "markdown",
      "source": [
        "#### Miscellaneous methods\n",
        "Finally, there are some miscellaneous methods that enable other convenient operations:\n",
        "\n",
        "    Method\tDescription\n",
        "    get()\tIndex each element\n",
        "    slice()\tSlice each element\n",
        "    slice_replace()\tReplace slice in each element with passed value\n",
        "    cat()\tConcatenate strings\n",
        "    repeat()\tRepeat values\n",
        "    normalize()\tReturn Unicode form of string\n",
        "    pad()\tAdd whitespace to left, right, or both sides of strings\n",
        "    wrap()\tSplit long strings into lines with length less than a given width\n",
        "    join()\tJoin strings in each element of the Series with passed separator\n",
        "    get_dummies()\textract dummy variables as a dataframe"
      ]
    },
    {
      "metadata": {
        "id": "ChxF630r-Kuc",
        "colab_type": "text"
      },
      "cell_type": "markdown",
      "source": [
        "#### Vectorized item access and slicing\n",
        "The get() and slice() operations, in particular, enable vectorized element access from each array. For example, we can get a slice of the first three characters of each array using str.slice(0, 3). Note that this behavior is also available through Python's normal indexing syntax–for example, df.str.slice(0, 3) is equivalent to df.str[0:3]:\n"
      ]
    },
    {
      "metadata": {
        "id": "CnLs9NKp-PoT",
        "colab_type": "code",
        "colab": {
          "base_uri": "https://localhost:8080/",
          "height": 136
        },
        "outputId": "e2879181-9314-4598-f7b9-204d3d514131"
      },
      "cell_type": "code",
      "source": [
        "monte.str[0:3]"
      ],
      "execution_count": 121,
      "outputs": [
        {
          "output_type": "execute_result",
          "data": {
            "text/plain": [
              "0    Gra\n",
              "1    Joh\n",
              "2    Ter\n",
              "3    Eri\n",
              "4    Ter\n",
              "5    Mic\n",
              "dtype: object"
            ]
          },
          "metadata": {
            "tags": []
          },
          "execution_count": 121
        }
      ]
    },
    {
      "metadata": {
        "id": "wWVhbGqp-ayS",
        "colab_type": "text"
      },
      "cell_type": "markdown",
      "source": [
        "Indexing via df.str.get(i) and df.str[i] is likewise similar.\n",
        "\n",
        "These get() and slice() methods also let you access elements of arrays returned by split(). For example, to extract the last name of each entry, we can combine split() and get():"
      ]
    },
    {
      "metadata": {
        "id": "ftViTV-c-fSi",
        "colab_type": "code",
        "colab": {
          "base_uri": "https://localhost:8080/",
          "height": 136
        },
        "outputId": "af0dc3b6-585a-4a28-bd7d-b07c8b9def07"
      },
      "cell_type": "code",
      "source": [
        "monte.str.split().str.get(-1)"
      ],
      "execution_count": 122,
      "outputs": [
        {
          "output_type": "execute_result",
          "data": {
            "text/plain": [
              "0    Chapman\n",
              "1     Cleese\n",
              "2    Gilliam\n",
              "3       Idle\n",
              "4      Jones\n",
              "5      Palin\n",
              "dtype: object"
            ]
          },
          "metadata": {
            "tags": []
          },
          "execution_count": 122
        }
      ]
    },
    {
      "metadata": {
        "id": "mp04YaAT-er5",
        "colab_type": "text"
      },
      "cell_type": "markdown",
      "source": [
        "#### Indicator variables\n",
        "Another method that requires a bit of extra explanation is the get_dummies() method. This is useful when your data has a column containing some sort of coded indicator. For example, we might have a dataset that contains information in the form of codes, such as A=\"born in America,\" B=\"born in the United Kingdom,\" C=\"likes cheese,\" D=\"likes spam\":"
      ]
    },
    {
      "metadata": {
        "id": "ELSKEBQs-p76",
        "colab_type": "code",
        "colab": {
          "base_uri": "https://localhost:8080/",
          "height": 235
        },
        "outputId": "ced52b8b-3683-419b-b268-7d59162962e4"
      },
      "cell_type": "code",
      "source": [
        "full_monte = pd.DataFrame({'name': monte,\n",
        "                           'info': ['B|C|D', 'B|D', 'A|C',\n",
        "                                    'B|D', 'B|C', 'B|C|D']})\n",
        "full_monte"
      ],
      "execution_count": 124,
      "outputs": [
        {
          "output_type": "execute_result",
          "data": {
            "text/html": [
              "<div>\n",
              "<style scoped>\n",
              "    .dataframe tbody tr th:only-of-type {\n",
              "        vertical-align: middle;\n",
              "    }\n",
              "\n",
              "    .dataframe tbody tr th {\n",
              "        vertical-align: top;\n",
              "    }\n",
              "\n",
              "    .dataframe thead th {\n",
              "        text-align: right;\n",
              "    }\n",
              "</style>\n",
              "<table border=\"1\" class=\"dataframe\">\n",
              "  <thead>\n",
              "    <tr style=\"text-align: right;\">\n",
              "      <th></th>\n",
              "      <th>info</th>\n",
              "      <th>name</th>\n",
              "    </tr>\n",
              "  </thead>\n",
              "  <tbody>\n",
              "    <tr>\n",
              "      <th>0</th>\n",
              "      <td>B|C|D</td>\n",
              "      <td>Graham Chapman</td>\n",
              "    </tr>\n",
              "    <tr>\n",
              "      <th>1</th>\n",
              "      <td>B|D</td>\n",
              "      <td>John Cleese</td>\n",
              "    </tr>\n",
              "    <tr>\n",
              "      <th>2</th>\n",
              "      <td>A|C</td>\n",
              "      <td>Terry Gilliam</td>\n",
              "    </tr>\n",
              "    <tr>\n",
              "      <th>3</th>\n",
              "      <td>B|D</td>\n",
              "      <td>Eric Idle</td>\n",
              "    </tr>\n",
              "    <tr>\n",
              "      <th>4</th>\n",
              "      <td>B|C</td>\n",
              "      <td>Terry Jones</td>\n",
              "    </tr>\n",
              "    <tr>\n",
              "      <th>5</th>\n",
              "      <td>B|C|D</td>\n",
              "      <td>Michael Palin</td>\n",
              "    </tr>\n",
              "  </tbody>\n",
              "</table>\n",
              "</div>"
            ],
            "text/plain": [
              "    info            name\n",
              "0  B|C|D  Graham Chapman\n",
              "1    B|D     John Cleese\n",
              "2    A|C   Terry Gilliam\n",
              "3    B|D       Eric Idle\n",
              "4    B|C     Terry Jones\n",
              "5  B|C|D   Michael Palin"
            ]
          },
          "metadata": {
            "tags": []
          },
          "execution_count": 124
        }
      ]
    },
    {
      "metadata": {
        "id": "b7gNDJAGAYDw",
        "colab_type": "text"
      },
      "cell_type": "markdown",
      "source": [
        "The get_dummies() routine lets you quickly split-out these indicator variables into a DataFrame:"
      ]
    },
    {
      "metadata": {
        "id": "aPz8IKGeAZL3",
        "colab_type": "code",
        "colab": {
          "base_uri": "https://localhost:8080/",
          "height": 235
        },
        "outputId": "6e0ea123-be4b-434d-b39c-f266b18e8bec"
      },
      "cell_type": "code",
      "source": [
        "full_monte['info'].str.get_dummies('|')"
      ],
      "execution_count": 125,
      "outputs": [
        {
          "output_type": "execute_result",
          "data": {
            "text/html": [
              "<div>\n",
              "<style scoped>\n",
              "    .dataframe tbody tr th:only-of-type {\n",
              "        vertical-align: middle;\n",
              "    }\n",
              "\n",
              "    .dataframe tbody tr th {\n",
              "        vertical-align: top;\n",
              "    }\n",
              "\n",
              "    .dataframe thead th {\n",
              "        text-align: right;\n",
              "    }\n",
              "</style>\n",
              "<table border=\"1\" class=\"dataframe\">\n",
              "  <thead>\n",
              "    <tr style=\"text-align: right;\">\n",
              "      <th></th>\n",
              "      <th>A</th>\n",
              "      <th>B</th>\n",
              "      <th>C</th>\n",
              "      <th>D</th>\n",
              "    </tr>\n",
              "  </thead>\n",
              "  <tbody>\n",
              "    <tr>\n",
              "      <th>0</th>\n",
              "      <td>0</td>\n",
              "      <td>1</td>\n",
              "      <td>1</td>\n",
              "      <td>1</td>\n",
              "    </tr>\n",
              "    <tr>\n",
              "      <th>1</th>\n",
              "      <td>0</td>\n",
              "      <td>1</td>\n",
              "      <td>0</td>\n",
              "      <td>1</td>\n",
              "    </tr>\n",
              "    <tr>\n",
              "      <th>2</th>\n",
              "      <td>1</td>\n",
              "      <td>0</td>\n",
              "      <td>1</td>\n",
              "      <td>0</td>\n",
              "    </tr>\n",
              "    <tr>\n",
              "      <th>3</th>\n",
              "      <td>0</td>\n",
              "      <td>1</td>\n",
              "      <td>0</td>\n",
              "      <td>1</td>\n",
              "    </tr>\n",
              "    <tr>\n",
              "      <th>4</th>\n",
              "      <td>0</td>\n",
              "      <td>1</td>\n",
              "      <td>1</td>\n",
              "      <td>0</td>\n",
              "    </tr>\n",
              "    <tr>\n",
              "      <th>5</th>\n",
              "      <td>0</td>\n",
              "      <td>1</td>\n",
              "      <td>1</td>\n",
              "      <td>1</td>\n",
              "    </tr>\n",
              "  </tbody>\n",
              "</table>\n",
              "</div>"
            ],
            "text/plain": [
              "   A  B  C  D\n",
              "0  0  1  1  1\n",
              "1  0  1  0  1\n",
              "2  1  0  1  0\n",
              "3  0  1  0  1\n",
              "4  0  1  1  0\n",
              "5  0  1  1  1"
            ]
          },
          "metadata": {
            "tags": []
          },
          "execution_count": 125
        }
      ]
    },
    {
      "metadata": {
        "id": "NtHtjmDeIm49",
        "colab_type": "text"
      },
      "cell_type": "markdown",
      "source": [
        "With these operations as building blocks, you can construct an endless range of string processing procedures when cleaning your data.\n",
        "\n",
        "We won't dive further into these methods here, but I encourage you to read through \"[Working with Text Data](http://pandas.pydata.org/pandas-docs/stable/text.html)\" in the Pandas online documentation, or to refer to the resources listed in [Further Resources](https://jakevdp.github.io/PythonDataScienceHandbook/03.13-further-resources.html)."
      ]
    },
    {
      "metadata": {
        "id": "OjNBeaYoLbbK",
        "colab_type": "code",
        "colab": {}
      },
      "cell_type": "code",
      "source": [
        ""
      ],
      "execution_count": 0,
      "outputs": []
    },
    {
      "metadata": {
        "id": "RQa-RlkwObxd",
        "colab_type": "text"
      },
      "cell_type": "markdown",
      "source": [
        "### [Working with Time Series](https://jakevdp.github.io/PythonDataScienceHandbook/03.11-working-with-time-series.html)\n"
      ]
    }
  ]
}