{
  "nbformat": 4,
  "nbformat_minor": 0,
  "metadata": {
    "colab": {
      "name": "PythonDataScienceHandbook-by-jakevdp-Data-Manipulation-with-Pandas.ipynb",
      "version": "0.3.2",
      "provenance": [],
      "collapsed_sections": [],
      "include_colab_link": true
    },
    "kernelspec": {
      "name": "python3",
      "display_name": "Python 3"
    }
  },
  "cells": [
    {
      "cell_type": "markdown",
      "metadata": {
        "id": "view-in-github",
        "colab_type": "text"
      },
      "source": [
        "[View in Colaboratory](https://colab.research.google.com/github/raviudal/Jupyter-Notebooks/blob/master/PythonDataScienceHandbook_by_jakevdp_Data_Manipulation_with_Pandas.ipynb)"
      ]
    },
    {
      "metadata": {
        "id": "EJJuk_ikWN_F",
        "colab_type": "text"
      },
      "cell_type": "markdown",
      "source": [
        "### [Introducing Pandas Objects](https://jakevdp.github.io/PythonDataScienceHandbook/03.01-introducing-pandas-objects.html)\n",
        "There are three fundamental Pandas data structures:**Series, DataFrame, and Index**."
      ]
    },
    {
      "metadata": {
        "id": "FWu3y56ejRgv",
        "colab_type": "code",
        "colab": {}
      },
      "cell_type": "code",
      "source": [
        "import numpy as np\n",
        "import pandas as pd"
      ],
      "execution_count": 0,
      "outputs": []
    },
    {
      "metadata": {
        "id": "nw9fYBlxTPLb",
        "colab_type": "code",
        "colab": {
          "base_uri": "https://localhost:8080/",
          "height": 289
        },
        "outputId": "23d224de-d3a6-4e21-e1b4-b76395a0a418"
      },
      "cell_type": "code",
      "source": [
        "# Pandas Series = A Pandas Series is a one-dimensional array of indexed data. \n",
        "data = pd.Series([0.25, 0.5, 0.75, 1.0])\n",
        "print('data.values: ', data.values)\n",
        "print('data.index : ', data.index)\n",
        "# We can access series values just like lists using its index\n",
        "print('data[1]: ',data[1])  # If we want we can do slicing on it also\n",
        "\n",
        "# We can have alphabetical index also.\n",
        "data = pd.Series([0.25, 0.5, 0.75, 1.0], index=['a', 'b', 'c', 'd'])\n",
        "print('\\nData series with character indexes:\\n{}'.format(data))\n",
        "\n",
        "\n",
        "## Pandas DataFrame Object\n",
        "# If a Series is an analog of a one-dimensional array with flexible indices, a DataFrame is an analog of a two-dimensional array with both flexible row \n",
        "# indices and flexible column names. Just as you might think of a two-dimensional array as an ordered sequence of aligned one-dimensional columns, \n",
        "# you can think of a DataFrame as a sequence of aligned Series objects\n",
        "area = {'California': 423967, 'Texas': 695662, 'New York': 141297, 'Florida': 170312, 'Illinois': 149995}\n",
        "population = [9865986,5958568,6366966,966966,99699966]\n",
        "area = pd.Series(area)\n",
        "\n",
        "print(pd.DataFrame({'Area':area, 'Pop': population}))\n",
        "\n",
        "\n",
        "\n",
        "\n",
        "\n"
      ],
      "execution_count": 12,
      "outputs": [
        {
          "output_type": "stream",
          "text": [
            "data.values:  [0.25 0.5  0.75 1.  ]\n",
            "data.index :  RangeIndex(start=0, stop=4, step=1)\n",
            "data[1]:  0.5\n",
            "\n",
            "Data series with character indexes:\n",
            "a    0.25\n",
            "b    0.50\n",
            "c    0.75\n",
            "d    1.00\n",
            "dtype: float64\n",
            "              Area       Pop\n",
            "California  423967   9865986\n",
            "Florida     170312   5958568\n",
            "Illinois    149995   6366966\n",
            "New York    141297    966966\n",
            "Texas       695662  99699966\n"
          ],
          "name": "stdout"
        }
      ]
    },
    {
      "metadata": {
        "id": "sYZNfb2u2abn",
        "colab_type": "text"
      },
      "cell_type": "markdown",
      "source": [
        "[Data Indexing and Selection](https://jakevdp.github.io/PythonDataScienceHandbook/03.02-data-indexing-and-selection.html)\n"
      ]
    },
    {
      "metadata": {
        "id": "6G2d2sHf3ra5",
        "colab_type": "code",
        "colab": {
          "base_uri": "https://localhost:8080/",
          "height": 119
        },
        "outputId": "929f94ef-4741-4cea-c717-127e5b3be2bd"
      },
      "cell_type": "code",
      "source": [
        "# Series selection\n",
        "print('\\'a\\' in data: ', 'a' in data)\n",
        "print('data[\\'a\\':\\'c\\']: Selecting data from a to c\\n{}'.format(data['a':'c']))\n"
      ],
      "execution_count": 21,
      "outputs": [
        {
          "output_type": "stream",
          "text": [
            "'a' in data:  True\n",
            "data['a':'c']: Selecting data from a to c\n",
            "a    0.25\n",
            "b    0.50\n",
            "c    0.75\n",
            "dtype: float64\n"
          ],
          "name": "stdout"
        }
      ]
    }
  ]
}