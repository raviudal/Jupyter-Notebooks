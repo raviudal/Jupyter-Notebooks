{
  "nbformat": 4,
  "nbformat_minor": 0,
  "metadata": {
    "colab": {
      "name": "Machine learning with sklearn book by Gavin Hackeling.ipynb",
      "version": "0.3.2",
      "provenance": [],
      "collapsed_sections": [],
      "include_colab_link": true
    },
    "kernelspec": {
      "name": "python3",
      "display_name": "Python 3"
    }
  },
  "cells": [
    {
      "cell_type": "markdown",
      "metadata": {
        "id": "view-in-github",
        "colab_type": "text"
      },
      "source": [
        "[View in Colaboratory](https://colab.research.google.com/github/raviudal/Jupyter-Notebooks/blob/master/Machine_learning_with_sklearn_book_by_Gavin_Hackeling.ipynb)"
      ]
    },
    {
      "metadata": {
        "id": "FxXJc_LTca2k",
        "colab_type": "text"
      },
      "cell_type": "markdown",
      "source": [
        "## Mastering Machine Learning with scikit-learn. A book by Gavin Hackeling published by packt publication."
      ]
    },
    {
      "metadata": {
        "id": "imbcGNTE4Ibx",
        "colab_type": "text"
      },
      "cell_type": "markdown",
      "source": [
        "### Chapter 2: Simple Linear Regression"
      ]
    },
    {
      "metadata": {
        "id": "7p-EYRCf4JW9",
        "colab_type": "code",
        "colab": {}
      },
      "cell_type": "code",
      "source": [
        "import numpy as np\n",
        "import matplotlib.pyplot as plt\n",
        "\n",
        "%matplotlib inline"
      ],
      "execution_count": 0,
      "outputs": []
    },
    {
      "metadata": {
        "id": "FaJvR40l5JkL",
        "colab_type": "code",
        "colab": {
          "base_uri": "https://localhost:8080/",
          "height": 282
        },
        "outputId": "e1170275-c0be-4d75-9c05-a19aca8de37a"
      },
      "cell_type": "code",
      "source": [
        "# Price of pizza \n",
        "X = np.array([[6],[8],[10],[14],[18]])\n",
        "y = [7,9,13,17.5,18]\n",
        "plt.scatter(X,y)"
      ],
      "execution_count": 13,
      "outputs": [
        {
          "output_type": "execute_result",
          "data": {
            "text/plain": [
              "<matplotlib.collections.PathCollection at 0x7f173fdab0f0>"
            ]
          },
          "metadata": {
            "tags": []
          },
          "execution_count": 13
        },
        {
          "output_type": "display_data",
          "data": {
            "image/png": "[encoded data removed]",
            "text/plain": [
              "<matplotlib.figure.Figure at 0x7f173fe2a1d0>"
            ]
          },
          "metadata": {
            "tags": []
          }
        }
      ]
    },
    {
      "metadata": {
        "id": "jrUScDFKGd1z",
        "colab_type": "code",
        "colab": {}
      },
      "cell_type": "code",
      "source": [
        "from sklearn.linear_model import LinearRegression\n",
        "li_reg = LinearRegression()\n",
        "li_reg.fit(X,y)\n",
        "r = range(1,19)\n",
        "a = []\n",
        "for i in r:\n",
        "  a.append(li_reg.predict([[i]]))\n",
        "  \n"
      ],
      "execution_count": 0,
      "outputs": []
    },
    {
      "metadata": {
        "id": "fjd2YARmGgvB",
        "colab_type": "code",
        "colab": {
          "base_uri": "https://localhost:8080/",
          "height": 282
        },
        "outputId": "bb5d8855-88b8-46cb-97fb-f2c9520eaf81"
      },
      "cell_type": "code",
      "source": [
        "plt.plot(a)\n",
        "plt.scatter(X,y)"
      ],
      "execution_count": 18,
      "outputs": [
        {
          "output_type": "execute_result",
          "data": {
            "text/plain": [
              "<matplotlib.collections.PathCollection at 0x7f173cd1cdd8>"
            ]
          },
          "metadata": {
            "tags": []
          },
          "execution_count": 18
        },
        {
          "output_type": "display_data",
          "data": {
            "image/png": "[encoded data removed]",
            "text/plain": [
              "<matplotlib.figure.Figure at 0x7f173cd7b860>"
            ]
          },
          "metadata": {
            "tags": []
          }
        }
      ]
    },
    {
      "metadata": {
        "id": "oJmeURYc6X7q",
        "colab_type": "text"
      },
      "cell_type": "markdown",
      "source": [
        "### KNN   (K-Nearest Neighbors)"
      ]
    },
    {
      "metadata": {
        "id": "Q4TXRENPGgzO",
        "colab_type": "code",
        "colab": {}
      },
      "cell_type": "code",
      "source": [
        "# The hyperparameter k specifies how many neighbors can be used in the estimation\n",
        "# The k neighbors that are selected are those that are nearest to the test instance, as measured by some distance function\n",
        "# The k is often set to an odd number to prevent ties.\n",
        "# In regression tasks, the feature vectors are each associated with a response variable that takes a real- valued scalar instead of a label.\n",
        "# The prediction is the mean or weighted mean of the KNN response variables.\n",
        "# KNN is a lazy learner. Also known as instance-based learners, lazy learners simply store the training dataset with little or no processing\n",
        "# KNN is a non-parametric model\n",
        "# A parametric model uses a fixed number of parameters, or coefficients, to define the model that summarizes the data\n",
        "# Non-parametric means that the number of parameters of the model is not fixed, and may grow with the number of training instances\n",
        "# Non-parametric models can be useful when training data is abundant and you have little prior knowledge about the relationship between the response and explanatory variables.\n",
        "# \n",
        "# \n",
        "# \n",
        "# \n",
        "# \n",
        "# \n",
        "# \n",
        "# "
      ],
      "execution_count": 0,
      "outputs": []
    },
    {
      "metadata": {
        "id": "F5gSqC2NGg2t",
        "colab_type": "code",
        "colab": {}
      },
      "cell_type": "code",
      "source": [
        "# Making test data\n",
        "X = np.array([[158,64],[170,86],[183,84],[191,80],[155,48],[163,59],[180,67],[158,54],[170,64]])\n",
        "y = ['m','m','m','m','f','f','f','f','f']"
      ],
      "execution_count": 0,
      "outputs": []
    },
    {
      "metadata": {
        "id": "mY9K4BJuGg6Q",
        "colab_type": "code",
        "colab": {
          "base_uri": "https://localhost:8080/",
          "height": 166
        },
        "outputId": "f4a146f3-7fd9-4d5e-8a13-f25636a94690"
      },
      "cell_type": "code",
      "source": [
        "plt.scatter(X)"
      ],
      "execution_count": 9,
      "outputs": [
        {
          "output_type": "error",
          "ename": "TypeError",
          "evalue": "ignored",
          "traceback": [
            "\u001b[0;31m---------------------------------------------------------------------------\u001b[0m",
            "\u001b[0;31mTypeError\u001b[0m                                 Traceback (most recent call last)",
            "\u001b[0;32m<ipython-input-9-e7b33e76da64>\u001b[0m in \u001b[0;36m<module>\u001b[0;34m()\u001b[0m\n\u001b[0;32m----> 1\u001b[0;31m \u001b[0mplt\u001b[0m\u001b[0;34m.\u001b[0m\u001b[0mscatter\u001b[0m\u001b[0;34m(\u001b[0m\u001b[0mX\u001b[0m\u001b[0;34m)\u001b[0m\u001b[0;34m\u001b[0m\u001b[0m\n\u001b[0m",
            "\u001b[0;31mTypeError\u001b[0m: scatter() missing 1 required positional argument: 'y'"
          ]
        }
      ]
    },
    {
      "metadata": {
        "id": "6Qv2ZaQhGg9P",
        "colab_type": "code",
        "colab": {}
      },
      "cell_type": "code",
      "source": [
        ""
      ],
      "execution_count": 0,
      "outputs": []
    },
    {
      "metadata": {
        "id": "yIQxD52NGhAF",
        "colab_type": "code",
        "colab": {}
      },
      "cell_type": "code",
      "source": [
        ""
      ],
      "execution_count": 0,
      "outputs": []
    }
  ]
}